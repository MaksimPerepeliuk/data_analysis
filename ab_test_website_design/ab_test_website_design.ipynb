{
 "cells": [
  {
   "cell_type": "markdown",
   "id": "6e137cba",
   "metadata": {
    "toc": true
   },
   "source": [
    "<h1>Содержание<span class=\"tocSkip\"></span></h1>\n",
    "<div class=\"toc\"><ul class=\"toc-item\"><li><span><a href=\"#Задачи\" data-toc-modified-id=\"Задачи-1\"><span class=\"toc-item-num\">1&nbsp;&nbsp;</span>Задачи</a></span></li><li><span><a href=\"#Расчет-размеров-выборок\" data-toc-modified-id=\"Расчет-размеров-выборок-2\"><span class=\"toc-item-num\">2&nbsp;&nbsp;</span>Расчет размеров выборок</a></span></li><li><span><a href=\"#Полученные-данные\" data-toc-modified-id=\"Полученные-данные-3\"><span class=\"toc-item-num\">3&nbsp;&nbsp;</span>Полученные данные</a></span></li><li><span><a href=\"#Предобработка-данных-теста\" data-toc-modified-id=\"Предобработка-данных-теста-4\"><span class=\"toc-item-num\">4&nbsp;&nbsp;</span>Предобработка данных теста</a></span><ul class=\"toc-item\"><li><span><a href=\"#Проверим-наличие-пропусков\" data-toc-modified-id=\"Проверим-наличие-пропусков-4.1\"><span class=\"toc-item-num\">4.1&nbsp;&nbsp;</span>Проверим наличие пропусков</a></span></li><li><span><a href=\"#Проверим-наличие-дубликатов-и-пересечений-пользователей-в-группах\" data-toc-modified-id=\"Проверим-наличие-дубликатов-и-пересечений-пользователей-в-группах-4.2\"><span class=\"toc-item-num\">4.2&nbsp;&nbsp;</span>Проверим наличие дубликатов и пересечений пользователей в группах</a></span></li><li><span><a href=\"#Время-затраченное-на-проведение-теста\" data-toc-modified-id=\"Время-затраченное-на-проведение-теста-4.3\"><span class=\"toc-item-num\">4.3&nbsp;&nbsp;</span>Время затраченное на проведение теста</a></span></li></ul></li><li><span><a href=\"#Анализ-результатов-теста\" data-toc-modified-id=\"Анализ-результатов-теста-5\"><span class=\"toc-item-num\">5&nbsp;&nbsp;</span>Анализ результатов теста</a></span><ul class=\"toc-item\"><li><span><a href=\"#Рассчитаем-достигнутый-эффект\" data-toc-modified-id=\"Рассчитаем-достигнутый-эффект-5.1\"><span class=\"toc-item-num\">5.1&nbsp;&nbsp;</span>Рассчитаем достигнутый эффект</a></span></li><li><span><a href=\"#Посмотрим-на-график-кумулятивной-конверсии-по-группам\" data-toc-modified-id=\"Посмотрим-на-график-кумулятивной-конверсии-по-группам-5.2\"><span class=\"toc-item-num\">5.2&nbsp;&nbsp;</span>Посмотрим на график кумулятивной конверсии по группам</a></span></li><li><span><a href=\"#Посмотрим-на-распределение-значений-конверсий-по-группам\" data-toc-modified-id=\"Посмотрим-на-распределение-значений-конверсий-по-группам-5.3\"><span class=\"toc-item-num\">5.3&nbsp;&nbsp;</span>Посмотрим на распределение значений конверсий по группам</a></span></li></ul></li><li><span><a href=\"#Проверка-гипотез\" data-toc-modified-id=\"Проверка-гипотез-6\"><span class=\"toc-item-num\">6&nbsp;&nbsp;</span>Проверка гипотез</a></span><ul class=\"toc-item\"><li><span><a href=\"#Сформулируем-гипотезы\" data-toc-modified-id=\"Сформулируем-гипотезы-6.1\"><span class=\"toc-item-num\">6.1&nbsp;&nbsp;</span>Сформулируем гипотезы</a></span></li><li><span><a href=\"#Выберем-критерий-и-проведем-тест\" data-toc-modified-id=\"Выберем-критерий-и-проведем-тест-6.2\"><span class=\"toc-item-num\">6.2&nbsp;&nbsp;</span>Выберем критерий и проведем тест</a></span></li></ul></li><li><span><a href=\"#Выводы\" data-toc-modified-id=\"Выводы-7\"><span class=\"toc-item-num\">7&nbsp;&nbsp;</span>Выводы</a></span></li></ul></div>"
   ]
  },
  {
   "cell_type": "markdown",
   "id": "19059cbc",
   "metadata": {},
   "source": [
    "# A/B тестирование нового дизайна продающей страницы сайта"
   ]
  },
  {
   "cell_type": "markdown",
   "id": "199b1e65",
   "metadata": {},
   "source": [
    "На сайте по продаже книг есть раздел с предложениями о покупке набора сразу из нескольких книг по более выгодной цене, чем при покупке их по отдельности.\n",
    "\n",
    "Дизайнером сайта было предложено изменить эту страницу, так как по его мнению она слишком громоздкая и отпугивает некоторых потенциальных покупателей\n",
    "\n",
    "Для принятия решения о внедрении нового дизайна было принято решение провести A/B тест. Так как у нас имеются данные о конверсии с данной страницы в 15%, мы рассчитали, что нам будет выгодно увеличение конверсии до 15.5%"
   ]
  },
  {
   "cell_type": "markdown",
   "id": "3c31c216",
   "metadata": {},
   "source": [
    "## Задачи\n",
    "\n",
    "- Рассчет размера выборки, по достижению которой мы остановим тест;\n",
    "- Анализ результатов A/B тестирования и проверка гипотез о значимой разницы конверсий в группах теста."
   ]
  },
  {
   "cell_type": "markdown",
   "id": "f0fffbe9",
   "metadata": {},
   "source": [
    "## Расчет размеров выборок"
   ]
  },
  {
   "cell_type": "code",
   "execution_count": 1,
   "id": "0d2f840c",
   "metadata": {},
   "outputs": [],
   "source": [
    "import pandas as pd\n",
    "import numpy as np\n",
    "import matplotlib.pyplot as plt\n",
    "import seaborn as sns\n",
    "import statsmodels.stats.api as sm\n",
    "from statsmodels.stats.proportion import proportions_ztest"
   ]
  },
  {
   "cell_type": "markdown",
   "id": "249dcd40",
   "metadata": {},
   "source": [
    "Перед началом теста нам нужно рассчитать размеры выборок, по достижению которых мы сможем остановить тест, с учетом желаемого уровня прироста конверсии в 0.5 (в абсолютной величине с 0.15 до 0.155) с уровнем значимости в 5% и мощностью теста в 80%"
   ]
  },
  {
   "cell_type": "code",
   "execution_count": 2,
   "id": "763c9829",
   "metadata": {},
   "outputs": [
    {
     "data": {
      "text/plain": [
       "3.33"
      ]
     },
     "execution_count": 2,
     "metadata": {},
     "output_type": "execute_result"
    }
   ],
   "source": [
    "round((0.155 - 0.150) / 0.150 * 100, 2)"
   ]
  },
  {
   "cell_type": "markdown",
   "id": "be4c9936",
   "metadata": {},
   "source": [
    "Минимальное ожидаемое увеличение конверсии контрольной группы, относительно тестовой должно быть более 3.33%"
   ]
  },
  {
   "cell_type": "code",
   "execution_count": 3,
   "id": "4b365b39",
   "metadata": {},
   "outputs": [
    {
     "data": {
      "text/plain": [
       "81148"
      ]
     },
     "execution_count": 3,
     "metadata": {},
     "output_type": "execute_result"
    }
   ],
   "source": [
    "effect_size = sm.proportion_effectsize(0.15, 0.155) \n",
    "\n",
    "round(sm.NormalIndPower().solve_power(\n",
    "    effect_size, \n",
    "    power=0.8, \n",
    "    alpha=0.05\n",
    "))"
   ]
  },
  {
   "cell_type": "markdown",
   "id": "27e16a82",
   "metadata": {},
   "source": [
    "Для вышеуказанных параметров нам потребуется по 81148 наблюдений в каждой группе теста. Так как дневное среднее количество активных пользователей DAU = 13750, нам потребуется около 12 дней для проведения теста"
   ]
  },
  {
   "cell_type": "markdown",
   "id": "7452b2fe",
   "metadata": {},
   "source": [
    "## Полученные данные"
   ]
  },
  {
   "cell_type": "markdown",
   "id": "eb714d75",
   "metadata": {},
   "source": [
    "`user_id` - идентификатор пользователя  \n",
    "`timestamp` - дата перехода на страницу с предложениями  \n",
    "`group` - группы теста  \n",
    "`converted` - была ли совершена покупка"
   ]
  },
  {
   "cell_type": "markdown",
   "id": "3bef4eed",
   "metadata": {},
   "source": [
    "## Предобработка данных теста"
   ]
  },
  {
   "cell_type": "code",
   "execution_count": 4,
   "id": "c99ec8e7",
   "metadata": {},
   "outputs": [],
   "source": [
    "df = pd.read_csv('./ab_data.csv', index_col=0)"
   ]
  },
  {
   "cell_type": "code",
   "execution_count": 5,
   "id": "0726167d",
   "metadata": {},
   "outputs": [
    {
     "data": {
      "text/html": [
       "<div>\n",
       "<style scoped>\n",
       "    .dataframe tbody tr th:only-of-type {\n",
       "        vertical-align: middle;\n",
       "    }\n",
       "\n",
       "    .dataframe tbody tr th {\n",
       "        vertical-align: top;\n",
       "    }\n",
       "\n",
       "    .dataframe thead th {\n",
       "        text-align: right;\n",
       "    }\n",
       "</style>\n",
       "<table border=\"1\" class=\"dataframe\">\n",
       "  <thead>\n",
       "    <tr style=\"text-align: right;\">\n",
       "      <th></th>\n",
       "      <th>user_id</th>\n",
       "      <th>timestamp</th>\n",
       "      <th>group</th>\n",
       "      <th>converted</th>\n",
       "    </tr>\n",
       "  </thead>\n",
       "  <tbody>\n",
       "    <tr>\n",
       "      <th>131228</th>\n",
       "      <td>922696</td>\n",
       "      <td>2017-01-02 13:42:05.378582</td>\n",
       "      <td>treatment</td>\n",
       "      <td>1</td>\n",
       "    </tr>\n",
       "    <tr>\n",
       "      <th>184884</th>\n",
       "      <td>781507</td>\n",
       "      <td>2017-01-02 13:42:15.234051</td>\n",
       "      <td>control</td>\n",
       "      <td>1</td>\n",
       "    </tr>\n",
       "    <tr>\n",
       "      <th>83878</th>\n",
       "      <td>737319</td>\n",
       "      <td>2017-01-02 13:42:21.786186</td>\n",
       "      <td>control</td>\n",
       "      <td>0</td>\n",
       "    </tr>\n",
       "    <tr>\n",
       "      <th>102717</th>\n",
       "      <td>818377</td>\n",
       "      <td>2017-01-02 13:42:26.640581</td>\n",
       "      <td>treatment</td>\n",
       "      <td>0</td>\n",
       "    </tr>\n",
       "    <tr>\n",
       "      <th>158789</th>\n",
       "      <td>725857</td>\n",
       "      <td>2017-01-02 13:42:27.851110</td>\n",
       "      <td>treatment</td>\n",
       "      <td>1</td>\n",
       "    </tr>\n",
       "  </tbody>\n",
       "</table>\n",
       "</div>"
      ],
      "text/plain": [
       "        user_id                   timestamp      group  converted\n",
       "131228   922696  2017-01-02 13:42:05.378582  treatment          1\n",
       "184884   781507  2017-01-02 13:42:15.234051    control          1\n",
       "83878    737319  2017-01-02 13:42:21.786186    control          0\n",
       "102717   818377  2017-01-02 13:42:26.640581  treatment          0\n",
       "158789   725857  2017-01-02 13:42:27.851110  treatment          1"
      ]
     },
     "execution_count": 5,
     "metadata": {},
     "output_type": "execute_result"
    }
   ],
   "source": [
    "df.head()"
   ]
  },
  {
   "cell_type": "code",
   "execution_count": 6,
   "id": "2f220acd",
   "metadata": {},
   "outputs": [
    {
     "name": "stdout",
     "output_type": "stream",
     "text": [
      "<class 'pandas.core.frame.DataFrame'>\n",
      "Int64Index: 163418 entries, 131228 to 194557\n",
      "Data columns (total 4 columns):\n",
      " #   Column     Non-Null Count   Dtype \n",
      "---  ------     --------------   ----- \n",
      " 0   user_id    163418 non-null  int64 \n",
      " 1   timestamp  163418 non-null  object\n",
      " 2   group      163418 non-null  object\n",
      " 3   converted  163418 non-null  int64 \n",
      "dtypes: int64(2), object(2)\n",
      "memory usage: 6.2+ MB\n"
     ]
    }
   ],
   "source": [
    "df.info()"
   ]
  },
  {
   "cell_type": "markdown",
   "id": "32e45e42",
   "metadata": {},
   "source": [
    "Приведем тип для колонки с датой в соответствие"
   ]
  },
  {
   "cell_type": "code",
   "execution_count": 7,
   "id": "6160897a",
   "metadata": {},
   "outputs": [],
   "source": [
    "df['timestamp'] = pd.to_datetime(df['timestamp'])"
   ]
  },
  {
   "cell_type": "markdown",
   "id": "cdcbd176",
   "metadata": {},
   "source": [
    "### Проверим наличие пропусков"
   ]
  },
  {
   "cell_type": "code",
   "execution_count": 8,
   "id": "1d31f658",
   "metadata": {},
   "outputs": [
    {
     "data": {
      "text/plain": [
       "user_id      0\n",
       "timestamp    0\n",
       "group        0\n",
       "converted    0\n",
       "dtype: int64"
      ]
     },
     "execution_count": 8,
     "metadata": {},
     "output_type": "execute_result"
    }
   ],
   "source": [
    "df.isna().sum()"
   ]
  },
  {
   "cell_type": "markdown",
   "id": "08a48eb8",
   "metadata": {},
   "source": [
    "Пропуски отсутствуют"
   ]
  },
  {
   "cell_type": "markdown",
   "id": "da77b5cc",
   "metadata": {},
   "source": [
    "### Проверим наличие дубликатов и пересечений пользователей в группах"
   ]
  },
  {
   "cell_type": "code",
   "execution_count": 9,
   "id": "4af7c3d0",
   "metadata": {},
   "outputs": [
    {
     "data": {
      "text/plain": [
       "0"
      ]
     },
     "execution_count": 9,
     "metadata": {},
     "output_type": "execute_result"
    }
   ],
   "source": [
    "df.duplicated().sum()"
   ]
  },
  {
   "cell_type": "markdown",
   "id": "be5ba68b",
   "metadata": {},
   "source": [
    "Полные дубликаты отсутствуют. Теперь посмотрим на наличие пользователей, которые могли оказаться в обоих группах теста"
   ]
  },
  {
   "cell_type": "code",
   "execution_count": 10,
   "id": "0b96e2cc",
   "metadata": {},
   "outputs": [
    {
     "data": {
      "text/html": [
       "<div>\n",
       "<style scoped>\n",
       "    .dataframe tbody tr th:only-of-type {\n",
       "        vertical-align: middle;\n",
       "    }\n",
       "\n",
       "    .dataframe tbody tr th {\n",
       "        vertical-align: top;\n",
       "    }\n",
       "\n",
       "    .dataframe thead th {\n",
       "        text-align: right;\n",
       "    }\n",
       "</style>\n",
       "<table border=\"1\" class=\"dataframe\">\n",
       "  <thead>\n",
       "    <tr style=\"text-align: right;\">\n",
       "      <th></th>\n",
       "      <th>user_id</th>\n",
       "      <th>timestamp</th>\n",
       "      <th>group</th>\n",
       "      <th>converted</th>\n",
       "    </tr>\n",
       "  </thead>\n",
       "  <tbody>\n",
       "    <tr>\n",
       "      <th>101601</th>\n",
       "      <td>630145</td>\n",
       "      <td>2017-01-07 16:00:45.716146</td>\n",
       "      <td>control</td>\n",
       "      <td>0</td>\n",
       "    </tr>\n",
       "    <tr>\n",
       "      <th>101601</th>\n",
       "      <td>630145</td>\n",
       "      <td>2017-01-07 16:00:45.716146</td>\n",
       "      <td>treatment</td>\n",
       "      <td>0</td>\n",
       "    </tr>\n",
       "    <tr>\n",
       "      <th>28617</th>\n",
       "      <td>630603</td>\n",
       "      <td>2017-01-10 06:14:21.710946</td>\n",
       "      <td>control</td>\n",
       "      <td>0</td>\n",
       "    </tr>\n",
       "    <tr>\n",
       "      <th>28617</th>\n",
       "      <td>630603</td>\n",
       "      <td>2017-01-10 06:14:21.710946</td>\n",
       "      <td>treatment</td>\n",
       "      <td>0</td>\n",
       "    </tr>\n",
       "    <tr>\n",
       "      <th>209007</th>\n",
       "      <td>630738</td>\n",
       "      <td>2017-01-03 14:41:35.612088</td>\n",
       "      <td>control</td>\n",
       "      <td>0</td>\n",
       "    </tr>\n",
       "  </tbody>\n",
       "</table>\n",
       "</div>"
      ],
      "text/plain": [
       "        user_id                  timestamp      group  converted\n",
       "101601   630145 2017-01-07 16:00:45.716146    control          0\n",
       "101601   630145 2017-01-07 16:00:45.716146  treatment          0\n",
       "28617    630603 2017-01-10 06:14:21.710946    control          0\n",
       "28617    630603 2017-01-10 06:14:21.710946  treatment          0\n",
       "209007   630738 2017-01-03 14:41:35.612088    control          0"
      ]
     },
     "execution_count": 10,
     "metadata": {},
     "output_type": "execute_result"
    }
   ],
   "source": [
    "dup_users = df[df['user_id'].duplicated(keep=False)].sort_values(by='user_id')\n",
    "dup_users.head()"
   ]
  },
  {
   "cell_type": "code",
   "execution_count": 11,
   "id": "d5faa726",
   "metadata": {},
   "outputs": [
    {
     "data": {
      "text/plain": [
       "1122"
      ]
     },
     "execution_count": 11,
     "metadata": {},
     "output_type": "execute_result"
    }
   ],
   "source": [
    "df['user_id'].duplicated().sum()"
   ]
  },
  {
   "cell_type": "markdown",
   "id": "ffa806ee",
   "metadata": {},
   "source": [
    "1122 пользователя оказались и в контрольной и в тестовой группе одновременно. Удалим не дубликаты, а полностью этих пользователей"
   ]
  },
  {
   "cell_type": "code",
   "execution_count": 12,
   "id": "5348e141",
   "metadata": {},
   "outputs": [
    {
     "data": {
      "text/plain": [
       "2244"
      ]
     },
     "execution_count": 12,
     "metadata": {},
     "output_type": "execute_result"
    }
   ],
   "source": [
    "len(df[df['user_id'].isin(dup_users['user_id']) == True])"
   ]
  },
  {
   "cell_type": "markdown",
   "id": "f6dc8ed0",
   "metadata": {},
   "source": [
    "В итоге мы потеряем 2244 наблюдения, что допустимо"
   ]
  },
  {
   "cell_type": "code",
   "execution_count": 13,
   "id": "e66661ed",
   "metadata": {},
   "outputs": [],
   "source": [
    "df = df[df['user_id'].isin(dup_users['user_id']) == False]"
   ]
  },
  {
   "cell_type": "code",
   "execution_count": 14,
   "id": "86f4dc67",
   "metadata": {},
   "outputs": [
    {
     "data": {
      "text/plain": [
       "0"
      ]
     },
     "execution_count": 14,
     "metadata": {},
     "output_type": "execute_result"
    }
   ],
   "source": [
    "df['user_id'].duplicated().sum()"
   ]
  },
  {
   "cell_type": "markdown",
   "id": "92f44ea8",
   "metadata": {},
   "source": [
    "### Время затраченное на проведение теста"
   ]
  },
  {
   "cell_type": "code",
   "execution_count": 15,
   "id": "51cdb276",
   "metadata": {},
   "outputs": [
    {
     "data": {
      "text/html": [
       "<div>\n",
       "<style scoped>\n",
       "    .dataframe tbody tr th:only-of-type {\n",
       "        vertical-align: middle;\n",
       "    }\n",
       "\n",
       "    .dataframe tbody tr th {\n",
       "        vertical-align: top;\n",
       "    }\n",
       "\n",
       "    .dataframe thead th {\n",
       "        text-align: right;\n",
       "    }\n",
       "</style>\n",
       "<table border=\"1\" class=\"dataframe\">\n",
       "  <thead>\n",
       "    <tr style=\"text-align: right;\">\n",
       "      <th></th>\n",
       "      <th>date</th>\n",
       "    </tr>\n",
       "  </thead>\n",
       "  <tbody>\n",
       "    <tr>\n",
       "      <th>min</th>\n",
       "      <td>2017-01-02</td>\n",
       "    </tr>\n",
       "    <tr>\n",
       "      <th>max</th>\n",
       "      <td>2017-01-14</td>\n",
       "    </tr>\n",
       "  </tbody>\n",
       "</table>\n",
       "</div>"
      ],
      "text/plain": [
       "           date\n",
       "min  2017-01-02\n",
       "max  2017-01-14"
      ]
     },
     "execution_count": 15,
     "metadata": {},
     "output_type": "execute_result"
    }
   ],
   "source": [
    "df['date'] = df['timestamp'].dt.date\n",
    "df[['date']].agg(['min', 'max'])"
   ]
  },
  {
   "cell_type": "code",
   "execution_count": 16,
   "id": "d2ace26b",
   "metadata": {},
   "outputs": [
    {
     "data": {
      "text/plain": [
       "12"
      ]
     },
     "execution_count": 16,
     "metadata": {},
     "output_type": "execute_result"
    }
   ],
   "source": [
    "(df['date'].max() - df['date'].min()).days"
   ]
  },
  {
   "cell_type": "markdown",
   "id": "1c1cc430",
   "metadata": {},
   "source": [
    "Тест проводился на протяжении 12 дней"
   ]
  },
  {
   "cell_type": "markdown",
   "id": "2531a850",
   "metadata": {},
   "source": [
    "## Анализ результатов теста"
   ]
  },
  {
   "cell_type": "markdown",
   "id": "1aa2a286",
   "metadata": {},
   "source": [
    "### Рассчитаем достигнутый эффект"
   ]
  },
  {
   "cell_type": "markdown",
   "id": "434d6722",
   "metadata": {},
   "source": [
    "Посмотрим на конверсию в обоих группах теста"
   ]
  },
  {
   "cell_type": "code",
   "execution_count": 17,
   "id": "ef6dda69",
   "metadata": {},
   "outputs": [
    {
     "data": {
      "text/html": [
       "<div>\n",
       "<style scoped>\n",
       "    .dataframe tbody tr th:only-of-type {\n",
       "        vertical-align: middle;\n",
       "    }\n",
       "\n",
       "    .dataframe tbody tr th {\n",
       "        vertical-align: top;\n",
       "    }\n",
       "\n",
       "    .dataframe thead th {\n",
       "        text-align: right;\n",
       "    }\n",
       "</style>\n",
       "<table border=\"1\" class=\"dataframe\">\n",
       "  <thead>\n",
       "    <tr style=\"text-align: right;\">\n",
       "      <th></th>\n",
       "      <th>group</th>\n",
       "      <th>cr</th>\n",
       "    </tr>\n",
       "  </thead>\n",
       "  <tbody>\n",
       "    <tr>\n",
       "      <th>0</th>\n",
       "      <td>control</td>\n",
       "      <td>0.148989</td>\n",
       "    </tr>\n",
       "    <tr>\n",
       "      <th>1</th>\n",
       "      <td>treatment</td>\n",
       "      <td>0.152733</td>\n",
       "    </tr>\n",
       "  </tbody>\n",
       "</table>\n",
       "</div>"
      ],
      "text/plain": [
       "       group        cr\n",
       "0    control  0.148989\n",
       "1  treatment  0.152733"
      ]
     },
     "execution_count": 17,
     "metadata": {},
     "output_type": "execute_result"
    }
   ],
   "source": [
    "group_cr = (df.groupby('group')\n",
    "              .agg(cr=('converted', 'mean'))\n",
    "              .reset_index())\n",
    "\n",
    "group_cr"
   ]
  },
  {
   "cell_type": "markdown",
   "id": "d0ccfd12",
   "metadata": {},
   "source": [
    "В группе теста мы не достигли средней конверсии, которую мы считали на исторических данных нашего сайта. Посмотрим на отличие конверсии группы теста от конверсии контроля (lift)"
   ]
  },
  {
   "cell_type": "code",
   "execution_count": 18,
   "id": "141214e6",
   "metadata": {},
   "outputs": [
    {
     "data": {
      "text/plain": [
       "2.51"
      ]
     },
     "execution_count": 18,
     "metadata": {},
     "output_type": "execute_result"
    }
   ],
   "source": [
    "round((group_cr['cr'].values[1] - group_cr['cr'].values[0]) / group_cr['cr'].values[0] * 100, 2)"
   ]
  },
  {
   "cell_type": "markdown",
   "id": "188b59f2",
   "metadata": {},
   "source": [
    "Наблюдаемое увеличение конверсии тестовой группы относительно контрольной составило 2.51%, что меньше нашего минимального ожидаемого увеличения в 3.33%. Несмотря на это, было принято решение продолжить анализ результатов тестирования"
   ]
  },
  {
   "cell_type": "markdown",
   "id": "d8ba05c0",
   "metadata": {},
   "source": [
    "### Посмотрим на график кумулятивной конверсии по группам"
   ]
  },
  {
   "cell_type": "code",
   "execution_count": 19,
   "id": "a3e71c9c",
   "metadata": {},
   "outputs": [],
   "source": [
    "cum_data = (\n",
    "    df.groupby(['date', 'group'])\n",
    "      .agg(converted=('converted', 'sum'), \n",
    "           users=('user_id', 'nunique'))\n",
    ")\n",
    "\n",
    "cum_data = cum_data.cumsum()\n",
    "cum_data['cr'] = cum_data['converted'] / cum_data['users']\n",
    "cum_data = cum_data.reset_index()"
   ]
  },
  {
   "cell_type": "code",
   "execution_count": 20,
   "id": "edc023b1",
   "metadata": {},
   "outputs": [
    {
     "data": {
      "image/png": "[encoded data removed]",
      "text/plain": [
       "<Figure size 720x360 with 1 Axes>"
      ]
     },
     "metadata": {
      "needs_background": "light"
     },
     "output_type": "display_data"
    }
   ],
   "source": [
    "plt.figure(figsize=(10, 5))\n",
    "sns.lineplot(\n",
    "    data=cum_data, \n",
    "    x='date', \n",
    "    y='cr', \n",
    "    hue='group'\n",
    ")\n",
    "\n",
    "plt.title('Кумулятивный CR по группам теста')\n",
    "plt.grid()\n",
    "plt.xticks(rotation=45)\n",
    "plt.show()"
   ]
  },
  {
   "cell_type": "markdown",
   "id": "a60b8d19",
   "metadata": {},
   "source": [
    "К концу теста кумулятивные конверсии стабилизировались, что добавляет уверенности в правильном определении конца теста"
   ]
  },
  {
   "cell_type": "markdown",
   "id": "2ebb7232",
   "metadata": {},
   "source": [
    "## Проверка гипотез"
   ]
  },
  {
   "cell_type": "markdown",
   "id": "6422aec1",
   "metadata": {},
   "source": [
    "### Сформулируем гипотезы"
   ]
  },
  {
   "cell_type": "markdown",
   "id": "78cdbf8f",
   "metadata": {},
   "source": [
    "$H_{0}: CR_{A} = CR_{B}$  \n",
    "$H_{1}: CR_{A} \\neq CR_{B}$"
   ]
  },
  {
   "cell_type": "markdown",
   "id": "19e8eead",
   "metadata": {},
   "source": [
    "**Основная (нулевая) гипотеза** - конверсии контрольной и тестовой группы не имеют статистически значимых различий;\n",
    "\n",
    "**Альтернативная гипотеза** - конверсии контрольной и тестовой группы имеют статистически значимые различия."
   ]
  },
  {
   "cell_type": "markdown",
   "id": "0fa22b80",
   "metadata": {},
   "source": [
    "### Выберем критерий и проведем тест"
   ]
  },
  {
   "cell_type": "markdown",
   "id": "eb18e3ae",
   "metadata": {},
   "source": [
    "Так как мы имеем дело с конверсией, то есть с биномиальным распределением и у нас достаточно большие размеры выборок, мы можем аппроксимировать биномиальное распределение к нормальному. Поэтому проведем двухвыборочный z-test для долей"
   ]
  },
  {
   "cell_type": "code",
   "execution_count": 21,
   "id": "18f9c189",
   "metadata": {},
   "outputs": [
    {
     "name": "stdout",
     "output_type": "stream",
     "text": [
      "z-stat: -2.10\n",
      "p-value: 0.036\n"
     ]
    }
   ],
   "source": [
    "a_group_result = df[df['group'] == 'control']['converted']\n",
    "b_group_result = df[df['group'] == 'treatment']['converted']\n",
    "\n",
    "trials = len(a_group_result), len(b_group_result)\n",
    "successes = a_group_result.sum(), b_group_result.sum()\n",
    "\n",
    "z_stat, pval = proportions_ztest(successes, trials)\n",
    "\n",
    "print(f'z-stat: {z_stat:.2f}')\n",
    "print(f'p-value: {pval:.3f}')"
   ]
  },
  {
   "cell_type": "code",
   "execution_count": 22,
   "id": "e7f5d1d4",
   "metadata": {},
   "outputs": [],
   "source": [
    "def plot_confidence_interval(x, values, z=1.96):\n",
    "    p = np.mean(values)\n",
    "    n = len(values)\n",
    "    se = np.sqrt((p * (1-p)) / n)\n",
    "    confidence_interval = z * se\n",
    "    \n",
    "    \n",
    "    horizontal_line_width=0.25\n",
    "    color='#2187bb'\n",
    "    left = x - horizontal_line_width / 2\n",
    "    top = p - confidence_interval\n",
    "    right = x + horizontal_line_width / 2\n",
    "    bottom = p + confidence_interval\n",
    "    plt.plot([x, x], [top, bottom], color=color)\n",
    "    plt.plot([left, right], [top, top], color=color)\n",
    "    plt.plot([left, right], [bottom, bottom], color=color)\n",
    "    plt.plot(x, p, 'o', color='#f44336')\n",
    "    plt.xticks([1, 2], ['Control', 'Treatment'])\n",
    "    plt.grid(True)\n",
    "    plt.title('Доверительные интервалы для групп эксперимента')"
   ]
  },
  {
   "cell_type": "code",
   "execution_count": 23,
   "id": "0b35bebe",
   "metadata": {},
   "outputs": [
    {
     "data": {
      "image/png": "[encoded data removed]",
      "text/plain": [
       "<Figure size 720x360 with 1 Axes>"
      ]
     },
     "metadata": {
      "needs_background": "light"
     },
     "output_type": "display_data"
    }
   ],
   "source": [
    "plt.figure(figsize=(10, 5))\n",
    "plot_confidence_interval(1, a_group_result)\n",
    "plot_confidence_interval(2, b_group_result)\n",
    "plt.show()"
   ]
  },
  {
   "cell_type": "markdown",
   "id": "80b6b148",
   "metadata": {},
   "source": [
    "У нас есть основания полагать, что конверсия тестовой группы значительно больше конверсии контрольной группы"
   ]
  },
  {
   "cell_type": "markdown",
   "id": "54baff92",
   "metadata": {},
   "source": [
    "## Выводы\n",
    "\n",
    "- После проведения теста, мы не смогли достигнуть минимального ожидаемого эффекта в 3.33%, а только лишь 2.5%\n",
    "- По результатам проверки гипотез, мы все таки можем полагать, что увеличение конверсии в тестовой группе значимо, но прийдется решить, будет ли нам выгодно внедрять изменение для увеличения конверсии на 2.5%"
   ]
  }
 ],
 "metadata": {
  "kernelspec": {
   "display_name": "Python 3",
   "language": "python",
   "name": "python3"
  },
  "language_info": {
   "codemirror_mode": {
    "name": "ipython",
    "version": 3
   },
   "file_extension": ".py",
   "mimetype": "text/x-python",
   "name": "python",
   "nbconvert_exporter": "python",
   "pygments_lexer": "ipython3",
   "version": "3.8.10"
  },
  "toc": {
   "base_numbering": 1,
   "nav_menu": {},
   "number_sections": true,
   "sideBar": true,
   "skip_h1_title": true,
   "title_cell": "Содержание",
   "title_sidebar": "Contents",
   "toc_cell": true,
   "toc_position": {},
   "toc_section_display": true,
   "toc_window_display": false
  }
 },
 "nbformat": 4,
 "nbformat_minor": 5
}
