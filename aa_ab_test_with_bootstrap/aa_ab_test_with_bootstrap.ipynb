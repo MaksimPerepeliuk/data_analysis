{
 "cells": [
  {
   "cell_type": "markdown",
   "id": "6e137cba",
   "metadata": {
    "toc": true
   },
   "source": [
    "<h1>Содержание<span class=\"tocSkip\"></span></h1>\n",
    "<div class=\"toc\"><ul class=\"toc-item\"><li><span><a href=\"#Задачи\" data-toc-modified-id=\"Задачи-1\"><span class=\"toc-item-num\">1&nbsp;&nbsp;</span>Задачи</a></span></li><li><span><a href=\"#Предобработка-данных\" data-toc-modified-id=\"Предобработка-данных-2\"><span class=\"toc-item-num\">2&nbsp;&nbsp;</span>Предобработка данных</a></span><ul class=\"toc-item\"><li><span><a href=\"#Пропуски-и-дубликаты\" data-toc-modified-id=\"Пропуски-и-дубликаты-2.1\"><span class=\"toc-item-num\">2.1&nbsp;&nbsp;</span>Пропуски и дубликаты</a></span></li><li><span><a href=\"#Пересечение-между-группами\" data-toc-modified-id=\"Пересечение-между-группами-2.2\"><span class=\"toc-item-num\">2.2&nbsp;&nbsp;</span>Пересечение между группами</a></span></li></ul></li><li><span><a href=\"#A/A-тестирование\" data-toc-modified-id=\"A/A-тестирование-3\"><span class=\"toc-item-num\">3&nbsp;&nbsp;</span>A/A тестирование</a></span><ul class=\"toc-item\"><li><span><a href=\"#Вывод\" data-toc-modified-id=\"Вывод-3.1\"><span class=\"toc-item-num\">3.1&nbsp;&nbsp;</span>Вывод</a></span></li></ul></li><li><span><a href=\"#A/B-тестирование\" data-toc-modified-id=\"A/B-тестирование-4\"><span class=\"toc-item-num\">4&nbsp;&nbsp;</span>A/B тестирование</a></span><ul class=\"toc-item\"><li><span><a href=\"#Проверка-гипотезы\" data-toc-modified-id=\"Проверка-гипотезы-4.1\"><span class=\"toc-item-num\">4.1&nbsp;&nbsp;</span>Проверка гипотезы</a></span></li><li><span><a href=\"#Вывод\" data-toc-modified-id=\"Вывод-4.2\"><span class=\"toc-item-num\">4.2&nbsp;&nbsp;</span>Вывод</a></span></li></ul></li></ul></div>"
   ]
  },
  {
   "cell_type": "markdown",
   "id": "19059cbc",
   "metadata": {},
   "source": [
    "# A/A и A/B тестирование с помощью bootstrap"
   ]
  },
  {
   "cell_type": "markdown",
   "id": "199b1e65",
   "metadata": {},
   "source": [
    "Обучающая платформа EdTex, где пользователи могут покупать подписку и проходить обучающие курсы как в видео, так и в текстовом формате. Отделом аналитики была выдвинута гипотеза, что стандартный видеоплеер в мобильном приложении платформы работает плохо, что может вызывать отток клиентов.\n",
    "\n",
    "Отделом разработки был интегрирован более новый видеоплеер. Теперь нам предстоит удостовериться, что новый видеоплеер положительно повлияет на лояльность пользователей. Для этого были сформированы выборки для A/A и A/B тестирования. В качестве целевого показателя решено использовать медианную продолжительность сессий пользователей в мобильном приложении."
   ]
  },
  {
   "cell_type": "markdown",
   "id": "3c31c216",
   "metadata": {},
   "source": [
    "## Задачи\n",
    "\n",
    "- Проведение A/A теста\n",
    "- Проверка гипотезы о значимой разнице медианной продолжительности сессий, в A B выборках"
   ]
  },
  {
   "cell_type": "markdown",
   "id": "f0fffbe9",
   "metadata": {},
   "source": [
    "## Предобработка данных"
   ]
  },
  {
   "cell_type": "code",
   "execution_count": 1,
   "id": "0d2f840c",
   "metadata": {},
   "outputs": [],
   "source": [
    "import pandas as pd\n",
    "import numpy as np\n",
    "import matplotlib.pyplot as plt\n",
    "from scipy import stats\n",
    "from tqdm import tqdm\n",
    "\n",
    "plt.style.use('bmh')"
   ]
  },
  {
   "cell_type": "code",
   "execution_count": 2,
   "id": "78ea9c40",
   "metadata": {},
   "outputs": [],
   "source": [
    "df = pd.read_csv('./total_duration.csv', index_col=0)"
   ]
  },
  {
   "cell_type": "code",
   "execution_count": 3,
   "id": "faaf27ba",
   "metadata": {},
   "outputs": [
    {
     "data": {
      "text/html": [
       "<div>\n",
       "<style scoped>\n",
       "    .dataframe tbody tr th:only-of-type {\n",
       "        vertical-align: middle;\n",
       "    }\n",
       "\n",
       "    .dataframe tbody tr th {\n",
       "        vertical-align: top;\n",
       "    }\n",
       "\n",
       "    .dataframe thead th {\n",
       "        text-align: right;\n",
       "    }\n",
       "</style>\n",
       "<table border=\"1\" class=\"dataframe\">\n",
       "  <thead>\n",
       "    <tr style=\"text-align: right;\">\n",
       "      <th></th>\n",
       "      <th>user_id</th>\n",
       "      <th>group</th>\n",
       "      <th>total_duration</th>\n",
       "    </tr>\n",
       "  </thead>\n",
       "  <tbody>\n",
       "    <tr>\n",
       "      <th>0</th>\n",
       "      <td>793186</td>\n",
       "      <td>control1</td>\n",
       "      <td>1931.068973</td>\n",
       "    </tr>\n",
       "    <tr>\n",
       "      <th>1</th>\n",
       "      <td>3472516</td>\n",
       "      <td>treatment</td>\n",
       "      <td>220.892637</td>\n",
       "    </tr>\n",
       "    <tr>\n",
       "      <th>2</th>\n",
       "      <td>3375424</td>\n",
       "      <td>treatment</td>\n",
       "      <td>16.126804</td>\n",
       "    </tr>\n",
       "    <tr>\n",
       "      <th>3</th>\n",
       "      <td>3791823</td>\n",
       "      <td>treatment</td>\n",
       "      <td>4708.597091</td>\n",
       "    </tr>\n",
       "    <tr>\n",
       "      <th>4</th>\n",
       "      <td>421235</td>\n",
       "      <td>control1</td>\n",
       "      <td>713.280479</td>\n",
       "    </tr>\n",
       "  </tbody>\n",
       "</table>\n",
       "</div>"
      ],
      "text/plain": [
       "   user_id      group  total_duration\n",
       "0   793186   control1     1931.068973\n",
       "1  3472516  treatment      220.892637\n",
       "2  3375424  treatment       16.126804\n",
       "3  3791823  treatment     4708.597091\n",
       "4   421235   control1      713.280479"
      ]
     },
     "execution_count": 3,
     "metadata": {},
     "output_type": "execute_result"
    }
   ],
   "source": [
    "df.head()"
   ]
  },
  {
   "cell_type": "code",
   "execution_count": 4,
   "id": "d7a88678",
   "metadata": {},
   "outputs": [
    {
     "name": "stdout",
     "output_type": "stream",
     "text": [
      "<class 'pandas.core.frame.DataFrame'>\n",
      "Int64Index: 3964936 entries, 0 to 3964935\n",
      "Data columns (total 3 columns):\n",
      " #   Column          Dtype  \n",
      "---  ------          -----  \n",
      " 0   user_id         int64  \n",
      " 1   group           object \n",
      " 2   total_duration  float64\n",
      "dtypes: float64(1), int64(1), object(1)\n",
      "memory usage: 121.0+ MB\n"
     ]
    }
   ],
   "source": [
    "df.info()"
   ]
  },
  {
   "cell_type": "markdown",
   "id": "800cf760",
   "metadata": {},
   "source": [
    "- Всего около 4 млн наблюдений\n",
    "- Типы данных соответствуют смыслу переменных"
   ]
  },
  {
   "cell_type": "markdown",
   "id": "879e8ade",
   "metadata": {},
   "source": [
    "### Пропуски и дубликаты"
   ]
  },
  {
   "cell_type": "code",
   "execution_count": 5,
   "id": "e9b92f91",
   "metadata": {},
   "outputs": [
    {
     "data": {
      "text/plain": [
       "user_id           0\n",
       "group             0\n",
       "total_duration    0\n",
       "dtype: int64"
      ]
     },
     "execution_count": 5,
     "metadata": {},
     "output_type": "execute_result"
    }
   ],
   "source": [
    "df.isna().sum()"
   ]
  },
  {
   "cell_type": "code",
   "execution_count": 6,
   "id": "569bdc56",
   "metadata": {},
   "outputs": [
    {
     "data": {
      "text/plain": [
       "0"
      ]
     },
     "execution_count": 6,
     "metadata": {},
     "output_type": "execute_result"
    }
   ],
   "source": [
    "df.duplicated().sum()"
   ]
  },
  {
   "cell_type": "markdown",
   "id": "3e8e2e74",
   "metadata": {},
   "source": [
    "Пропуски и дубликаты отсутствуют"
   ]
  },
  {
   "cell_type": "markdown",
   "id": "8eecc356",
   "metadata": {},
   "source": [
    "### Пересечение между группами"
   ]
  },
  {
   "cell_type": "markdown",
   "id": "9d744a39",
   "metadata": {},
   "source": [
    "Посмотрим, есть ли пользователи которые попали сразу в разные группы"
   ]
  },
  {
   "cell_type": "code",
   "execution_count": 7,
   "id": "c4986418",
   "metadata": {},
   "outputs": [
    {
     "data": {
      "text/plain": [
       "0"
      ]
     },
     "execution_count": 7,
     "metadata": {},
     "output_type": "execute_result"
    }
   ],
   "source": [
    "df['user_id'].duplicated().sum()"
   ]
  },
  {
   "cell_type": "markdown",
   "id": "df636e6c",
   "metadata": {},
   "source": [
    "Дубликаты среди `user_id` отсутствуют, значит и пересечений нет"
   ]
  },
  {
   "cell_type": "markdown",
   "id": "3ec2e2ba",
   "metadata": {},
   "source": [
    "## A/A тестирование"
   ]
  },
  {
   "cell_type": "markdown",
   "id": "cdd1f051",
   "metadata": {},
   "source": [
    "Чтобы убедиться в том, что инструмент разделения пользователей на выборки сработал корректно, нам нужно провести тестирование между группами `control1` и `control2`, на которые не оказывались никакие экспериментальные воздействия и если разницы между этими группами не обнаружится, значит сплит сработал успешно\n",
    "\n",
    "Для начала визуально посмотрим, видна ли разница между группами"
   ]
  },
  {
   "cell_type": "code",
   "execution_count": 8,
   "id": "afe509cc",
   "metadata": {},
   "outputs": [],
   "source": [
    "a1 = df[df['group'] == 'control1']['total_duration']\n",
    "a2 = df[df['group'] == 'control2']['total_duration']"
   ]
  },
  {
   "cell_type": "code",
   "execution_count": 9,
   "id": "548bf138",
   "metadata": {},
   "outputs": [
    {
     "data": {
      "image/png": "[encoded data removed]",
      "text/plain": [
       "<Figure size 1080x360 with 2 Axes>"
      ]
     },
     "metadata": {
      "needs_background": "light"
     },
     "output_type": "display_data"
    }
   ],
   "source": [
    "plt.figure(figsize=(15, 5))\n",
    "plt.suptitle('Распределение значений продолжительности сессии')\n",
    "\n",
    "plt.subplot(1,2,1)\n",
    "plt.hist(a1, bins=100)\n",
    "plt.hist(a2, bins=100, alpha=0.5, color='pink')\n",
    "plt.xlabel('Продолжительность сек')\n",
    "\n",
    "plt.subplot(1,2,2)\n",
    "plt.hist(a1, bins=100)\n",
    "plt.hist(a2, bins=100, alpha=0.5, color='pink')\n",
    "plt.ylim(0, 10000)\n",
    "plt.xlim(2500, 10000)\n",
    "plt.xlabel('Продолжительность сек')\n",
    "\n",
    "plt.show()"
   ]
  },
  {
   "cell_type": "markdown",
   "id": "4b7c3db6",
   "metadata": {},
   "source": [
    "Визуально, выборки очень похожи. Проведем множество экспериментов с помощью бутстреп выборок и посмотрим на распределение p-value. Напишем функцию"
   ]
  },
  {
   "cell_type": "code",
   "execution_count": 10,
   "id": "2232ca94",
   "metadata": {},
   "outputs": [],
   "source": [
    "def test_pvalues_distribution(a, b, n_iter, sample_size, alpha, test):\n",
    "    p_values = []\n",
    "    for i in tqdm(range(n_iter)):\n",
    "        a1_sample = np.random.choice(a1, size=sample_size, replace=True)\n",
    "        a2_sample = np.random.choice(a2, size=sample_size, replace=True)\n",
    "        pvalue = test(a1_sample, a2_sample).pvalue\n",
    "        p_values.append(pvalue)\n",
    "    plt.hist(p_values)\n",
    "    plt.show()\n",
    "    print((pd.Series(p_values) < alpha).mean())"
   ]
  },
  {
   "cell_type": "markdown",
   "id": "6848af0c",
   "metadata": {},
   "source": [
    "Зададим параметры тестирования"
   ]
  },
  {
   "cell_type": "code",
   "execution_count": 11,
   "id": "6336adf0",
   "metadata": {},
   "outputs": [],
   "source": [
    "n_iter = 10000\n",
    "sample_size = 1000\n",
    "alpha = 0.05"
   ]
  },
  {
   "cell_type": "markdown",
   "id": "cdafe611",
   "metadata": {},
   "source": [
    "Запустим тест, стат критерием при этом выберем t-тест"
   ]
  },
  {
   "cell_type": "code",
   "execution_count": 12,
   "id": "008a0e3a",
   "metadata": {},
   "outputs": [
    {
     "name": "stderr",
     "output_type": "stream",
     "text": [
      "100%|██████████| 10000/10000 [00:03<00:00, 2792.08it/s]\n"
     ]
    },
    {
     "data": {
      "image/png": "[encoded data removed]",
      "text/plain": [
       "<Figure size 432x288 with 1 Axes>"
      ]
     },
     "metadata": {
      "needs_background": "light"
     },
     "output_type": "display_data"
    },
    {
     "name": "stdout",
     "output_type": "stream",
     "text": [
      "0.0496\n"
     ]
    }
   ],
   "source": [
    "test_pvalues_distribution(\n",
    "    a1, \n",
    "    a2, \n",
    "    n_iter, \n",
    "    sample_size,\n",
    "    alpha,\n",
    "    lambda a, b: stats.ttest_ind(a, b, equal_var=False)\n",
    ")"
   ]
  },
  {
   "cell_type": "markdown",
   "id": "f6e877b6",
   "metadata": {},
   "source": [
    "Распределение значений p-value по результатам множества t-тестов похоже на равномерное, не смотря на то, что не соблюдается допущение о нормальном распределении генеральной совокупности. Проделаем те же шаги, но с непараметрическим тестом Манна-Уитни"
   ]
  },
  {
   "cell_type": "code",
   "execution_count": 13,
   "id": "6225231a",
   "metadata": {},
   "outputs": [
    {
     "name": "stderr",
     "output_type": "stream",
     "text": [
      "100%|██████████| 10000/10000 [00:20<00:00, 499.38it/s]\n"
     ]
    },
    {
     "data": {
      "image/png": "[encoded data removed]",
      "text/plain": [
       "<Figure size 432x288 with 1 Axes>"
      ]
     },
     "metadata": {
      "needs_background": "light"
     },
     "output_type": "display_data"
    },
    {
     "name": "stdout",
     "output_type": "stream",
     "text": [
      "0.0487\n"
     ]
    }
   ],
   "source": [
    "test_pvalues_distribution(\n",
    "    a1, \n",
    "    a2, \n",
    "    n_iter, \n",
    "    sample_size,\n",
    "    alpha,\n",
    "    stats.mannwhitneyu\n",
    ")"
   ]
  },
  {
   "cell_type": "markdown",
   "id": "e5966adb",
   "metadata": {},
   "source": [
    "Распределение значений p-value также похоже на равномерное"
   ]
  },
  {
   "cell_type": "markdown",
   "id": "e0cfb846",
   "metadata": {},
   "source": [
    "### Вывод\n",
    "По результатам A/A тестирования мы можем полагать, что инструмент разделения пользователей на группы сработал успешно"
   ]
  },
  {
   "cell_type": "markdown",
   "id": "8e59f530",
   "metadata": {},
   "source": [
    "## A/B тестирование"
   ]
  },
  {
   "cell_type": "markdown",
   "id": "b3df1996",
   "metadata": {},
   "source": [
    "Для дальнейшего исследования объединим группы control1, control2 в одну группу"
   ]
  },
  {
   "cell_type": "code",
   "execution_count": 14,
   "id": "8dd537c2",
   "metadata": {},
   "outputs": [],
   "source": [
    "df['group'] = df['group'].map({\n",
    "    'control1': 'control', \n",
    "    'control2': 'control', \n",
    "    'treatment': 'treatment'\n",
    "})"
   ]
  },
  {
   "cell_type": "code",
   "execution_count": 15,
   "id": "a470549d",
   "metadata": {},
   "outputs": [
    {
     "data": {
      "text/plain": [
       "control      1982468\n",
       "treatment    1982468\n",
       "Name: group, dtype: int64"
      ]
     },
     "execution_count": 15,
     "metadata": {},
     "output_type": "execute_result"
    }
   ],
   "source": [
    "df['group'].value_counts()"
   ]
  },
  {
   "cell_type": "markdown",
   "id": "fc2fabe7",
   "metadata": {},
   "source": [
    "Группы сбалансированы. Теперь посмотрим на распределения общей продолжительности пользования приложения по группам"
   ]
  },
  {
   "cell_type": "code",
   "execution_count": 16,
   "id": "a3a5adef",
   "metadata": {},
   "outputs": [],
   "source": [
    "a = df[df['group'] == 'control']['total_duration']\n",
    "b = df[df['group'] == 'treatment']['total_duration']"
   ]
  },
  {
   "cell_type": "code",
   "execution_count": 17,
   "id": "491f89e0",
   "metadata": {},
   "outputs": [
    {
     "data": {
      "image/png": "[encoded data removed]",
      "text/plain": [
       "<Figure size 1080x360 with 2 Axes>"
      ]
     },
     "metadata": {
      "needs_background": "light"
     },
     "output_type": "display_data"
    }
   ],
   "source": [
    "plt.figure(figsize=(15, 5))\n",
    "plt.suptitle('Распределение значений продолжительности сессии в контрольной и тестовой группах')\n",
    "plt.subplot(1,2,1)\n",
    "plt.hist(a, bins=100, label='Control')\n",
    "plt.hist(b, bins=100, alpha=0.5, color='pink', label='Treatment')\n",
    "plt.xlabel('Продолжительность сек')\n",
    "plt.legend()\n",
    "\n",
    "plt.subplot(1,2,2)\n",
    "plt.hist(a, bins=100, label='Control')\n",
    "plt.hist(b, bins=100, alpha=0.5, color='pink', label='Treatment')\n",
    "plt.ylim(0, 10000)\n",
    "plt.xlim(2500, 10000)\n",
    "plt.xlabel('Продолжительность сек')\n",
    "\n",
    "plt.show()"
   ]
  },
  {
   "cell_type": "code",
   "execution_count": 18,
   "id": "2f70f43f",
   "metadata": {},
   "outputs": [
    {
     "data": {
      "text/html": [
       "<div>\n",
       "<style scoped>\n",
       "    .dataframe tbody tr th:only-of-type {\n",
       "        vertical-align: middle;\n",
       "    }\n",
       "\n",
       "    .dataframe tbody tr th {\n",
       "        vertical-align: top;\n",
       "    }\n",
       "\n",
       "    .dataframe thead tr th {\n",
       "        text-align: left;\n",
       "    }\n",
       "\n",
       "    .dataframe thead tr:last-of-type th {\n",
       "        text-align: right;\n",
       "    }\n",
       "</style>\n",
       "<table border=\"1\" class=\"dataframe\">\n",
       "  <thead>\n",
       "    <tr>\n",
       "      <th></th>\n",
       "      <th colspan=\"2\" halign=\"left\">total_duration</th>\n",
       "    </tr>\n",
       "    <tr>\n",
       "      <th></th>\n",
       "      <th>mean</th>\n",
       "      <th>median</th>\n",
       "    </tr>\n",
       "    <tr>\n",
       "      <th>group</th>\n",
       "      <th></th>\n",
       "      <th></th>\n",
       "    </tr>\n",
       "  </thead>\n",
       "  <tbody>\n",
       "    <tr>\n",
       "      <th>control</th>\n",
       "      <td>713.496899</td>\n",
       "      <td>145.050117</td>\n",
       "    </tr>\n",
       "    <tr>\n",
       "      <th>treatment</th>\n",
       "      <td>790.519165</td>\n",
       "      <td>160.792156</td>\n",
       "    </tr>\n",
       "  </tbody>\n",
       "</table>\n",
       "</div>"
      ],
      "text/plain": [
       "          total_duration            \n",
       "                    mean      median\n",
       "group                               \n",
       "control       713.496899  145.050117\n",
       "treatment     790.519165  160.792156"
      ]
     },
     "execution_count": 18,
     "metadata": {},
     "output_type": "execute_result"
    }
   ],
   "source": [
    "df.groupby('group').agg({'total_duration': ['mean', 'median']})"
   ]
  },
  {
   "cell_type": "code",
   "execution_count": 19,
   "id": "676359c1",
   "metadata": {},
   "outputs": [
    {
     "name": "stdout",
     "output_type": "stream",
     "text": [
      "uplift: 10.85\n"
     ]
    }
   ],
   "source": [
    "print('uplift:', round((b.median() - a.median()) / a.median() * 100, 2))"
   ]
  },
  {
   "cell_type": "markdown",
   "id": "a6b26af2",
   "metadata": {},
   "source": [
    "- Средняя и медианная общая продолжительность сессий больше в тестовой группе\n",
    "- Медианная продолжительность в тестовой группе больше почти на 11%\n",
    "\n",
    "Проведем тестирование, чтобы узнать является ли эта разница значимой"
   ]
  },
  {
   "cell_type": "markdown",
   "id": "26e85750",
   "metadata": {},
   "source": [
    "### Проверка гипотезы"
   ]
  },
  {
   "cell_type": "markdown",
   "id": "1f52c295",
   "metadata": {},
   "source": [
    "$H_{0}: M_{A} = M_{B}$  \n",
    "$H_{1}: M_{A} \\neq M_{B}$"
   ]
  },
  {
   "cell_type": "markdown",
   "id": "87c74f68",
   "metadata": {},
   "source": [
    "**Основная (нулевая) гипотеза** - медианная продолжительность контрольной и тестовой группы не имеют статистически значимых различий;\n",
    "**Альтернативная гипотеза** - медианная продолжительность контрольной и тестовой группы имеют статистически значимые различия."
   ]
  },
  {
   "cell_type": "markdown",
   "id": "ef799505",
   "metadata": {},
   "source": [
    "Наша целевая метрика это медиана - значит в качестве статистического критерия нам придется использовать Бутстреп, так как центральная предельная теорема не позволяет строить доверительные интервалы для медианы"
   ]
  },
  {
   "cell_type": "markdown",
   "id": "00ef4137",
   "metadata": {},
   "source": [
    "Объявим уровень значимости в 5%"
   ]
  },
  {
   "cell_type": "code",
   "execution_count": 20,
   "id": "120befa7",
   "metadata": {},
   "outputs": [],
   "source": [
    "alpha = 0.05\n",
    "conf_level = 1 - alpha"
   ]
  },
  {
   "cell_type": "markdown",
   "id": "88e073d5",
   "metadata": {},
   "source": [
    "Напишем функцию для формирования бут-выборок и построения графика с доверительными интервалами"
   ]
  },
  {
   "cell_type": "code",
   "execution_count": 21,
   "id": "5581ab46",
   "metadata": {},
   "outputs": [],
   "source": [
    "def get_bootstrap(a,  b, sample_size, n_iter=1000, statistic=np.median):\n",
    "    boot_data = []\n",
    "    for i in tqdm(range(n_iter)): \n",
    "        sample_1 = np.random.choice(a, sample_size, replace=True)\n",
    "        sample_2 = np.random.choice(b, sample_size, replace=True)\n",
    "        boot_data.append(statistic(sample_1 - sample_2))\n",
    "\n",
    "    left_quant = alpha / 2\n",
    "    right_quant = 1 - alpha / 2\n",
    "    quants = np.quantile(boot_data, [left_quant, right_quant])\n",
    "\n",
    "    p_1 = stats.norm.cdf(x=0, loc=np.mean(boot_data), scale=np.std(boot_data))\n",
    "    p_2 = stats.norm.cdf(x=0, loc=-np.mean(boot_data), scale=np.std(boot_data))\n",
    "    p_value = min(p_1, p_2) * 2\n",
    "\n",
    "    plt.figure(figsize=(10, 5))\n",
    "    _, _, bars = plt.hist(boot_data, bins=50)\n",
    "    for bar in bars:\n",
    "        if bar.get_x() <= quants[0] or bar.get_x() >= quants[1]:\n",
    "            bar.set_facecolor('red')\n",
    "        else:\n",
    "            bar.set_facecolor('lightblue')\n",
    "            bar.set_edgecolor('black')\n",
    "\n",
    "    plt.vlines(quants, ymin=0, ymax=50, linestyle='--')\n",
    "    plt.xlabel('Разница медианной продолжительности')\n",
    "    plt.ylabel('Частота')\n",
    "    plt.title('Распределение разницы медианной продолжительности')\n",
    "    plt.show()\n",
    "\n",
    "    return {\"boot_data\": boot_data,\n",
    "            \"quants\": quants,\n",
    "            \"p_value\": p_value}"
   ]
  },
  {
   "cell_type": "markdown",
   "id": "ea0961f9",
   "metadata": {},
   "source": [
    "Размер бут-выборок установим как максимальное из двух размеров A B выборок."
   ]
  },
  {
   "cell_type": "code",
   "execution_count": 22,
   "id": "521c1ad6",
   "metadata": {},
   "outputs": [
    {
     "data": {
      "text/plain": [
       "1982468"
      ]
     },
     "execution_count": 22,
     "metadata": {},
     "output_type": "execute_result"
    }
   ],
   "source": [
    "sample_size = max([len(a), len(b)])\n",
    "sample_size"
   ]
  },
  {
   "cell_type": "markdown",
   "id": "3f2a5a35",
   "metadata": {},
   "source": [
    "Проведем тест"
   ]
  },
  {
   "cell_type": "code",
   "execution_count": 23,
   "id": "750f9167",
   "metadata": {},
   "outputs": [
    {
     "name": "stderr",
     "output_type": "stream",
     "text": [
      "100%|██████████| 1000/1000 [01:25<00:00, 11.74it/s]\n"
     ]
    },
    {
     "data": {
      "image/png": "[encoded data removed]",
      "text/plain": [
       "<Figure size 720x360 with 1 Axes>"
      ]
     },
     "metadata": {
      "needs_background": "light"
     },
     "output_type": "display_data"
    }
   ],
   "source": [
    "result = get_bootstrap(a, b, sample_size)"
   ]
  },
  {
   "cell_type": "code",
   "execution_count": 24,
   "id": "fbda5ba6",
   "metadata": {},
   "outputs": [
    {
     "data": {
      "text/plain": [
       "0.0"
      ]
     },
     "execution_count": 24,
     "metadata": {},
     "output_type": "execute_result"
    }
   ],
   "source": [
    "result['p_value']"
   ]
  },
  {
   "cell_type": "markdown",
   "id": "2fcaca56",
   "metadata": {},
   "source": [
    "### Вывод\n",
    "В пределах 95%-го доверительного интервала значения 0 не оказалось, значит у нас есть основания полагать, что в тестовой группе B, медианная продолжительность значительно больше, чем в группе A"
   ]
  }
 ],
 "metadata": {
  "kernelspec": {
   "display_name": "Python 3",
   "language": "python",
   "name": "python3"
  },
  "language_info": {
   "codemirror_mode": {
    "name": "ipython",
    "version": 3
   },
   "file_extension": ".py",
   "mimetype": "text/x-python",
   "name": "python",
   "nbconvert_exporter": "python",
   "pygments_lexer": "ipython3",
   "version": "3.8.10"
  },
  "toc": {
   "base_numbering": 1,
   "nav_menu": {},
   "number_sections": true,
   "sideBar": true,
   "skip_h1_title": true,
   "title_cell": "Содержание",
   "title_sidebar": "Contents",
   "toc_cell": true,
   "toc_position": {},
   "toc_section_display": true,
   "toc_window_display": false
  }
 },
 "nbformat": 4,
 "nbformat_minor": 5
}
