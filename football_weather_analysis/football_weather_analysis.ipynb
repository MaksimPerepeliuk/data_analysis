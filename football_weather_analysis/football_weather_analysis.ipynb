{
 "cells": [
  {
   "cell_type": "markdown",
   "id": "301ebbc7",
   "metadata": {
    "toc": true
   },
   "source": [
    "<h1>Содержание<span class=\"tocSkip\"></span></h1>\n",
    "<div class=\"toc\"><ul class=\"toc-item\"><li><span><a href=\"#Задачи-исследования\" data-toc-modified-id=\"Задачи-исследования-1\"><span class=\"toc-item-num\">1&nbsp;&nbsp;</span>Задачи исследования</a></span></li><li><span><a href=\"#Исходные-данные\" data-toc-modified-id=\"Исходные-данные-2\"><span class=\"toc-item-num\">2&nbsp;&nbsp;</span>Исходные данные</a></span></li><li><span><a href=\"#Предобработка-данных\" data-toc-modified-id=\"Предобработка-данных-3\"><span class=\"toc-item-num\">3&nbsp;&nbsp;</span>Предобработка данных</a></span><ul class=\"toc-item\"><li><span><a href=\"#Посмотрим-на-данные\" data-toc-modified-id=\"Посмотрим-на-данные-3.1\"><span class=\"toc-item-num\">3.1&nbsp;&nbsp;</span>Посмотрим на данные</a></span></li><li><span><a href=\"#Приведение-данных\" data-toc-modified-id=\"Приведение-данных-3.2\"><span class=\"toc-item-num\">3.2&nbsp;&nbsp;</span>Приведение данных</a></span></li><li><span><a href=\"#Обработаем-пропуски\" data-toc-modified-id=\"Обработаем-пропуски-3.3\"><span class=\"toc-item-num\">3.3&nbsp;&nbsp;</span>Обработаем пропуски</a></span></li><li><span><a href=\"#Обработаем-дубликаты\" data-toc-modified-id=\"Обработаем-дубликаты-3.4\"><span class=\"toc-item-num\">3.4&nbsp;&nbsp;</span>Обработаем дубликаты</a></span></li><li><span><a href=\"#Обработаем-значения-из-колонки-с-погодой\" data-toc-modified-id=\"Обработаем-значения-из-колонки-с-погодой-3.5\"><span class=\"toc-item-num\">3.5&nbsp;&nbsp;</span>Обработаем значения из колонки с погодой</a></span></li></ul></li><li><span><a href=\"#Исследовательский-анализ\" data-toc-modified-id=\"Исследовательский-анализ-4\"><span class=\"toc-item-num\">4&nbsp;&nbsp;</span>Исследовательский анализ</a></span><ul class=\"toc-item\"><li><span><a href=\"#Даты-проведения-матчей\" data-toc-modified-id=\"Даты-проведения-матчей-4.1\"><span class=\"toc-item-num\">4.1&nbsp;&nbsp;</span>Даты проведения матчей</a></span><ul class=\"toc-item\"><li><span><a href=\"#Доля-матчей-по-месяцам\" data-toc-modified-id=\"Доля-матчей-по-месяцам-4.1.1\"><span class=\"toc-item-num\">4.1.1&nbsp;&nbsp;</span>Доля матчей по месяцам</a></span></li><li><span><a href=\"#Доля-матчей-по-временам-года\" data-toc-modified-id=\"Доля-матчей-по-временам-года-4.1.2\"><span class=\"toc-item-num\">4.1.2&nbsp;&nbsp;</span>Доля матчей по временам года</a></span></li></ul></li><li><span><a href=\"#Погода-на-начало-матчей\" data-toc-modified-id=\"Погода-на-начало-матчей-4.2\"><span class=\"toc-item-num\">4.2&nbsp;&nbsp;</span>Погода на начало матчей</a></span><ul class=\"toc-item\"><li><span><a href=\"#Переменная-с-описанием-погоды\" data-toc-modified-id=\"Переменная-с-описанием-погоды-4.2.1\"><span class=\"toc-item-num\">4.2.1&nbsp;&nbsp;</span>Переменная с описанием погоды</a></span></li><li><span><a href=\"#Переменная-с-температурой-воздуха\" data-toc-modified-id=\"Переменная-с-температурой-воздуха-4.2.2\"><span class=\"toc-item-num\">4.2.2&nbsp;&nbsp;</span>Переменная с температурой воздуха</a></span></li></ul></li><li><span><a href=\"#Количество-голов-в-матче\" data-toc-modified-id=\"Количество-голов-в-матче-4.3\"><span class=\"toc-item-num\">4.3&nbsp;&nbsp;</span>Количество голов в матче</a></span><ul class=\"toc-item\"><li><span><a href=\"#Посмотрим-на-распределение-количества-голов-за-матч\" data-toc-modified-id=\"Посмотрим-на-распределение-количества-голов-за-матч-4.3.1\"><span class=\"toc-item-num\">4.3.1&nbsp;&nbsp;</span>Посмотрим на распределение количества голов за матч</a></span></li><li><span><a href=\"#Посмотрим-на-изменение-среднего-значения-голов-по-месяцам\" data-toc-modified-id=\"Посмотрим-на-изменение-среднего-значения-голов-по-месяцам-4.3.2\"><span class=\"toc-item-num\">4.3.2&nbsp;&nbsp;</span>Посмотрим на изменение среднего значения голов по месяцам</a></span></li><li><span><a href=\"#Посмотрим-на-распределения-значений-забитых-голов-в-матчах-в-зависимости-от-категорий-погоды\" data-toc-modified-id=\"Посмотрим-на-распределения-значений-забитых-голов-в-матчах-в-зависимости-от-категорий-погоды-4.3.3\"><span class=\"toc-item-num\">4.3.3&nbsp;&nbsp;</span>Посмотрим на распределения значений забитых голов в матчах в зависимости от категорий погоды</a></span></li><li><span><a href=\"#Посмотрим-на-средние-значения-забитых-голов-в-матчах-в-зависимости-от-категорий-погоды\" data-toc-modified-id=\"Посмотрим-на-средние-значения-забитых-голов-в-матчах-в-зависимости-от-категорий-погоды-4.3.4\"><span class=\"toc-item-num\">4.3.4&nbsp;&nbsp;</span>Посмотрим на средние значения забитых голов в матчах в зависимости от категорий погоды</a></span></li><li><span><a href=\"#Посмотрим-на-распределения-количества-голов-за-матч,-в-зависимости-от-категории-температуры\" data-toc-modified-id=\"Посмотрим-на-распределения-количества-голов-за-матч,-в-зависимости-от-категории-температуры-4.3.5\"><span class=\"toc-item-num\">4.3.5&nbsp;&nbsp;</span>Посмотрим на распределения количества голов за матч, в зависимости от категории температуры</a></span></li><li><span><a href=\"#Посмотрим-на-средние-значения-в-зависимости-от-категорий-температуры\" data-toc-modified-id=\"Посмотрим-на-средние-значения-в-зависимости-от-категорий-температуры-4.3.6\"><span class=\"toc-item-num\">4.3.6&nbsp;&nbsp;</span>Посмотрим на средние значения в зависимости от категорий температуры</a></span></li></ul></li></ul></li><li><span><a href=\"#Проверка-гипотез\" data-toc-modified-id=\"Проверка-гипотез-5\"><span class=\"toc-item-num\">5&nbsp;&nbsp;</span>Проверка гипотез</a></span><ul class=\"toc-item\"><li><span><a href=\"#Различие-среднего-количества-голов-за-матч-в-нормальную-и-плохую-погоду\" data-toc-modified-id=\"Различие-среднего-количества-голов-за-матч-в-нормальную-и-плохую-погоду-5.1\"><span class=\"toc-item-num\">5.1&nbsp;&nbsp;</span>Различие среднего количества голов за матч в нормальную и плохую погоду</a></span></li><li><span><a href=\"#Различие-среднего-количества-голов-в-матчах-проводимых-при-низкой,-средней-и-высокой-температурой-воздуха\" data-toc-modified-id=\"Различие-среднего-количества-голов-в-матчах-проводимых-при-низкой,-средней-и-высокой-температурой-воздуха-5.2\"><span class=\"toc-item-num\">5.2&nbsp;&nbsp;</span>Различие среднего количества голов в матчах проводимых при низкой, средней и высокой температурой воздуха</a></span></li></ul></li><li><span><a href=\"#Выводы\" data-toc-modified-id=\"Выводы-6\"><span class=\"toc-item-num\">6&nbsp;&nbsp;</span>Выводы</a></span></li></ul></div>"
   ]
  },
  {
   "cell_type": "markdown",
   "id": "b4e5aee3",
   "metadata": {},
   "source": [
    "# Влияние погоды на количество голов в матчах Английской Премьер Лиги"
   ]
  },
  {
   "cell_type": "markdown",
   "id": "d1887d9f",
   "metadata": {},
   "source": [
    "Нам предстоит исследовать влияние погоды на количество голов в матчах АПЛ. Для этого был написан парсер, для сбора данных с сайта футбольной статистики https://www.nowgoal6.com/ за сезоны 2018-2019, 2019-2020, 2020-2021, 2021-2022"
   ]
  },
  {
   "cell_type": "markdown",
   "id": "16813670",
   "metadata": {},
   "source": [
    "Ссылка на парсер: https://github.com/MaksimPerepeliuk/ng_football_weather_scraper"
   ]
  },
  {
   "cell_type": "markdown",
   "id": "5cf52403",
   "metadata": {},
   "source": [
    "## Задачи исследования\n",
    "\n",
    "1. Различие количества голов между матчами проходившими при плохой и нормальной погоде\n",
    "2. Различие количества голов между матчами проходившими в разные интервалы температур воздуха"
   ]
  },
  {
   "cell_type": "markdown",
   "id": "7d1fe63c",
   "metadata": {},
   "source": [
    "## Исходные данные\n",
    "\n",
    "- `champ_title` - название чемпионата  \n",
    "- `date` - дата начала матча         \n",
    "- `weather` - описание погоды (осадки, температура)      \n",
    "- `home` - домашняя команда         \n",
    "- `away` - гостевая команда         \n",
    "- `result` - исход матча       \n",
    "- `total_score` - количество забитых голов за матч  \n",
    "- `first_half` - исход первого тайма   \n",
    "- `second_half` - исход второго тайма  "
   ]
  },
  {
   "cell_type": "markdown",
   "id": "ada1a8cb",
   "metadata": {},
   "source": [
    "## Предобработка данных"
   ]
  },
  {
   "cell_type": "code",
   "execution_count": 1,
   "id": "8effe714",
   "metadata": {},
   "outputs": [],
   "source": [
    "import pandas as pd\n",
    "import numpy as np\n",
    "import matplotlib.pyplot as plt\n",
    "import seaborn as sns\n",
    "import scipy.stats as st\n",
    "import re"
   ]
  },
  {
   "cell_type": "code",
   "execution_count": 2,
   "id": "317fb3f2",
   "metadata": {},
   "outputs": [],
   "source": [
    "df = pd.read_csv('./event_weather_stat.csv')"
   ]
  },
  {
   "cell_type": "markdown",
   "id": "9d907871",
   "metadata": {},
   "source": [
    "### Посмотрим на данные"
   ]
  },
  {
   "cell_type": "code",
   "execution_count": 3,
   "id": "0fa17a1c",
   "metadata": {},
   "outputs": [
    {
     "data": {
      "text/html": [
       "<div>\n",
       "<style scoped>\n",
       "    .dataframe tbody tr th:only-of-type {\n",
       "        vertical-align: middle;\n",
       "    }\n",
       "\n",
       "    .dataframe tbody tr th {\n",
       "        vertical-align: top;\n",
       "    }\n",
       "\n",
       "    .dataframe thead th {\n",
       "        text-align: right;\n",
       "    }\n",
       "</style>\n",
       "<table border=\"1\" class=\"dataframe\">\n",
       "  <thead>\n",
       "    <tr style=\"text-align: right;\">\n",
       "      <th></th>\n",
       "      <th>champ_title</th>\n",
       "      <th>date</th>\n",
       "      <th>weather</th>\n",
       "      <th>home</th>\n",
       "      <th>away</th>\n",
       "      <th>result</th>\n",
       "      <th>total_score</th>\n",
       "      <th>first_half</th>\n",
       "      <th>second_half</th>\n",
       "    </tr>\n",
       "  </thead>\n",
       "  <tbody>\n",
       "    <tr>\n",
       "      <th>0</th>\n",
       "      <td>English Premier League</td>\n",
       "      <td>8/13/2021 7:00:00 PM</td>\n",
       "      <td>Cloudy,  16℃～17℃</td>\n",
       "      <td>Brentford</td>\n",
       "      <td>Arsenal</td>\n",
       "      <td>2-0</td>\n",
       "      <td>2</td>\n",
       "      <td>1-0</td>\n",
       "      <td>1-0</td>\n",
       "    </tr>\n",
       "    <tr>\n",
       "      <th>1</th>\n",
       "      <td>English Premier League</td>\n",
       "      <td>8/14/2021 11:30:00 AM</td>\n",
       "      <td>Cloudy,  15℃～16℃</td>\n",
       "      <td>Manchester United</td>\n",
       "      <td>Leeds United</td>\n",
       "      <td>5-1</td>\n",
       "      <td>6</td>\n",
       "      <td>1-0</td>\n",
       "      <td>4-1</td>\n",
       "    </tr>\n",
       "    <tr>\n",
       "      <th>2</th>\n",
       "      <td>English Premier League</td>\n",
       "      <td>8/14/2021 2:00:00 PM</td>\n",
       "      <td>Cloudy,  14℃～15℃</td>\n",
       "      <td>Burnley</td>\n",
       "      <td>Brighton Hove Albion</td>\n",
       "      <td>1-2</td>\n",
       "      <td>3</td>\n",
       "      <td>1-0</td>\n",
       "      <td>0-2</td>\n",
       "    </tr>\n",
       "    <tr>\n",
       "      <th>3</th>\n",
       "      <td>English Premier League</td>\n",
       "      <td>8/14/2021 2:00:00 PM</td>\n",
       "      <td>Cloudy,  17℃～18℃</td>\n",
       "      <td>Watford</td>\n",
       "      <td>Aston Villa</td>\n",
       "      <td>3-2</td>\n",
       "      <td>5</td>\n",
       "      <td>2-0</td>\n",
       "      <td>1-2</td>\n",
       "    </tr>\n",
       "    <tr>\n",
       "      <th>4</th>\n",
       "      <td>English Premier League</td>\n",
       "      <td>8/14/2021 2:00:00 PM</td>\n",
       "      <td>Cloudy,  15℃～16℃</td>\n",
       "      <td>Everton</td>\n",
       "      <td>Southampton</td>\n",
       "      <td>3-1</td>\n",
       "      <td>4</td>\n",
       "      <td>0-1</td>\n",
       "      <td>3-0</td>\n",
       "    </tr>\n",
       "  </tbody>\n",
       "</table>\n",
       "</div>"
      ],
      "text/plain": [
       "              champ_title                   date           weather  \\\n",
       "0  English Premier League   8/13/2021 7:00:00 PM  Cloudy,  16℃～17℃   \n",
       "1  English Premier League  8/14/2021 11:30:00 AM  Cloudy,  15℃～16℃   \n",
       "2  English Premier League   8/14/2021 2:00:00 PM  Cloudy,  14℃～15℃   \n",
       "3  English Premier League   8/14/2021 2:00:00 PM  Cloudy,  17℃～18℃   \n",
       "4  English Premier League   8/14/2021 2:00:00 PM  Cloudy,  15℃～16℃   \n",
       "\n",
       "                home                  away result  total_score first_half  \\\n",
       "0          Brentford               Arsenal    2-0            2        1-0   \n",
       "1  Manchester United          Leeds United    5-1            6        1-0   \n",
       "2            Burnley  Brighton Hove Albion    1-2            3        1-0   \n",
       "3            Watford           Aston Villa    3-2            5        2-0   \n",
       "4            Everton           Southampton    3-1            4        0-1   \n",
       "\n",
       "  second_half  \n",
       "0         1-0  \n",
       "1         4-1  \n",
       "2         0-2  \n",
       "3         1-2  \n",
       "4         3-0  "
      ]
     },
     "execution_count": 3,
     "metadata": {},
     "output_type": "execute_result"
    }
   ],
   "source": [
    "df.head()"
   ]
  },
  {
   "cell_type": "code",
   "execution_count": 4,
   "id": "3b1aa07d",
   "metadata": {},
   "outputs": [
    {
     "name": "stdout",
     "output_type": "stream",
     "text": [
      "<class 'pandas.core.frame.DataFrame'>\n",
      "RangeIndex: 1518 entries, 0 to 1517\n",
      "Data columns (total 9 columns):\n",
      " #   Column       Non-Null Count  Dtype \n",
      "---  ------       --------------  ----- \n",
      " 0   champ_title  1518 non-null   object\n",
      " 1   date         1518 non-null   object\n",
      " 2   weather      1427 non-null   object\n",
      " 3   home         1518 non-null   object\n",
      " 4   away         1518 non-null   object\n",
      " 5   result       1518 non-null   object\n",
      " 6   total_score  1518 non-null   int64 \n",
      " 7   first_half   1518 non-null   object\n",
      " 8   second_half  1518 non-null   object\n",
      "dtypes: int64(1), object(8)\n",
      "memory usage: 106.9+ KB\n"
     ]
    }
   ],
   "source": [
    "df.info()"
   ]
  },
  {
   "cell_type": "markdown",
   "id": "a4a079fa",
   "metadata": {},
   "source": [
    "Выводы по общей информации о данных:\n",
    "- колонка с датой имеет тип object\n",
    "- в колонке с погодой присутствуют пропуски\n",
    "- значения колонки с погодой представляют из себя текстовое описание погоды и температуры с лишними символами"
   ]
  },
  {
   "cell_type": "markdown",
   "id": "b4bf5c0d",
   "metadata": {},
   "source": [
    "### Приведение данных"
   ]
  },
  {
   "cell_type": "markdown",
   "id": "01caef24",
   "metadata": {},
   "source": [
    "Приведем колонку с датой к типу datetime"
   ]
  },
  {
   "cell_type": "code",
   "execution_count": 5,
   "id": "a7a9b9b3",
   "metadata": {},
   "outputs": [
    {
     "name": "stdout",
     "output_type": "stream",
     "text": [
      "datetime64[ns]\n"
     ]
    }
   ],
   "source": [
    "df['date'] = pd.to_datetime(df['date'])\n",
    "print(df['date'].dtypes)"
   ]
  },
  {
   "cell_type": "markdown",
   "id": "483b0e82",
   "metadata": {},
   "source": [
    "### Обработаем пропуски"
   ]
  },
  {
   "cell_type": "code",
   "execution_count": 6,
   "id": "98521192",
   "metadata": {},
   "outputs": [
    {
     "data": {
      "text/plain": [
       "champ_title    0.000000\n",
       "date           0.000000\n",
       "weather        0.059947\n",
       "home           0.000000\n",
       "away           0.000000\n",
       "result         0.000000\n",
       "total_score    0.000000\n",
       "first_half     0.000000\n",
       "second_half    0.000000\n",
       "dtype: float64"
      ]
     },
     "execution_count": 6,
     "metadata": {},
     "output_type": "execute_result"
    }
   ],
   "source": [
    "df.isna().mean()"
   ]
  },
  {
   "cell_type": "markdown",
   "id": "7bc96892",
   "metadata": {},
   "source": [
    "В колонке с погодой 6% это пропуски, удалим эти наблюдения"
   ]
  },
  {
   "cell_type": "code",
   "execution_count": 7,
   "id": "7814e494",
   "metadata": {},
   "outputs": [],
   "source": [
    "df = df.dropna()"
   ]
  },
  {
   "cell_type": "code",
   "execution_count": 8,
   "id": "5d06c6c6",
   "metadata": {},
   "outputs": [
    {
     "data": {
      "text/plain": [
       "champ_title    0.0\n",
       "date           0.0\n",
       "weather        0.0\n",
       "home           0.0\n",
       "away           0.0\n",
       "result         0.0\n",
       "total_score    0.0\n",
       "first_half     0.0\n",
       "second_half    0.0\n",
       "dtype: float64"
      ]
     },
     "execution_count": 8,
     "metadata": {},
     "output_type": "execute_result"
    }
   ],
   "source": [
    "df.isna().mean()"
   ]
  },
  {
   "cell_type": "markdown",
   "id": "9e9f51c1",
   "metadata": {},
   "source": [
    "### Обработаем дубликаты"
   ]
  },
  {
   "cell_type": "code",
   "execution_count": 9,
   "id": "87f58507",
   "metadata": {},
   "outputs": [
    {
     "data": {
      "text/plain": [
       "10"
      ]
     },
     "execution_count": 9,
     "metadata": {},
     "output_type": "execute_result"
    }
   ],
   "source": [
    "df.duplicated().sum()"
   ]
  },
  {
   "cell_type": "markdown",
   "id": "20369160",
   "metadata": {},
   "source": [
    "Всего 10 дубликатов, удалим их"
   ]
  },
  {
   "cell_type": "code",
   "execution_count": 10,
   "id": "e8e07393",
   "metadata": {},
   "outputs": [],
   "source": [
    "df = df.drop_duplicates()\n",
    "df = df.reset_index()"
   ]
  },
  {
   "cell_type": "code",
   "execution_count": 11,
   "id": "69fbbbd9",
   "metadata": {},
   "outputs": [
    {
     "data": {
      "text/plain": [
       "0"
      ]
     },
     "execution_count": 11,
     "metadata": {},
     "output_type": "execute_result"
    }
   ],
   "source": [
    "df.duplicated().sum()"
   ]
  },
  {
   "cell_type": "markdown",
   "id": "ba49b4a2",
   "metadata": {},
   "source": [
    "### Обработаем значения из колонки с погодой"
   ]
  },
  {
   "cell_type": "markdown",
   "id": "8f331036",
   "metadata": {},
   "source": [
    "Посмотрим на значения из колонки `weather`"
   ]
  },
  {
   "cell_type": "code",
   "execution_count": 12,
   "id": "f4340ea2",
   "metadata": {},
   "outputs": [
    {
     "data": {
      "text/plain": [
       "0    Cloudy,  16℃～17℃\n",
       "1    Cloudy,  15℃～16℃\n",
       "2    Cloudy,  14℃～15℃\n",
       "3    Cloudy,  17℃～18℃\n",
       "4    Cloudy,  15℃～16℃\n",
       "Name: weather, dtype: object"
      ]
     },
     "execution_count": 12,
     "metadata": {},
     "output_type": "execute_result"
    }
   ],
   "source": [
    "df['weather'].head()"
   ]
  },
  {
   "cell_type": "markdown",
   "id": "13a694a0",
   "metadata": {},
   "source": [
    "Каждое значение переменной представляет из себя: текстовое описание погоды и температуру представленную двумя значениями. Разделим значение для каждого наблюдения на две колонки: 1) текстовое описание погоды 2) средняя температура двух значений"
   ]
  },
  {
   "cell_type": "code",
   "execution_count": 13,
   "id": "74a2b044",
   "metadata": {},
   "outputs": [],
   "source": [
    "def get_weather_info(weather):\n",
    "    return weather.split(',  ')[0].strip()\n",
    "\n",
    "def get_mean_temperature(weather):\n",
    "    mean_temperature = np.mean([int(s) for s in re.findall(r'\\d+', weather)])\n",
    "    return mean_temperature"
   ]
  },
  {
   "cell_type": "code",
   "execution_count": 14,
   "id": "94b92417",
   "metadata": {},
   "outputs": [],
   "source": [
    "df['weather_info'] = df['weather'].apply(get_weather_info)\n",
    "df['temperature'] = df['weather'].apply(get_mean_temperature)"
   ]
  },
  {
   "cell_type": "code",
   "execution_count": 15,
   "id": "7176d744",
   "metadata": {},
   "outputs": [
    {
     "data": {
      "text/html": [
       "<div>\n",
       "<style scoped>\n",
       "    .dataframe tbody tr th:only-of-type {\n",
       "        vertical-align: middle;\n",
       "    }\n",
       "\n",
       "    .dataframe tbody tr th {\n",
       "        vertical-align: top;\n",
       "    }\n",
       "\n",
       "    .dataframe thead th {\n",
       "        text-align: right;\n",
       "    }\n",
       "</style>\n",
       "<table border=\"1\" class=\"dataframe\">\n",
       "  <thead>\n",
       "    <tr style=\"text-align: right;\">\n",
       "      <th></th>\n",
       "      <th>index</th>\n",
       "      <th>champ_title</th>\n",
       "      <th>date</th>\n",
       "      <th>weather</th>\n",
       "      <th>home</th>\n",
       "      <th>away</th>\n",
       "      <th>result</th>\n",
       "      <th>total_score</th>\n",
       "      <th>first_half</th>\n",
       "      <th>second_half</th>\n",
       "      <th>weather_info</th>\n",
       "      <th>temperature</th>\n",
       "    </tr>\n",
       "  </thead>\n",
       "  <tbody>\n",
       "    <tr>\n",
       "      <th>0</th>\n",
       "      <td>0</td>\n",
       "      <td>English Premier League</td>\n",
       "      <td>2021-08-13 19:00:00</td>\n",
       "      <td>Cloudy,  16℃～17℃</td>\n",
       "      <td>Brentford</td>\n",
       "      <td>Arsenal</td>\n",
       "      <td>2-0</td>\n",
       "      <td>2</td>\n",
       "      <td>1-0</td>\n",
       "      <td>1-0</td>\n",
       "      <td>Cloudy</td>\n",
       "      <td>16.5</td>\n",
       "    </tr>\n",
       "    <tr>\n",
       "      <th>1</th>\n",
       "      <td>1</td>\n",
       "      <td>English Premier League</td>\n",
       "      <td>2021-08-14 11:30:00</td>\n",
       "      <td>Cloudy,  15℃～16℃</td>\n",
       "      <td>Manchester United</td>\n",
       "      <td>Leeds United</td>\n",
       "      <td>5-1</td>\n",
       "      <td>6</td>\n",
       "      <td>1-0</td>\n",
       "      <td>4-1</td>\n",
       "      <td>Cloudy</td>\n",
       "      <td>15.5</td>\n",
       "    </tr>\n",
       "    <tr>\n",
       "      <th>2</th>\n",
       "      <td>2</td>\n",
       "      <td>English Premier League</td>\n",
       "      <td>2021-08-14 14:00:00</td>\n",
       "      <td>Cloudy,  14℃～15℃</td>\n",
       "      <td>Burnley</td>\n",
       "      <td>Brighton Hove Albion</td>\n",
       "      <td>1-2</td>\n",
       "      <td>3</td>\n",
       "      <td>1-0</td>\n",
       "      <td>0-2</td>\n",
       "      <td>Cloudy</td>\n",
       "      <td>14.5</td>\n",
       "    </tr>\n",
       "    <tr>\n",
       "      <th>3</th>\n",
       "      <td>3</td>\n",
       "      <td>English Premier League</td>\n",
       "      <td>2021-08-14 14:00:00</td>\n",
       "      <td>Cloudy,  17℃～18℃</td>\n",
       "      <td>Watford</td>\n",
       "      <td>Aston Villa</td>\n",
       "      <td>3-2</td>\n",
       "      <td>5</td>\n",
       "      <td>2-0</td>\n",
       "      <td>1-2</td>\n",
       "      <td>Cloudy</td>\n",
       "      <td>17.5</td>\n",
       "    </tr>\n",
       "    <tr>\n",
       "      <th>4</th>\n",
       "      <td>4</td>\n",
       "      <td>English Premier League</td>\n",
       "      <td>2021-08-14 14:00:00</td>\n",
       "      <td>Cloudy,  15℃～16℃</td>\n",
       "      <td>Everton</td>\n",
       "      <td>Southampton</td>\n",
       "      <td>3-1</td>\n",
       "      <td>4</td>\n",
       "      <td>0-1</td>\n",
       "      <td>3-0</td>\n",
       "      <td>Cloudy</td>\n",
       "      <td>15.5</td>\n",
       "    </tr>\n",
       "  </tbody>\n",
       "</table>\n",
       "</div>"
      ],
      "text/plain": [
       "   index             champ_title                date           weather  \\\n",
       "0      0  English Premier League 2021-08-13 19:00:00  Cloudy,  16℃～17℃   \n",
       "1      1  English Premier League 2021-08-14 11:30:00  Cloudy,  15℃～16℃   \n",
       "2      2  English Premier League 2021-08-14 14:00:00  Cloudy,  14℃～15℃   \n",
       "3      3  English Premier League 2021-08-14 14:00:00  Cloudy,  17℃～18℃   \n",
       "4      4  English Premier League 2021-08-14 14:00:00  Cloudy,  15℃～16℃   \n",
       "\n",
       "                home                  away result  total_score first_half  \\\n",
       "0          Brentford               Arsenal    2-0            2        1-0   \n",
       "1  Manchester United          Leeds United    5-1            6        1-0   \n",
       "2            Burnley  Brighton Hove Albion    1-2            3        1-0   \n",
       "3            Watford           Aston Villa    3-2            5        2-0   \n",
       "4            Everton           Southampton    3-1            4        0-1   \n",
       "\n",
       "  second_half weather_info  temperature  \n",
       "0         1-0       Cloudy         16.5  \n",
       "1         4-1       Cloudy         15.5  \n",
       "2         0-2       Cloudy         14.5  \n",
       "3         1-2       Cloudy         17.5  \n",
       "4         3-0       Cloudy         15.5  "
      ]
     },
     "execution_count": 15,
     "metadata": {},
     "output_type": "execute_result"
    }
   ],
   "source": [
    "df.head()"
   ]
  },
  {
   "cell_type": "markdown",
   "id": "fb3ec0df",
   "metadata": {},
   "source": [
    "## Исследовательский анализ"
   ]
  },
  {
   "cell_type": "markdown",
   "id": "8bbed879",
   "metadata": {},
   "source": [
    "### Даты проведения матчей"
   ]
  },
  {
   "cell_type": "markdown",
   "id": "5e564f68",
   "metadata": {},
   "source": [
    "Выделим в отдельную колонку значения с месяцем проведения матчей"
   ]
  },
  {
   "cell_type": "code",
   "execution_count": 16,
   "id": "05540f18",
   "metadata": {},
   "outputs": [],
   "source": [
    "df['month'] = df['date'].dt.month"
   ]
  },
  {
   "cell_type": "markdown",
   "id": "5830aa6c",
   "metadata": {},
   "source": [
    "#### Доля матчей по месяцам"
   ]
  },
  {
   "cell_type": "code",
   "execution_count": 17,
   "id": "69e01ff5",
   "metadata": {},
   "outputs": [
    {
     "data": {
      "image/png": "[encoded data removed]",
      "text/plain": [
       "<Figure size 432x288 with 1 Axes>"
      ]
     },
     "metadata": {
      "needs_background": "light"
     },
     "output_type": "display_data"
    }
   ],
   "source": [
    "df['month'].value_counts(normalize=True).sort_index().plot(kind='bar')\n",
    "plt.title('Доля матчей по месяцам')\n",
    "plt.xlabel('Месяц')\n",
    "plt.ylabel('Доля матчей')\n",
    "plt.show()"
   ]
  },
  {
   "cell_type": "markdown",
   "id": "48dd4d70",
   "metadata": {},
   "source": [
    "Больше всего матчей за представленные года проходили в декабре, меньше всего в июне."
   ]
  },
  {
   "cell_type": "markdown",
   "id": "2ae3c2d3",
   "metadata": {},
   "source": [
    "#### Доля матчей по временам года"
   ]
  },
  {
   "cell_type": "markdown",
   "id": "7c9b283c",
   "metadata": {},
   "source": [
    "Теперь посмотрим на долю матчей по временам года, для этого создадим новую колонку `season` значениями которой будут числа от 1 до 4 - зима, весна, лето, осень соответственно"
   ]
  },
  {
   "cell_type": "code",
   "execution_count": 18,
   "id": "61ec4074",
   "metadata": {},
   "outputs": [],
   "source": [
    "df['season'] = df['date'].dt.month.apply(lambda m: m % 12 // 3 + 1)"
   ]
  },
  {
   "cell_type": "code",
   "execution_count": 19,
   "id": "69a81b0b",
   "metadata": {},
   "outputs": [
    {
     "data": {
      "image/png": "[encoded data removed]",
      "text/plain": [
       "<Figure size 432x288 with 1 Axes>"
      ]
     },
     "metadata": {
      "needs_background": "light"
     },
     "output_type": "display_data"
    }
   ],
   "source": [
    "df['season'].value_counts(normalize=True).plot(kind='bar')\n",
    "plt.title('Доля матчей по временам года')\n",
    "plt.xlabel('Время года')\n",
    "plt.ylabel('Доля матчей')\n",
    "plt.show()"
   ]
  },
  {
   "cell_type": "markdown",
   "id": "d54bfed2",
   "metadata": {},
   "source": [
    "Больше всего матчей проходило зимой, меньше всего летом"
   ]
  },
  {
   "cell_type": "markdown",
   "id": "ad84efb5",
   "metadata": {},
   "source": [
    "### Погода на начало матчей"
   ]
  },
  {
   "cell_type": "markdown",
   "id": "2594a15a",
   "metadata": {},
   "source": [
    "#### Переменная с описанием погоды"
   ]
  },
  {
   "cell_type": "markdown",
   "id": "96996310",
   "metadata": {},
   "source": [
    "Посмотрим какие значения описания представлены и их долю от всех наблюдений"
   ]
  },
  {
   "cell_type": "code",
   "execution_count": 20,
   "id": "67385e8a",
   "metadata": {},
   "outputs": [
    {
     "data": {
      "text/plain": [
       "Light rain       0.391673\n",
       "Cloudy           0.262526\n",
       "Partly cloudy    0.208892\n",
       "Sunny            0.043049\n",
       "Thundershower    0.031757\n",
       "Snow             0.023289\n",
       "Partly sunny     0.019054\n",
       "Overcast         0.009880\n",
       "Storm            0.007763\n",
       "Moderate Rain    0.001411\n",
       "Foggy            0.000706\n",
       "Name: weather_info, dtype: float64"
      ]
     },
     "execution_count": 20,
     "metadata": {},
     "output_type": "execute_result"
    }
   ],
   "source": [
    "df['weather_info'].value_counts(normalize=True)"
   ]
  },
  {
   "cell_type": "markdown",
   "id": "8170f04e",
   "metadata": {},
   "source": [
    "Самая часто встречающаяся погода - `Light rain` легкий дождь. А вот матчей в солнечные дни было всего 4%"
   ]
  },
  {
   "cell_type": "markdown",
   "id": "a05bf120",
   "metadata": {},
   "source": [
    "#### Переменная с температурой воздуха"
   ]
  },
  {
   "cell_type": "markdown",
   "id": "ab0ce5e9",
   "metadata": {},
   "source": [
    "Посмотим на распределение значений температуры"
   ]
  },
  {
   "cell_type": "code",
   "execution_count": 21,
   "id": "015beb67",
   "metadata": {},
   "outputs": [
    {
     "data": {
      "image/png": "[encoded data removed]",
      "text/plain": [
       "<Figure size 432x288 with 1 Axes>"
      ]
     },
     "metadata": {
      "needs_background": "light"
     },
     "output_type": "display_data"
    }
   ],
   "source": [
    "df['temperature'].hist()\n",
    "plt.title('Распределение значений температуры воздуха')\n",
    "plt.xlabel('Температура (С\\u00b0)')\n",
    "plt.ylabel('Количество матчей')\n",
    "plt.show()"
   ]
  },
  {
   "cell_type": "code",
   "execution_count": 22,
   "id": "e38af5b5",
   "metadata": {},
   "outputs": [
    {
     "name": "stdout",
     "output_type": "stream",
     "text": [
      "Средняя температура: 9.39\n"
     ]
    }
   ],
   "source": [
    "print('Средняя температура:', df['temperature'].mean().round(2))"
   ]
  },
  {
   "cell_type": "markdown",
   "id": "2e046db5",
   "metadata": {},
   "source": [
    "Самое частое значение температуры находится в диапазоне от 5 до 10 градусов, при этом температура на начало всех матчей была не ниже 0 и не выше 25 градусов, очень комфортная температура для игры"
   ]
  },
  {
   "cell_type": "markdown",
   "id": "aa26afba",
   "metadata": {},
   "source": [
    "### Количество голов в матче"
   ]
  },
  {
   "cell_type": "markdown",
   "id": "f7d0e754",
   "metadata": {},
   "source": [
    "#### Посмотрим на распределение количества голов за матч"
   ]
  },
  {
   "cell_type": "code",
   "execution_count": 23,
   "id": "1cf745fb",
   "metadata": {},
   "outputs": [
    {
     "data": {
      "image/png": "[encoded data removed]",
      "text/plain": [
       "<Figure size 432x288 with 1 Axes>"
      ]
     },
     "metadata": {
      "needs_background": "light"
     },
     "output_type": "display_data"
    }
   ],
   "source": [
    "df['total_score'].hist()\n",
    "plt.title('Распределение значений количества голов за матч')\n",
    "plt.xlabel('Количество голов')\n",
    "plt.ylabel('Количество матчей')\n",
    "plt.show()"
   ]
  },
  {
   "cell_type": "code",
   "execution_count": 24,
   "id": "5f1fb451",
   "metadata": {},
   "outputs": [
    {
     "name": "stdout",
     "output_type": "stream",
     "text": [
      "Среднее количество голов за матч: 2.75\n"
     ]
    }
   ],
   "source": [
    "print('Среднее количество голов за матч:', df['total_score'].mean().round(2))"
   ]
  },
  {
   "cell_type": "markdown",
   "id": "bf8cd015",
   "metadata": {},
   "source": [
    "Самое распространенное значение количества голов за матч лежит в интервале от 2 до 4 голов. Среднее значение 2.75 "
   ]
  },
  {
   "cell_type": "markdown",
   "id": "027e9d4f",
   "metadata": {},
   "source": [
    "#### Посмотрим на изменение среднего значения голов по месяцам"
   ]
  },
  {
   "cell_type": "code",
   "execution_count": 25,
   "id": "9847cd06",
   "metadata": {},
   "outputs": [
    {
     "data": {
      "image/png": "[encoded data removed]",
      "text/plain": [
       "<Figure size 720x360 with 1 Axes>"
      ]
     },
     "metadata": {
      "needs_background": "light"
     },
     "output_type": "display_data"
    }
   ],
   "source": [
    "(df.groupby('month')\n",
    "   .agg(mean_total_score=('total_score', 'mean'))\n",
    "   .plot(figsize=(10,5), grid=True))\n",
    "\n",
    "plt.title('Изменение среднего количества голов за матч по месяцам')\n",
    "plt.xticks(ticks=df['month'].unique())\n",
    "plt.xlabel('Месяц')\n",
    "plt.ylabel('Среднее количество голов за матч')\n",
    "plt.show()"
   ]
  },
  {
   "cell_type": "markdown",
   "id": "c2d83312",
   "metadata": {},
   "source": [
    "Наблюдаем очень резкое падение среднего количества голов в июне, подобное падение мы видели на графике доли матчей по месяцам. Для сравнения построим график количества матчей по месяцам"
   ]
  },
  {
   "cell_type": "code",
   "execution_count": 26,
   "id": "cc0fb647",
   "metadata": {},
   "outputs": [
    {
     "data": {
      "image/png": "[encoded data removed]",
      "text/plain": [
       "<Figure size 720x360 with 1 Axes>"
      ]
     },
     "metadata": {
      "needs_background": "light"
     },
     "output_type": "display_data"
    }
   ],
   "source": [
    "(df.groupby('month')\n",
    "   .agg({'month': 'count'})\n",
    "   .plot(figsize=(10,5), grid=True))\n",
    "\n",
    "plt.title('Изменение количества матчей по месяцам')\n",
    "plt.xticks(ticks=df['month'].unique())\n",
    "plt.xlabel('Месяц')\n",
    "plt.ylabel('Количество матчей')\n",
    "plt.show()"
   ]
  },
  {
   "cell_type": "markdown",
   "id": "85d9843b",
   "metadata": {},
   "source": [
    "В обычное время игровой сезон Английской Премьер Лиги проходит с начала августа по конец мая и матчей в июне и июле быть не должно, однако в 2020 году сезон был продлен до конца июля, в связи с перерывом в ходе чемпионата из-за пандемии, поэтому июнь и июль на графике выбивается по показателям количества матчей. Удалим этот аномальный период и посмотрим на изменение среднего количество голов за матч по месяцам"
   ]
  },
  {
   "cell_type": "code",
   "execution_count": 27,
   "id": "1f25968d",
   "metadata": {},
   "outputs": [
    {
     "data": {
      "image/png": "[encoded data removed]",
      "text/plain": [
       "<Figure size 720x360 with 1 Axes>"
      ]
     },
     "metadata": {
      "needs_background": "light"
     },
     "output_type": "display_data"
    }
   ],
   "source": [
    "(df[(df['date'] < '2020-06-01') | (df['date'] > '2020-07-31')].groupby('month')\n",
    "   .agg(mean_total_score=('total_score', 'mean'))\n",
    "   .plot(figsize=(10,5), grid=True))\n",
    "\n",
    "plt.title('Изменение среднего количества голов за матч по месяцам')\n",
    "plt.xticks(ticks=df['month'].unique())\n",
    "plt.xlabel('Месяц')\n",
    "plt.ylabel('Среднее количество голов за матч')\n",
    "plt.show()"
   ]
  },
  {
   "cell_type": "markdown",
   "id": "dc4bdc6a",
   "metadata": {},
   "source": [
    "Самое большое срденее количество голов за игру в мае, самое маленькое в марте"
   ]
  },
  {
   "cell_type": "markdown",
   "id": "3e378462",
   "metadata": {},
   "source": [
    "#### Посмотрим на распределения значений забитых голов в матчах в зависимости от категорий погоды"
   ]
  },
  {
   "cell_type": "code",
   "execution_count": 28,
   "id": "186ffa99",
   "metadata": {},
   "outputs": [
    {
     "data": {
      "text/plain": [
       "Light rain       0.391673\n",
       "Cloudy           0.262526\n",
       "Partly cloudy    0.208892\n",
       "Sunny            0.043049\n",
       "Thundershower    0.031757\n",
       "Snow             0.023289\n",
       "Partly sunny     0.019054\n",
       "Overcast         0.009880\n",
       "Storm            0.007763\n",
       "Moderate Rain    0.001411\n",
       "Foggy            0.000706\n",
       "Name: weather_info, dtype: float64"
      ]
     },
     "execution_count": 28,
     "metadata": {},
     "output_type": "execute_result"
    }
   ],
   "source": [
    "df['weather_info'].value_counts(normalize=True)"
   ]
  },
  {
   "cell_type": "markdown",
   "id": "08c4a1e0",
   "metadata": {},
   "source": [
    "На основе значений описания погоды выделим условно плохую погоду"
   ]
  },
  {
   "cell_type": "code",
   "execution_count": 29,
   "id": "042e1eda",
   "metadata": {},
   "outputs": [],
   "source": [
    "bad_weather = ['Thundershower', 'Snow', 'Storm', 'Moderate Rain']"
   ]
  },
  {
   "cell_type": "markdown",
   "id": "db2b933a",
   "metadata": {},
   "source": [
    "Переменная `bad_weather` содержит следующие значения:\n",
    "- 'Thundershower' - грозовой ливень\n",
    "- 'Snow' - снег\n",
    "- 'Storm' - шторм\n",
    "- 'Moderate Rain' - умеренный дождь\n",
    "\n",
    "Соответственно остальные значения будем считать нормальной погодой"
   ]
  },
  {
   "cell_type": "markdown",
   "id": "98b00461",
   "metadata": {},
   "source": [
    "Разделим матчи с нормальной и плохой погодой"
   ]
  },
  {
   "cell_type": "code",
   "execution_count": 30,
   "id": "a38dac6c",
   "metadata": {},
   "outputs": [],
   "source": [
    "normal_weather_df = df[df['weather_info'].isin(bad_weather) == False]\n",
    "bad_weather_df = df[df['weather_info'].isin(bad_weather)]"
   ]
  },
  {
   "cell_type": "code",
   "execution_count": 31,
   "id": "5284239c",
   "metadata": {},
   "outputs": [
    {
     "data": {
      "text/plain": [
       "(1326, 91)"
      ]
     },
     "execution_count": 31,
     "metadata": {},
     "output_type": "execute_result"
    }
   ],
   "source": [
    "len(normal_weather_df), len(bad_weather_df)"
   ]
  },
  {
   "cell_type": "markdown",
   "id": "043049bf",
   "metadata": {},
   "source": [
    "Имеем 1326 матчей с номальной погодой и 91 матч с плохой"
   ]
  },
  {
   "cell_type": "markdown",
   "id": "9437fbfb",
   "metadata": {},
   "source": [
    "<span id=\"total_score_dist\">Теперь посмотрим на отличие распределений плотностей количества голов за матч в нормальную погоду и в плохую</span>"
   ]
  },
  {
   "cell_type": "code",
   "execution_count": 32,
   "id": "b886f53e",
   "metadata": {},
   "outputs": [
    {
     "data": {
      "image/png": "[encoded data removed]",
      "text/plain": [
       "<Figure size 432x288 with 1 Axes>"
      ]
     },
     "metadata": {
      "needs_background": "light"
     },
     "output_type": "display_data"
    }
   ],
   "source": [
    "normal_weather_df['total_score'].hist(density=True, label='normal weather')\n",
    "bad_weather_df['total_score'].hist(alpha=0.4, color='red', label='bad weather', density=True)\n",
    "plt.title('Распределения количество голов за матч в зависимости от погоды')\n",
    "plt.legend()\n",
    "plt.xlabel('Количество голов')\n",
    "plt.ylabel('Плотность')\n",
    "plt.show()"
   ]
  },
  {
   "cell_type": "markdown",
   "id": "65222039",
   "metadata": {},
   "source": [
    "Распределения очень похожи, есть некоторые отличия, но так как выборка с плохой погодой достаточно мала, то с большей вероятностью мы будем получать случайные отклонения"
   ]
  },
  {
   "cell_type": "markdown",
   "id": "27a62b2e",
   "metadata": {},
   "source": [
    "#### Посмотрим на средние значения забитых голов в матчах в зависимости от категорий погоды"
   ]
  },
  {
   "cell_type": "code",
   "execution_count": 33,
   "id": "0ba1cb5a",
   "metadata": {},
   "outputs": [
    {
     "data": {
      "text/plain": [
       "mean      2.738311\n",
       "median    3.000000\n",
       "std       1.605226\n",
       "Name: total_score, dtype: float64"
      ]
     },
     "execution_count": 33,
     "metadata": {},
     "output_type": "execute_result"
    }
   ],
   "source": [
    "normal_weather_df['total_score'].agg(['mean', 'median', 'std'])"
   ]
  },
  {
   "cell_type": "code",
   "execution_count": 34,
   "id": "fa646547",
   "metadata": {},
   "outputs": [
    {
     "data": {
      "text/plain": [
       "mean      2.879121\n",
       "median    3.000000\n",
       "std       1.787830\n",
       "Name: total_score, dtype: float64"
      ]
     },
     "execution_count": 34,
     "metadata": {},
     "output_type": "execute_result"
    }
   ],
   "source": [
    "bad_weather_df['total_score'].agg(['mean', 'median', 'std'])"
   ]
  },
  {
   "cell_type": "markdown",
   "id": "077bd6ad",
   "metadata": {},
   "source": [
    "У выборки с плохой погодой среднее количество голов за матч больше, но и стандартное отклонение тоже"
   ]
  },
  {
   "cell_type": "markdown",
   "id": "b5813fd1",
   "metadata": {},
   "source": [
    "#### Посмотрим на распределения количества голов за матч, в зависимости от категории температуры"
   ]
  },
  {
   "cell_type": "markdown",
   "id": "90a877aa",
   "metadata": {},
   "source": [
    "Разделим температуру матчей на 3 условных категории - низкая, средняя, высокая с равными интервалами температур"
   ]
  },
  {
   "cell_type": "code",
   "execution_count": 35,
   "id": "adec8df1",
   "metadata": {},
   "outputs": [
    {
     "data": {
      "text/plain": [
       "low     745\n",
       "mid     554\n",
       "high    118\n",
       "Name: temperature_cat, dtype: int64"
      ]
     },
     "execution_count": 35,
     "metadata": {},
     "output_type": "execute_result"
    }
   ],
   "source": [
    "df['temperature_cat'] = pd.cut(df['temperature'], 3, labels=('low', 'mid', 'high'))\n",
    "df['temperature_cat'].value_counts()"
   ]
  },
  {
   "cell_type": "code",
   "execution_count": 36,
   "id": "9bd9affe",
   "metadata": {},
   "outputs": [
    {
     "data": {
      "image/png": "[encoded data removed]",
      "text/plain": [
       "<Figure size 720x360 with 1 Axes>"
      ]
     },
     "metadata": {
      "needs_background": "light"
     },
     "output_type": "display_data"
    }
   ],
   "source": [
    "plt.figure(figsize=(10, 5))\n",
    "sns.kdeplot(df[df['temperature_cat'] == 'low']['total_score'], label='low')\n",
    "sns.kdeplot(df[df['temperature_cat'] == 'mid']['total_score'], label='mid')\n",
    "sns.kdeplot(df[df['temperature_cat'] == 'high']['total_score'], label='high')\n",
    "plt.grid()\n",
    "plt.title('Распределения плотностей количества голов за матч в зависимости от температуры')\n",
    "plt.legend()\n",
    "plt.show()"
   ]
  },
  {
   "cell_type": "markdown",
   "id": "3ce9669f",
   "metadata": {},
   "source": [
    "Особых отклонений на графике распределений не видно"
   ]
  },
  {
   "cell_type": "markdown",
   "id": "34f8ea74",
   "metadata": {},
   "source": [
    "#### Посмотрим на средние значения в зависимости от категорий температуры"
   ]
  },
  {
   "cell_type": "code",
   "execution_count": 37,
   "id": "bdbb7185",
   "metadata": {},
   "outputs": [
    {
     "data": {
      "text/html": [
       "<div>\n",
       "<style scoped>\n",
       "    .dataframe tbody tr th:only-of-type {\n",
       "        vertical-align: middle;\n",
       "    }\n",
       "\n",
       "    .dataframe tbody tr th {\n",
       "        vertical-align: top;\n",
       "    }\n",
       "\n",
       "    .dataframe thead tr th {\n",
       "        text-align: left;\n",
       "    }\n",
       "\n",
       "    .dataframe thead tr:last-of-type th {\n",
       "        text-align: right;\n",
       "    }\n",
       "</style>\n",
       "<table border=\"1\" class=\"dataframe\">\n",
       "  <thead>\n",
       "    <tr>\n",
       "      <th></th>\n",
       "      <th colspan=\"3\" halign=\"left\">total_score</th>\n",
       "    </tr>\n",
       "    <tr>\n",
       "      <th></th>\n",
       "      <th>mean</th>\n",
       "      <th>median</th>\n",
       "      <th>std</th>\n",
       "    </tr>\n",
       "    <tr>\n",
       "      <th>temperature_cat</th>\n",
       "      <th></th>\n",
       "      <th></th>\n",
       "      <th></th>\n",
       "    </tr>\n",
       "  </thead>\n",
       "  <tbody>\n",
       "    <tr>\n",
       "      <th>low</th>\n",
       "      <td>2.681879</td>\n",
       "      <td>3.0</td>\n",
       "      <td>1.617115</td>\n",
       "    </tr>\n",
       "    <tr>\n",
       "      <th>mid</th>\n",
       "      <td>2.841155</td>\n",
       "      <td>3.0</td>\n",
       "      <td>1.621522</td>\n",
       "    </tr>\n",
       "    <tr>\n",
       "      <th>high</th>\n",
       "      <td>2.720339</td>\n",
       "      <td>3.0</td>\n",
       "      <td>1.589956</td>\n",
       "    </tr>\n",
       "  </tbody>\n",
       "</table>\n",
       "</div>"
      ],
      "text/plain": [
       "                total_score                 \n",
       "                       mean median       std\n",
       "temperature_cat                             \n",
       "low                2.681879    3.0  1.617115\n",
       "mid                2.841155    3.0  1.621522\n",
       "high               2.720339    3.0  1.589956"
      ]
     },
     "execution_count": 37,
     "metadata": {},
     "output_type": "execute_result"
    }
   ],
   "source": [
    "df.groupby('temperature_cat').agg({'total_score': ['mean', 'median', 'std']})"
   ]
  },
  {
   "cell_type": "markdown",
   "id": "61e70616",
   "metadata": {},
   "source": [
    "Самое большое среднее значение у категории средняя температура `mid`, самое маленькое у `low`"
   ]
  },
  {
   "cell_type": "markdown",
   "id": "ef4384f5",
   "metadata": {},
   "source": [
    "## Проверка гипотез"
   ]
  },
  {
   "cell_type": "markdown",
   "id": "d39dcbcf",
   "metadata": {},
   "source": [
    "### Различие среднего количества голов за матч в нормальную и плохую погоду"
   ]
  },
  {
   "cell_type": "markdown",
   "id": "b58d6732",
   "metadata": {},
   "source": [
    "Сформулируем гипотезы:"
   ]
  },
  {
   "cell_type": "markdown",
   "id": "4a74cb99",
   "metadata": {},
   "source": [
    "$H_{0}: \\mu_1 = \\mu_2\\\\$  \n",
    "$H_{1}: \\mu_1 \\neq \\mu_2$"
   ]
  },
  {
   "cell_type": "markdown",
   "id": "b2269e65",
   "metadata": {},
   "source": [
    "**Основная (нулевая) гипотеза** - среднее количество голов за матч в нормальную погоду не имеет статистически значимой разницы с средним количеством голов за матч в плохую погоду\n",
    "\n",
    "**Альтернативная гипотеза** - среднее количество голов за матч в нормальную погоду имеет статистически значимую разницу с средним количеством голов за матч в плохую погоду"
   ]
  },
  {
   "cell_type": "markdown",
   "id": "18674573",
   "metadata": {},
   "source": [
    "Так как мы уже видели [распределения количества голов за матч](#total_score_dist) и их форма близка к нормальной, с некоторым отклонением в правую сторону, то для проверки гипотезы проведем двухвыборочный t-test Стьюдента с уровнем значимости в 5% и предположением о том, что дисперсия в выборках равна, так как мы знаем, что выборки взяты из одной генеральной совокупности"
   ]
  },
  {
   "cell_type": "code",
   "execution_count": 38,
   "id": "83b0f8f3",
   "metadata": {},
   "outputs": [
    {
     "name": "stdout",
     "output_type": "stream",
     "text": [
      "2.738 2.879\n",
      "p-значение: 0.4219023242882387\n",
      "Не получилось отвергнуть нулевую гипотезу\n"
     ]
    }
   ],
   "source": [
    "alpha = .05\n",
    "\n",
    "normal_weather_scores = normal_weather_df['total_score']\n",
    "bad_weather_scores = bad_weather_df['total_score']\n",
    "\n",
    "results = st.ttest_ind(normal_weather_scores, bad_weather_scores)\n",
    "\n",
    "print(normal_weather_scores.mean().round(3), bad_weather_scores.mean().round(3))\n",
    "print('p-значение:', results.pvalue)\n",
    "\n",
    "if results.pvalue < alpha:\n",
    "    print('Отвергаем нулевую гипотезу')\n",
    "else:\n",
    "    print('Не получилось отвергнуть нулевую гипотезу') "
   ]
  },
  {
   "cell_type": "markdown",
   "id": "399ba668",
   "metadata": {},
   "source": [
    "У нас нет оснований полагать, что среднее количество голов в матчах при нормальной погоде имеет различия с средним количеством голов в матчах с плохой погодой"
   ]
  },
  {
   "cell_type": "markdown",
   "id": "29390d71",
   "metadata": {},
   "source": [
    "### Различие среднего количества голов в матчах проводимых при низкой, средней и высокой температурой воздуха"
   ]
  },
  {
   "cell_type": "markdown",
   "id": "fec1945f",
   "metadata": {},
   "source": [
    "Сформулируем гипотезы:"
   ]
  },
  {
   "cell_type": "markdown",
   "id": "3f1f3778",
   "metadata": {},
   "source": [
    "$H_{0}: \\mu_{low} = \\mu_{mid},\\ \\mu_{mid} = \\mu_{high},\\ \\mu_{low} = \\mu_{high}\\\\$    \n",
    "$H_{1}: \\mu_{low} \\neq \\mu_{mid},\\ \\mu_{mid} \\neq \\mu_{high},\\ \\mu_{low} \\neq \\mu_{high}$"
   ]
  },
  {
   "cell_type": "markdown",
   "id": "82c5afcb",
   "metadata": {},
   "source": [
    "**Основная (нулевая) гипотеза** - среднее количество голов за матч не имеет значимых различий между матчами проходившими при низкой и средней, средней и высокой, низкой и высокой температурой\n",
    "\n",
    "**Альтернативная гипотеза** - среднее количество голов за матч имеет значимые различия между матчами проходившими при низкой и средней, средней и высокой, низкой и высокой температурой"
   ]
  },
  {
   "cell_type": "markdown",
   "id": "14ca0279",
   "metadata": {},
   "source": [
    "Так как в данном случае мы будем проводить множественные сравнения $m = 3$ попарных сравнения, применим поправку уровня значимости методом Бонферрони $\\alpha_{bonferroni} = \\alpha / m$"
   ]
  },
  {
   "cell_type": "code",
   "execution_count": 39,
   "id": "258acac5",
   "metadata": {},
   "outputs": [
    {
     "name": "stdout",
     "output_type": "stream",
     "text": [
      "p-значение для сравнения групп low и mid:  0.07973338878506027\n",
      "p-значение для сравнения групп mid и high:  0.4611604440941929\n",
      "p-значение для сравнения групп low и high:  0.8099356595706397\n",
      "\n",
      "Не получилось отвергнуть нулевую гипотезу для сравнения групп low и mid\n",
      "Не получилось отвергнуть нулевую гипотезу для сравнения групп mid и high\n",
      "Не получилось отвергнуть нулевую гипотезу для сравнения групп low и high\n"
     ]
    }
   ],
   "source": [
    "alpha = .05\n",
    "bonferroni_alpha = alpha / 3\n",
    "\n",
    "low_temperature_scores = df[df['temperature_cat'] == 'low']['total_score']\n",
    "mid_temperature_scores = df[df['temperature_cat'] == 'mid']['total_score']\n",
    "high_temperature_scores = df[df['temperature_cat'] == 'high']['total_score']\n",
    "\n",
    "results_low_mid = st.ttest_ind(low_temperature_scores, mid_temperature_scores)\n",
    "\n",
    "results_mid_high = st.ttest_ind(mid_temperature_scores, high_temperature_scores)\n",
    "\n",
    "results_low_high = st.ttest_ind(low_temperature_scores, high_temperature_scores)\n",
    "\n",
    "print('p-значение для сравнения групп low и mid: ', results_low_mid.pvalue)\n",
    "print('p-значение для сравнения групп mid и high: ', results_mid_high.pvalue)\n",
    "print('p-значение для сравнения групп low и high: ', results_low_high.pvalue)\n",
    "print()\n",
    "if results_low_mid.pvalue < bonferroni_alpha:\n",
    "    print('Отвергаем нулевую гипотезу для сравнения групп low и mid')\n",
    "else:\n",
    "    print(\n",
    "        'Не получилось отвергнуть нулевую гипотезу для сравнения групп low и mid'\n",
    "    )\n",
    "\n",
    "if results_mid_high.pvalue < bonferroni_alpha:\n",
    "    print('Отвергаем нулевую гипотезу для сравнения групп mid и high')\n",
    "else:\n",
    "    print(\n",
    "        'Не получилось отвергнуть нулевую гипотезу для сравнения групп mid и high'\n",
    "    )\n",
    "\n",
    "if results_low_high.pvalue < bonferroni_alpha:\n",
    "    print('Отвергаем нулевую гипотезу для сравнения групп low и high')\n",
    "else:\n",
    "    print(\n",
    "        'Не получилось отвергнуть нулевую гипотезу для сравнения групп low и high'\n",
    "    ) "
   ]
  },
  {
   "cell_type": "markdown",
   "id": "d6f6c90c",
   "metadata": {},
   "source": [
    "У нас нет оснований полагать, что есть значимые различия между средними значениями голов в матчах с разными категориями температур воздуха"
   ]
  },
  {
   "cell_type": "markdown",
   "id": "415a3a73",
   "metadata": {},
   "source": [
    "## Выводы\n",
    "- В результате проверки гипотез, у нас нет оснований полагать, что количество голов в матчах имеет значимое различие в зависимости от погоды и температуры\n",
    "- Так как Англия имеет очень маленькую территорию и умеренный климат, получается, что диапазон температур достаточно узкий, при этом крайние значения температур достаточно комфортные для игр, поэтому влияние температуры на количество голов в матчах скорее всего довольно низко \n",
    "- Возможно стоит проверить эти же гипотезы, для чемпионата с более экстремальной погодой, например для Российской Премьер Лиги"
   ]
  }
 ],
 "metadata": {
  "kernelspec": {
   "display_name": "Python 3",
   "language": "python",
   "name": "python3"
  },
  "language_info": {
   "codemirror_mode": {
    "name": "ipython",
    "version": 3
   },
   "file_extension": ".py",
   "mimetype": "text/x-python",
   "name": "python",
   "nbconvert_exporter": "python",
   "pygments_lexer": "ipython3",
   "version": "3.8.10"
  },
  "toc": {
   "base_numbering": 1,
   "nav_menu": {},
   "number_sections": true,
   "sideBar": true,
   "skip_h1_title": true,
   "title_cell": "Содержание",
   "title_sidebar": "Contents",
   "toc_cell": true,
   "toc_position": {
    "height": "calc(100% - 180px)",
    "left": "10px",
    "top": "150px",
    "width": "288.391px"
   },
   "toc_section_display": true,
   "toc_window_display": false
  }
 },
 "nbformat": 4,
 "nbformat_minor": 5
}
