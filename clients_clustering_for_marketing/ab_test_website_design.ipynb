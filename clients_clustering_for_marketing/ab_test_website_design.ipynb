{
 "cells": [
  {
   "cell_type": "markdown",
   "id": "6e137cba",
   "metadata": {
    "toc": true
   },
   "source": [
    "<h1>Содержание<span class=\"tocSkip\"></span></h1>\n",
    "<div class=\"toc\"><ul class=\"toc-item\"><li><span><a href=\"#Задачи\" data-toc-modified-id=\"Задачи-1\"><span class=\"toc-item-num\">1&nbsp;&nbsp;</span>Задачи</a></span></li><li><span><a href=\"#Подготовка-данных\" data-toc-modified-id=\"Подготовка-данных-2\"><span class=\"toc-item-num\">2&nbsp;&nbsp;</span>Подготовка данных</a></span><ul class=\"toc-item\"><li><span><a href=\"#Выгрузка-из-базы-данных\" data-toc-modified-id=\"Выгрузка-из-базы-данных-2.1\"><span class=\"toc-item-num\">2.1&nbsp;&nbsp;</span>Выгрузка из базы данных</a></span></li><li><span><a href=\"#Типы-переменных\" data-toc-modified-id=\"Типы-переменных-2.2\"><span class=\"toc-item-num\">2.2&nbsp;&nbsp;</span>Типы переменных</a></span></li><li><span><a href=\"#Пропуски\" data-toc-modified-id=\"Пропуски-2.3\"><span class=\"toc-item-num\">2.3&nbsp;&nbsp;</span>Пропуски</a></span></li><li><span><a href=\"#Дубликаты\" data-toc-modified-id=\"Дубликаты-2.4\"><span class=\"toc-item-num\">2.4&nbsp;&nbsp;</span>Дубликаты</a></span></li></ul></li><li><span><a href=\"#Исследовательский-анализ\" data-toc-modified-id=\"Исследовательский-анализ-3\"><span class=\"toc-item-num\">3&nbsp;&nbsp;</span>Исследовательский анализ</a></span><ul class=\"toc-item\"><li><span><a href=\"#Посмотрим-основные-статистики-признаков\" data-toc-modified-id=\"Посмотрим-основные-статистики-признаков-3.1\"><span class=\"toc-item-num\">3.1&nbsp;&nbsp;</span>Посмотрим основные статистики признаков</a></span></li><li><span><a href=\"#Посмотрим-на-распределения-наших-признаков\" data-toc-modified-id=\"Посмотрим-на-распределения-наших-признаков-3.2\"><span class=\"toc-item-num\">3.2&nbsp;&nbsp;</span>Посмотрим на распределения наших признаков</a></span></li></ul></li><li><span><a href=\"#Сегментирование-с-помощью-RFM-Score\" data-toc-modified-id=\"Сегментирование-с-помощью-RFM-Score-4\"><span class=\"toc-item-num\">4&nbsp;&nbsp;</span>Сегментирование с помощью RFM-Score</a></span><ul class=\"toc-item\"><li><span><a href=\"#Признак-Recency\" data-toc-modified-id=\"Признак-Recency-4.1\"><span class=\"toc-item-num\">4.1&nbsp;&nbsp;</span>Признак Recency</a></span></li><li><span><a href=\"#Признак-Frequency\" data-toc-modified-id=\"Признак-Frequency-4.2\"><span class=\"toc-item-num\">4.2&nbsp;&nbsp;</span>Признак Frequency</a></span></li><li><span><a href=\"#Признак-Monetary\" data-toc-modified-id=\"Признак-Monetary-4.3\"><span class=\"toc-item-num\">4.3&nbsp;&nbsp;</span>Признак Monetary</a></span></li><li><span><a href=\"#Считаем-RFM-Score\" data-toc-modified-id=\"Считаем-RFM-Score-4.4\"><span class=\"toc-item-num\">4.4&nbsp;&nbsp;</span>Считаем RFM-Score</a></span></li><li><span><a href=\"#Сегменты-на-основе-RFM-Score\" data-toc-modified-id=\"Сегменты-на-основе-RFM-Score-4.5\"><span class=\"toc-item-num\">4.5&nbsp;&nbsp;</span>Сегменты на основе RFM-Score</a></span></li></ul></li><li><span><a href=\"#Вывод\" data-toc-modified-id=\"Вывод-5\"><span class=\"toc-item-num\">5&nbsp;&nbsp;</span>Вывод</a></span></li></ul></div>"
   ]
  },
  {
   "cell_type": "markdown",
   "id": "19059cbc",
   "metadata": {},
   "source": [
    "# Сегментирование клиентов онлайн магазина"
   ]
  },
  {
   "cell_type": "markdown",
   "id": "199b1e65",
   "metadata": {},
   "source": [
    "Есть ограниченный бюджет для проведения рекламной компании. Для экономии бюджета и увеличения эффективности компании, требуется выделить сегменты клииентов, наиболее лояльных к нашему онлайн магазину, на которых и будет нацелена рекламная компания"
   ]
  },
  {
   "cell_type": "markdown",
   "id": "3c31c216",
   "metadata": {},
   "source": [
    "## Задачи\n",
    "\n",
    "- Выгрузить необходимые данные из БД\n",
    "- Провести RFM анализ и на его основе выделить сегменты клиентов, на которые будет нацелена рекламная компания"
   ]
  },
  {
   "cell_type": "markdown",
   "id": "f0fffbe9",
   "metadata": {},
   "source": [
    "## Подготовка данных"
   ]
  },
  {
   "cell_type": "code",
   "execution_count": 1,
   "id": "0d2f840c",
   "metadata": {},
   "outputs": [],
   "source": [
    "import pandas as pd\n",
    "import numpy as np\n",
    "import matplotlib.pyplot as plt\n",
    "import seaborn as sns\n",
    "from sqlalchemy import create_engine\n",
    "import os\n",
    "\n",
    "plt.style.use('bmh')"
   ]
  },
  {
   "cell_type": "markdown",
   "id": "cd8c36b4",
   "metadata": {},
   "source": [
    "### Выгрузка из базы данных"
   ]
  },
  {
   "cell_type": "markdown",
   "id": "440ab760",
   "metadata": {},
   "source": [
    "Данные находятся в БД. Подключимся к ней"
   ]
  },
  {
   "cell_type": "code",
   "execution_count": 2,
   "id": "04968b3c",
   "metadata": {},
   "outputs": [],
   "source": [
    "db_config = {\n",
    "    'user': os.environ.get('BD_USER'),\n",
    "    'pwd': os.environ.get('BD_PASS'),\n",
    "    'host': 'localhost',\n",
    "    'db': 'postgres'\n",
    "}\n",
    "\n",
    "connection_string = f'postgresql://{db_config[\"user\"]}:{db_config[\"pwd\"]}@{db_config[\"host\"]}/{db_config[\"db\"]}'\n",
    "engine = create_engine(connection_string)"
   ]
  },
  {
   "cell_type": "markdown",
   "id": "46652fe8",
   "metadata": {},
   "source": [
    "Напишем функцию, которая будет принимать запрос PostgreSQL в формате строки и возвращать результат"
   ]
  },
  {
   "cell_type": "code",
   "execution_count": 3,
   "id": "a739c798",
   "metadata": {},
   "outputs": [],
   "source": [
    "def sql(query):\n",
    "    return pd.io.sql.read_sql(query, con=engine)"
   ]
  },
  {
   "cell_type": "markdown",
   "id": "77a54178",
   "metadata": {},
   "source": [
    "Сделаем запрос к БД, где посмотрим имеющиеся таблицы у схемы `online_store`"
   ]
  },
  {
   "cell_type": "code",
   "execution_count": 4,
   "id": "31417472",
   "metadata": {},
   "outputs": [
    {
     "data": {
      "text/html": [
       "<div>\n",
       "<style scoped>\n",
       "    .dataframe tbody tr th:only-of-type {\n",
       "        vertical-align: middle;\n",
       "    }\n",
       "\n",
       "    .dataframe tbody tr th {\n",
       "        vertical-align: top;\n",
       "    }\n",
       "\n",
       "    .dataframe thead th {\n",
       "        text-align: right;\n",
       "    }\n",
       "</style>\n",
       "<table border=\"1\" class=\"dataframe\">\n",
       "  <thead>\n",
       "    <tr style=\"text-align: right;\">\n",
       "      <th></th>\n",
       "      <th>table_name</th>\n",
       "    </tr>\n",
       "  </thead>\n",
       "  <tbody>\n",
       "    <tr>\n",
       "      <th>0</th>\n",
       "      <td>costs</td>\n",
       "    </tr>\n",
       "    <tr>\n",
       "      <th>1</th>\n",
       "      <td>events</td>\n",
       "    </tr>\n",
       "    <tr>\n",
       "      <th>2</th>\n",
       "      <td>orders</td>\n",
       "    </tr>\n",
       "    <tr>\n",
       "      <th>3</th>\n",
       "      <td>profiles</td>\n",
       "    </tr>\n",
       "    <tr>\n",
       "      <th>4</th>\n",
       "      <td>sessions</td>\n",
       "    </tr>\n",
       "  </tbody>\n",
       "</table>\n",
       "</div>"
      ],
      "text/plain": [
       "  table_name\n",
       "0      costs\n",
       "1     events\n",
       "2     orders\n",
       "3   profiles\n",
       "4   sessions"
      ]
     },
     "execution_count": 4,
     "metadata": {},
     "output_type": "execute_result"
    }
   ],
   "source": [
    "query = \"\"\"\n",
    "    SELECT table_name\n",
    "    FROM information_schema.tables\n",
    "    WHERE table_schema = 'online_store'\n",
    "\"\"\"\n",
    "\n",
    "sql(query)"
   ]
  },
  {
   "cell_type": "markdown",
   "id": "c2d73fd4",
   "metadata": {},
   "source": [
    "Нам понадобится только таблица `orders` с информацией о заказах. Посмотрим на таблицу"
   ]
  },
  {
   "cell_type": "code",
   "execution_count": 5,
   "id": "0081f087",
   "metadata": {},
   "outputs": [
    {
     "data": {
      "text/html": [
       "<div>\n",
       "<style scoped>\n",
       "    .dataframe tbody tr th:only-of-type {\n",
       "        vertical-align: middle;\n",
       "    }\n",
       "\n",
       "    .dataframe tbody tr th {\n",
       "        vertical-align: top;\n",
       "    }\n",
       "\n",
       "    .dataframe thead th {\n",
       "        text-align: right;\n",
       "    }\n",
       "</style>\n",
       "<table border=\"1\" class=\"dataframe\">\n",
       "  <thead>\n",
       "    <tr style=\"text-align: right;\">\n",
       "      <th></th>\n",
       "      <th>user_id</th>\n",
       "      <th>event_dt</th>\n",
       "      <th>revenue</th>\n",
       "    </tr>\n",
       "  </thead>\n",
       "  <tbody>\n",
       "    <tr>\n",
       "      <th>0</th>\n",
       "      <td>55519067947</td>\n",
       "      <td>2020-06-14</td>\n",
       "      <td>5.62</td>\n",
       "    </tr>\n",
       "    <tr>\n",
       "      <th>1</th>\n",
       "      <td>831753022495</td>\n",
       "      <td>2020-06-14</td>\n",
       "      <td>1.33</td>\n",
       "    </tr>\n",
       "    <tr>\n",
       "      <th>2</th>\n",
       "      <td>284598472478</td>\n",
       "      <td>2020-06-14</td>\n",
       "      <td>4.93</td>\n",
       "    </tr>\n",
       "    <tr>\n",
       "      <th>3</th>\n",
       "      <td>725363192554</td>\n",
       "      <td>2020-06-14</td>\n",
       "      <td>1.55</td>\n",
       "    </tr>\n",
       "    <tr>\n",
       "      <th>4</th>\n",
       "      <td>324356134597</td>\n",
       "      <td>2020-06-14</td>\n",
       "      <td>9.60</td>\n",
       "    </tr>\n",
       "  </tbody>\n",
       "</table>\n",
       "</div>"
      ],
      "text/plain": [
       "        user_id    event_dt  revenue\n",
       "0   55519067947  2020-06-14     5.62\n",
       "1  831753022495  2020-06-14     1.33\n",
       "2  284598472478  2020-06-14     4.93\n",
       "3  725363192554  2020-06-14     1.55\n",
       "4  324356134597  2020-06-14     9.60"
      ]
     },
     "execution_count": 5,
     "metadata": {},
     "output_type": "execute_result"
    }
   ],
   "source": [
    "query = \"\"\"\n",
    "    SELECT *\n",
    "    FROM online_store.orders\n",
    "    LIMIT 5;\n",
    "\"\"\"\n",
    "\n",
    "sql(query)"
   ]
  },
  {
   "cell_type": "markdown",
   "id": "d0aad6a4",
   "metadata": {},
   "source": [
    "Посмотрим, данными за какой период мы обладаем"
   ]
  },
  {
   "cell_type": "code",
   "execution_count": 6,
   "id": "6313ab81",
   "metadata": {},
   "outputs": [
    {
     "data": {
      "text/html": [
       "<div>\n",
       "<style scoped>\n",
       "    .dataframe tbody tr th:only-of-type {\n",
       "        vertical-align: middle;\n",
       "    }\n",
       "\n",
       "    .dataframe tbody tr th {\n",
       "        vertical-align: top;\n",
       "    }\n",
       "\n",
       "    .dataframe thead th {\n",
       "        text-align: right;\n",
       "    }\n",
       "</style>\n",
       "<table border=\"1\" class=\"dataframe\">\n",
       "  <thead>\n",
       "    <tr style=\"text-align: right;\">\n",
       "      <th></th>\n",
       "      <th>min</th>\n",
       "      <th>max</th>\n",
       "      <th>observation_days</th>\n",
       "    </tr>\n",
       "  </thead>\n",
       "  <tbody>\n",
       "    <tr>\n",
       "      <th>0</th>\n",
       "      <td>2020-06-14</td>\n",
       "      <td>2020-06-27</td>\n",
       "      <td>13</td>\n",
       "    </tr>\n",
       "  </tbody>\n",
       "</table>\n",
       "</div>"
      ],
      "text/plain": [
       "          min         max  observation_days\n",
       "0  2020-06-14  2020-06-27                13"
      ]
     },
     "execution_count": 6,
     "metadata": {},
     "output_type": "execute_result"
    }
   ],
   "source": [
    "query = \"\"\"\n",
    "    SELECT min(event_dt), max(event_dt), \n",
    "           max(event_dt) - min(event_dt) as observation_days\n",
    "    FROM online_store.orders\n",
    "    LIMIT 5;\n",
    "\"\"\"\n",
    "\n",
    "sql(query)"
   ]
  },
  {
   "cell_type": "markdown",
   "id": "1ac1595a",
   "metadata": {},
   "source": [
    "Всего у нас имеются данные о заказах за 13 дней. Теперь расчитаем следующие признаки для каждого пользователя:\n",
    "- `orders_count` - количество заказов\n",
    "- `total_revenue` - суммарная выручка\n",
    "- `last_order_days` - количество дней, прошедших с последнего заказа"
   ]
  },
  {
   "cell_type": "code",
   "execution_count": 7,
   "id": "d15b405f",
   "metadata": {},
   "outputs": [],
   "source": [
    "query = \"\"\"\n",
    "    SELECT user_id, \n",
    "           count(event_dt) as orders_count,\n",
    "           sum(revenue) as total_revenue,\n",
    "           '2020-06-28'::date - max(event_dt) as last_order_days\n",
    "    FROM online_store.orders o\n",
    "    GROUP BY user_id\n",
    "\"\"\"\n",
    "\n",
    "df = sql(query)"
   ]
  },
  {
   "cell_type": "code",
   "execution_count": 8,
   "id": "6bf3779f",
   "metadata": {},
   "outputs": [
    {
     "data": {
      "text/html": [
       "<div>\n",
       "<style scoped>\n",
       "    .dataframe tbody tr th:only-of-type {\n",
       "        vertical-align: middle;\n",
       "    }\n",
       "\n",
       "    .dataframe tbody tr th {\n",
       "        vertical-align: top;\n",
       "    }\n",
       "\n",
       "    .dataframe thead th {\n",
       "        text-align: right;\n",
       "    }\n",
       "</style>\n",
       "<table border=\"1\" class=\"dataframe\">\n",
       "  <thead>\n",
       "    <tr style=\"text-align: right;\">\n",
       "      <th></th>\n",
       "      <th>user_id</th>\n",
       "      <th>orders_count</th>\n",
       "      <th>total_revenue</th>\n",
       "      <th>last_order_days</th>\n",
       "    </tr>\n",
       "  </thead>\n",
       "  <tbody>\n",
       "    <tr>\n",
       "      <th>0</th>\n",
       "      <td>624473479767</td>\n",
       "      <td>4</td>\n",
       "      <td>16.19</td>\n",
       "      <td>6</td>\n",
       "    </tr>\n",
       "    <tr>\n",
       "      <th>1</th>\n",
       "      <td>809129819459</td>\n",
       "      <td>4</td>\n",
       "      <td>18.67</td>\n",
       "      <td>1</td>\n",
       "    </tr>\n",
       "    <tr>\n",
       "      <th>2</th>\n",
       "      <td>759335137750</td>\n",
       "      <td>1</td>\n",
       "      <td>1.93</td>\n",
       "      <td>6</td>\n",
       "    </tr>\n",
       "    <tr>\n",
       "      <th>3</th>\n",
       "      <td>375025211218</td>\n",
       "      <td>1</td>\n",
       "      <td>9.93</td>\n",
       "      <td>7</td>\n",
       "    </tr>\n",
       "    <tr>\n",
       "      <th>4</th>\n",
       "      <td>710396084609</td>\n",
       "      <td>2</td>\n",
       "      <td>14.89</td>\n",
       "      <td>8</td>\n",
       "    </tr>\n",
       "  </tbody>\n",
       "</table>\n",
       "</div>"
      ],
      "text/plain": [
       "        user_id  orders_count  total_revenue  last_order_days\n",
       "0  624473479767             4          16.19                6\n",
       "1  809129819459             4          18.67                1\n",
       "2  759335137750             1           1.93                6\n",
       "3  375025211218             1           9.93                7\n",
       "4  710396084609             2          14.89                8"
      ]
     },
     "execution_count": 8,
     "metadata": {},
     "output_type": "execute_result"
    }
   ],
   "source": [
    "df.head()"
   ]
  },
  {
   "cell_type": "markdown",
   "id": "d435d69f",
   "metadata": {},
   "source": [
    "### Типы переменных"
   ]
  },
  {
   "cell_type": "markdown",
   "id": "d6968280",
   "metadata": {},
   "source": [
    "Посмотрим типы переменных в таблице"
   ]
  },
  {
   "cell_type": "code",
   "execution_count": 9,
   "id": "7e9c22cb",
   "metadata": {},
   "outputs": [
    {
     "name": "stdout",
     "output_type": "stream",
     "text": [
      "<class 'pandas.core.frame.DataFrame'>\n",
      "RangeIndex: 13065 entries, 0 to 13064\n",
      "Data columns (total 4 columns):\n",
      " #   Column           Non-Null Count  Dtype  \n",
      "---  ------           --------------  -----  \n",
      " 0   user_id          13065 non-null  int64  \n",
      " 1   orders_count     13065 non-null  int64  \n",
      " 2   total_revenue    13065 non-null  float64\n",
      " 3   last_order_days  13065 non-null  int64  \n",
      "dtypes: float64(1), int64(3)\n",
      "memory usage: 408.4 KB\n"
     ]
    }
   ],
   "source": [
    "df.info()"
   ]
  },
  {
   "cell_type": "markdown",
   "id": "36d56d4e",
   "metadata": {},
   "source": [
    "Все типы соответствуют смыслу переменных"
   ]
  },
  {
   "cell_type": "markdown",
   "id": "04fa9a42",
   "metadata": {},
   "source": [
    "### Пропуски"
   ]
  },
  {
   "cell_type": "code",
   "execution_count": 10,
   "id": "ce72066a",
   "metadata": {},
   "outputs": [
    {
     "data": {
      "text/plain": [
       "user_id            0\n",
       "orders_count       0\n",
       "total_revenue      0\n",
       "last_order_days    0\n",
       "dtype: int64"
      ]
     },
     "execution_count": 10,
     "metadata": {},
     "output_type": "execute_result"
    }
   ],
   "source": [
    "df.isna().sum()"
   ]
  },
  {
   "cell_type": "markdown",
   "id": "0f84c1ef",
   "metadata": {},
   "source": [
    "Пропуски отсутствуют"
   ]
  },
  {
   "cell_type": "markdown",
   "id": "a7c91066",
   "metadata": {},
   "source": [
    "### Дубликаты"
   ]
  },
  {
   "cell_type": "code",
   "execution_count": 11,
   "id": "d9aa5f15",
   "metadata": {},
   "outputs": [
    {
     "data": {
      "text/plain": [
       "0"
      ]
     },
     "execution_count": 11,
     "metadata": {},
     "output_type": "execute_result"
    }
   ],
   "source": [
    "df.duplicated().sum()"
   ]
  },
  {
   "cell_type": "markdown",
   "id": "1ee502ac",
   "metadata": {},
   "source": [
    "Дубликаты отсутствуют"
   ]
  },
  {
   "cell_type": "markdown",
   "id": "1ac346b9",
   "metadata": {},
   "source": [
    "## Исследовательский анализ"
   ]
  },
  {
   "cell_type": "markdown",
   "id": "038f6d63",
   "metadata": {},
   "source": [
    "### Посмотрим основные статистики признаков"
   ]
  },
  {
   "cell_type": "code",
   "execution_count": 12,
   "id": "b8e5da0a",
   "metadata": {},
   "outputs": [
    {
     "data": {
      "text/html": [
       "<div>\n",
       "<style scoped>\n",
       "    .dataframe tbody tr th:only-of-type {\n",
       "        vertical-align: middle;\n",
       "    }\n",
       "\n",
       "    .dataframe tbody tr th {\n",
       "        vertical-align: top;\n",
       "    }\n",
       "\n",
       "    .dataframe thead th {\n",
       "        text-align: right;\n",
       "    }\n",
       "</style>\n",
       "<table border=\"1\" class=\"dataframe\">\n",
       "  <thead>\n",
       "    <tr style=\"text-align: right;\">\n",
       "      <th></th>\n",
       "      <th>user_id</th>\n",
       "      <th>orders_count</th>\n",
       "      <th>total_revenue</th>\n",
       "      <th>last_order_days</th>\n",
       "    </tr>\n",
       "  </thead>\n",
       "  <tbody>\n",
       "    <tr>\n",
       "      <th>count</th>\n",
       "      <td>1.306500e+04</td>\n",
       "      <td>13065.000000</td>\n",
       "      <td>13065.000000</td>\n",
       "      <td>13065.000000</td>\n",
       "    </tr>\n",
       "    <tr>\n",
       "      <th>mean</th>\n",
       "      <td>5.011387e+11</td>\n",
       "      <td>1.620130</td>\n",
       "      <td>8.910493</td>\n",
       "      <td>5.521929</td>\n",
       "    </tr>\n",
       "    <tr>\n",
       "      <th>std</th>\n",
       "      <td>2.889184e+11</td>\n",
       "      <td>0.894706</td>\n",
       "      <td>5.958759</td>\n",
       "      <td>3.653404</td>\n",
       "    </tr>\n",
       "    <tr>\n",
       "      <th>min</th>\n",
       "      <td>1.096401e+07</td>\n",
       "      <td>1.000000</td>\n",
       "      <td>1.000000</td>\n",
       "      <td>1.000000</td>\n",
       "    </tr>\n",
       "    <tr>\n",
       "      <th>25%</th>\n",
       "      <td>2.515377e+11</td>\n",
       "      <td>1.000000</td>\n",
       "      <td>4.660000</td>\n",
       "      <td>2.000000</td>\n",
       "    </tr>\n",
       "    <tr>\n",
       "      <th>50%</th>\n",
       "      <td>4.999394e+11</td>\n",
       "      <td>1.000000</td>\n",
       "      <td>7.820000</td>\n",
       "      <td>5.000000</td>\n",
       "    </tr>\n",
       "    <tr>\n",
       "      <th>75%</th>\n",
       "      <td>7.515865e+11</td>\n",
       "      <td>2.000000</td>\n",
       "      <td>11.550000</td>\n",
       "      <td>9.000000</td>\n",
       "    </tr>\n",
       "    <tr>\n",
       "      <th>max</th>\n",
       "      <td>9.999298e+11</td>\n",
       "      <td>8.000000</td>\n",
       "      <td>52.820000</td>\n",
       "      <td>14.000000</td>\n",
       "    </tr>\n",
       "  </tbody>\n",
       "</table>\n",
       "</div>"
      ],
      "text/plain": [
       "            user_id  orders_count  total_revenue  last_order_days\n",
       "count  1.306500e+04  13065.000000   13065.000000     13065.000000\n",
       "mean   5.011387e+11      1.620130       8.910493         5.521929\n",
       "std    2.889184e+11      0.894706       5.958759         3.653404\n",
       "min    1.096401e+07      1.000000       1.000000         1.000000\n",
       "25%    2.515377e+11      1.000000       4.660000         2.000000\n",
       "50%    4.999394e+11      1.000000       7.820000         5.000000\n",
       "75%    7.515865e+11      2.000000      11.550000         9.000000\n",
       "max    9.999298e+11      8.000000      52.820000        14.000000"
      ]
     },
     "execution_count": 12,
     "metadata": {},
     "output_type": "execute_result"
    }
   ],
   "source": [
    "df.describe()"
   ]
  },
  {
   "cell_type": "markdown",
   "id": "2ad3b829",
   "metadata": {},
   "source": [
    "Имеем данные о заказах 13065 уникальных клиентов"
   ]
  },
  {
   "cell_type": "markdown",
   "id": "8e77b395",
   "metadata": {},
   "source": [
    "### Посмотрим на распределения наших признаков"
   ]
  },
  {
   "cell_type": "code",
   "execution_count": 13,
   "id": "8636ebd3",
   "metadata": {},
   "outputs": [
    {
     "data": {
      "image/png": "[encoded data removed]",
      "text/plain": [
       "<Figure size 1080x504 with 4 Axes>"
      ]
     },
     "metadata": {
      "needs_background": "light"
     },
     "output_type": "display_data"
    }
   ],
   "source": [
    "df.iloc[::, 1:].hist(figsize=(15, 7), bins=30)\n",
    "plt.show()"
   ]
  },
  {
   "cell_type": "markdown",
   "id": "7e9a602b",
   "metadata": {},
   "source": [
    "На графиках видим частотные распределения трех наших признаков. Признаки `orders_count` и `last_orders_days` имеют дискретные распределения, признак `total_revenue` непрерывное"
   ]
  },
  {
   "cell_type": "markdown",
   "id": "d8999481",
   "metadata": {},
   "source": [
    "## Сегментирование с помощью RFM-Score"
   ]
  },
  {
   "cell_type": "markdown",
   "id": "8f632b8a",
   "metadata": {},
   "source": [
    "Расшифруем аббревиатуру RFM:\n",
    "- `R` - recency или насколько недавно клиент делал заказ \n",
    "- `F` - frequency или как часто клиент делал заказ \n",
    "- `M` - monetary или как много денег (в нашем случае будем использовать просто выручку) принес нам клиент\n",
    "\n",
    "Теперь создадим соответствующие признаки. Каждый признак будет принимать значения 1-4, где 1 это наихудший результат, соответственно далее идут более лучшие исходы"
   ]
  },
  {
   "cell_type": "markdown",
   "id": "d4777963",
   "metadata": {},
   "source": [
    "### Признак Recency"
   ]
  },
  {
   "cell_type": "code",
   "execution_count": 14,
   "id": "3ef12a06",
   "metadata": {},
   "outputs": [],
   "source": [
    "df['recency'] = 5 - (pd.qcut(df['last_order_days'], 4, labels=False) + 1)"
   ]
  },
  {
   "cell_type": "code",
   "execution_count": 15,
   "id": "e671e9d6",
   "metadata": {},
   "outputs": [
    {
     "data": {
      "text/html": [
       "<div>\n",
       "<style scoped>\n",
       "    .dataframe tbody tr th:only-of-type {\n",
       "        vertical-align: middle;\n",
       "    }\n",
       "\n",
       "    .dataframe tbody tr th {\n",
       "        vertical-align: top;\n",
       "    }\n",
       "\n",
       "    .dataframe thead tr th {\n",
       "        text-align: left;\n",
       "    }\n",
       "\n",
       "    .dataframe thead tr:last-of-type th {\n",
       "        text-align: right;\n",
       "    }\n",
       "</style>\n",
       "<table border=\"1\" class=\"dataframe\">\n",
       "  <thead>\n",
       "    <tr>\n",
       "      <th></th>\n",
       "      <th colspan=\"2\" halign=\"left\">last_order_days</th>\n",
       "    </tr>\n",
       "    <tr>\n",
       "      <th></th>\n",
       "      <th>mean</th>\n",
       "      <th>count</th>\n",
       "    </tr>\n",
       "    <tr>\n",
       "      <th>recency</th>\n",
       "      <th></th>\n",
       "      <th></th>\n",
       "    </tr>\n",
       "  </thead>\n",
       "  <tbody>\n",
       "    <tr>\n",
       "      <th>1</th>\n",
       "      <td>10.982244</td>\n",
       "      <td>2647</td>\n",
       "    </tr>\n",
       "    <tr>\n",
       "      <th>2</th>\n",
       "      <td>7.545427</td>\n",
       "      <td>3247</td>\n",
       "    </tr>\n",
       "    <tr>\n",
       "      <th>3</th>\n",
       "      <td>3.873478</td>\n",
       "      <td>3367</td>\n",
       "    </tr>\n",
       "    <tr>\n",
       "      <th>4</th>\n",
       "      <td>1.454259</td>\n",
       "      <td>3804</td>\n",
       "    </tr>\n",
       "  </tbody>\n",
       "</table>\n",
       "</div>"
      ],
      "text/plain": [
       "        last_order_days      \n",
       "                   mean count\n",
       "recency                      \n",
       "1             10.982244  2647\n",
       "2              7.545427  3247\n",
       "3              3.873478  3367\n",
       "4              1.454259  3804"
      ]
     },
     "execution_count": 15,
     "metadata": {},
     "output_type": "execute_result"
    }
   ],
   "source": [
    "df.groupby('recency').agg({'last_order_days': ['mean', 'count']})"
   ]
  },
  {
   "cell_type": "markdown",
   "id": "9683fbff",
   "metadata": {},
   "source": [
    "### Признак Frequency"
   ]
  },
  {
   "cell_type": "code",
   "execution_count": 16,
   "id": "9f4beb0f",
   "metadata": {},
   "outputs": [
    {
     "data": {
      "text/plain": [
       "0    11191\n",
       "1     1874\n",
       "Name: orders_count, dtype: int64"
      ]
     },
     "execution_count": 16,
     "metadata": {},
     "output_type": "execute_result"
    }
   ],
   "source": [
    "pd.qcut(df['orders_count'], 4, labels=False, duplicates='drop').value_counts()"
   ]
  },
  {
   "cell_type": "markdown",
   "id": "724a0fc0",
   "metadata": {},
   "source": [
    "Как мы могли видеть на гистограмме признака `orders_count` - это дискретная переменная, где большинство значений это 1. Из-за этого функция qcut не может поделить наши наблюдения на равные отрезки. Поэтому просто напишем свою функцию деления"
   ]
  },
  {
   "cell_type": "code",
   "execution_count": 17,
   "id": "5bc650c1",
   "metadata": {},
   "outputs": [],
   "source": [
    "def freq(f):\n",
    "    if f == 1:\n",
    "        return 1\n",
    "    if f == 2:\n",
    "        return 2\n",
    "    if f == 3:\n",
    "        return 3\n",
    "    if f <= 8:\n",
    "        return 4"
   ]
  },
  {
   "cell_type": "code",
   "execution_count": 18,
   "id": "6e889ea1",
   "metadata": {},
   "outputs": [],
   "source": [
    "df['frequency'] = df['orders_count'].apply(freq)"
   ]
  },
  {
   "cell_type": "markdown",
   "id": "ca7e2f5d",
   "metadata": {},
   "source": [
    "Посмотрим на количество наблюдений в каждом сегменте `frequency`"
   ]
  },
  {
   "cell_type": "code",
   "execution_count": 19,
   "id": "7324321d",
   "metadata": {},
   "outputs": [
    {
     "data": {
      "text/html": [
       "<div>\n",
       "<style scoped>\n",
       "    .dataframe tbody tr th:only-of-type {\n",
       "        vertical-align: middle;\n",
       "    }\n",
       "\n",
       "    .dataframe tbody tr th {\n",
       "        vertical-align: top;\n",
       "    }\n",
       "\n",
       "    .dataframe thead tr th {\n",
       "        text-align: left;\n",
       "    }\n",
       "\n",
       "    .dataframe thead tr:last-of-type th {\n",
       "        text-align: right;\n",
       "    }\n",
       "</style>\n",
       "<table border=\"1\" class=\"dataframe\">\n",
       "  <thead>\n",
       "    <tr>\n",
       "      <th></th>\n",
       "      <th colspan=\"2\" halign=\"left\">orders_count</th>\n",
       "    </tr>\n",
       "    <tr>\n",
       "      <th></th>\n",
       "      <th>mean</th>\n",
       "      <th>count</th>\n",
       "    </tr>\n",
       "    <tr>\n",
       "      <th>frequency</th>\n",
       "      <th></th>\n",
       "      <th></th>\n",
       "    </tr>\n",
       "  </thead>\n",
       "  <tbody>\n",
       "    <tr>\n",
       "      <th>1</th>\n",
       "      <td>1.000000</td>\n",
       "      <td>7610</td>\n",
       "    </tr>\n",
       "    <tr>\n",
       "      <th>2</th>\n",
       "      <td>2.000000</td>\n",
       "      <td>3581</td>\n",
       "    </tr>\n",
       "    <tr>\n",
       "      <th>3</th>\n",
       "      <td>3.000000</td>\n",
       "      <td>1311</td>\n",
       "    </tr>\n",
       "    <tr>\n",
       "      <th>4</th>\n",
       "      <td>4.373002</td>\n",
       "      <td>563</td>\n",
       "    </tr>\n",
       "  </tbody>\n",
       "</table>\n",
       "</div>"
      ],
      "text/plain": [
       "          orders_count      \n",
       "                  mean count\n",
       "frequency                   \n",
       "1             1.000000  7610\n",
       "2             2.000000  3581\n",
       "3             3.000000  1311\n",
       "4             4.373002   563"
      ]
     },
     "execution_count": 19,
     "metadata": {},
     "output_type": "execute_result"
    }
   ],
   "source": [
    "df.groupby('frequency').agg({'orders_count': ['mean', 'count']})"
   ]
  },
  {
   "cell_type": "markdown",
   "id": "3e1aabea",
   "metadata": {},
   "source": [
    "### Признак Monetary"
   ]
  },
  {
   "cell_type": "code",
   "execution_count": 20,
   "id": "272f3f25",
   "metadata": {},
   "outputs": [],
   "source": [
    "df['monetary'] = (pd.qcut(df['total_revenue'], 4, labels=False) + 1)"
   ]
  },
  {
   "cell_type": "code",
   "execution_count": 21,
   "id": "426164e0",
   "metadata": {},
   "outputs": [
    {
     "data": {
      "text/html": [
       "<div>\n",
       "<style scoped>\n",
       "    .dataframe tbody tr th:only-of-type {\n",
       "        vertical-align: middle;\n",
       "    }\n",
       "\n",
       "    .dataframe tbody tr th {\n",
       "        vertical-align: top;\n",
       "    }\n",
       "\n",
       "    .dataframe thead tr th {\n",
       "        text-align: left;\n",
       "    }\n",
       "\n",
       "    .dataframe thead tr:last-of-type th {\n",
       "        text-align: right;\n",
       "    }\n",
       "</style>\n",
       "<table border=\"1\" class=\"dataframe\">\n",
       "  <thead>\n",
       "    <tr>\n",
       "      <th></th>\n",
       "      <th>total_revenue</th>\n",
       "    </tr>\n",
       "    <tr>\n",
       "      <th></th>\n",
       "      <th>mean</th>\n",
       "    </tr>\n",
       "    <tr>\n",
       "      <th>monetary</th>\n",
       "      <th></th>\n",
       "    </tr>\n",
       "  </thead>\n",
       "  <tbody>\n",
       "    <tr>\n",
       "      <th>1</th>\n",
       "      <td>2.864222</td>\n",
       "    </tr>\n",
       "    <tr>\n",
       "      <th>2</th>\n",
       "      <td>6.277532</td>\n",
       "    </tr>\n",
       "    <tr>\n",
       "      <th>3</th>\n",
       "      <td>9.302560</td>\n",
       "    </tr>\n",
       "    <tr>\n",
       "      <th>4</th>\n",
       "      <td>17.203690</td>\n",
       "    </tr>\n",
       "  </tbody>\n",
       "</table>\n",
       "</div>"
      ],
      "text/plain": [
       "         total_revenue\n",
       "                  mean\n",
       "monetary              \n",
       "1             2.864222\n",
       "2             6.277532\n",
       "3             9.302560\n",
       "4            17.203690"
      ]
     },
     "execution_count": 21,
     "metadata": {},
     "output_type": "execute_result"
    }
   ],
   "source": [
    "df.groupby('monetary').agg({'total_revenue': ['mean']})"
   ]
  },
  {
   "cell_type": "markdown",
   "id": "a1722903",
   "metadata": {},
   "source": [
    "### Считаем RFM-Score"
   ]
  },
  {
   "cell_type": "markdown",
   "id": "46dfaad0",
   "metadata": {},
   "source": [
    "Теперь для каждого пользователя сложим все три признака R+F+M и разделим на 3"
   ]
  },
  {
   "cell_type": "code",
   "execution_count": 22,
   "id": "0a81ff62",
   "metadata": {},
   "outputs": [],
   "source": [
    "df['rfm'] = (df['recency'] + df['frequency'] + df['monetary']) / 3"
   ]
  },
  {
   "cell_type": "code",
   "execution_count": 23,
   "id": "8313b902",
   "metadata": {},
   "outputs": [
    {
     "data": {
      "text/html": [
       "<div>\n",
       "<style scoped>\n",
       "    .dataframe tbody tr th:only-of-type {\n",
       "        vertical-align: middle;\n",
       "    }\n",
       "\n",
       "    .dataframe tbody tr th {\n",
       "        vertical-align: top;\n",
       "    }\n",
       "\n",
       "    .dataframe thead th {\n",
       "        text-align: right;\n",
       "    }\n",
       "</style>\n",
       "<table border=\"1\" class=\"dataframe\">\n",
       "  <thead>\n",
       "    <tr style=\"text-align: right;\">\n",
       "      <th></th>\n",
       "      <th>user_id</th>\n",
       "      <th>orders_count</th>\n",
       "      <th>total_revenue</th>\n",
       "      <th>last_order_days</th>\n",
       "      <th>recency</th>\n",
       "      <th>frequency</th>\n",
       "      <th>monetary</th>\n",
       "      <th>rfm</th>\n",
       "    </tr>\n",
       "  </thead>\n",
       "  <tbody>\n",
       "    <tr>\n",
       "      <th>0</th>\n",
       "      <td>624473479767</td>\n",
       "      <td>4</td>\n",
       "      <td>16.19</td>\n",
       "      <td>6</td>\n",
       "      <td>2</td>\n",
       "      <td>4</td>\n",
       "      <td>4</td>\n",
       "      <td>3.333333</td>\n",
       "    </tr>\n",
       "    <tr>\n",
       "      <th>1</th>\n",
       "      <td>809129819459</td>\n",
       "      <td>4</td>\n",
       "      <td>18.67</td>\n",
       "      <td>1</td>\n",
       "      <td>4</td>\n",
       "      <td>4</td>\n",
       "      <td>4</td>\n",
       "      <td>4.000000</td>\n",
       "    </tr>\n",
       "    <tr>\n",
       "      <th>2</th>\n",
       "      <td>759335137750</td>\n",
       "      <td>1</td>\n",
       "      <td>1.93</td>\n",
       "      <td>6</td>\n",
       "      <td>2</td>\n",
       "      <td>1</td>\n",
       "      <td>1</td>\n",
       "      <td>1.333333</td>\n",
       "    </tr>\n",
       "    <tr>\n",
       "      <th>3</th>\n",
       "      <td>375025211218</td>\n",
       "      <td>1</td>\n",
       "      <td>9.93</td>\n",
       "      <td>7</td>\n",
       "      <td>2</td>\n",
       "      <td>1</td>\n",
       "      <td>3</td>\n",
       "      <td>2.000000</td>\n",
       "    </tr>\n",
       "    <tr>\n",
       "      <th>4</th>\n",
       "      <td>710396084609</td>\n",
       "      <td>2</td>\n",
       "      <td>14.89</td>\n",
       "      <td>8</td>\n",
       "      <td>2</td>\n",
       "      <td>2</td>\n",
       "      <td>4</td>\n",
       "      <td>2.666667</td>\n",
       "    </tr>\n",
       "  </tbody>\n",
       "</table>\n",
       "</div>"
      ],
      "text/plain": [
       "        user_id  orders_count  total_revenue  last_order_days  recency  \\\n",
       "0  624473479767             4          16.19                6        2   \n",
       "1  809129819459             4          18.67                1        4   \n",
       "2  759335137750             1           1.93                6        2   \n",
       "3  375025211218             1           9.93                7        2   \n",
       "4  710396084609             2          14.89                8        2   \n",
       "\n",
       "   frequency  monetary       rfm  \n",
       "0          4         4  3.333333  \n",
       "1          4         4  4.000000  \n",
       "2          1         1  1.333333  \n",
       "3          1         3  2.000000  \n",
       "4          2         4  2.666667  "
      ]
     },
     "execution_count": 23,
     "metadata": {},
     "output_type": "execute_result"
    }
   ],
   "source": [
    "df.head()"
   ]
  },
  {
   "cell_type": "code",
   "execution_count": 24,
   "id": "517c5317",
   "metadata": {},
   "outputs": [
    {
     "data": {
      "image/png": "[encoded data removed]",
      "text/plain": [
       "<Figure size 720x360 with 1 Axes>"
      ]
     },
     "metadata": {
      "needs_background": "light"
     },
     "output_type": "display_data"
    }
   ],
   "source": [
    "df['rfm'].hist(figsize=(10, 5))\n",
    "plt.title('Распределение RFM-Score')\n",
    "plt.show()"
   ]
  },
  {
   "cell_type": "code",
   "execution_count": 25,
   "id": "cd210e20",
   "metadata": {},
   "outputs": [
    {
     "data": {
      "text/plain": [
       "mean      2.247021\n",
       "median    2.000000\n",
       "Name: rfm, dtype: float64"
      ]
     },
     "execution_count": 25,
     "metadata": {},
     "output_type": "execute_result"
    }
   ],
   "source": [
    "df['rfm'].agg(['mean', 'median'])"
   ]
  },
  {
   "cell_type": "markdown",
   "id": "4ce2947d",
   "metadata": {},
   "source": [
    "График немного смещен в левую, сторону"
   ]
  },
  {
   "cell_type": "markdown",
   "id": "3a449700",
   "metadata": {},
   "source": [
    "### Сегменты на основе RFM-Score"
   ]
  },
  {
   "cell_type": "markdown",
   "id": "b125b4e7",
   "metadata": {},
   "source": [
    "Теперь округлим RFM-Score до ближайшего целого числа, в результате получим 4 сегмента пользователей"
   ]
  },
  {
   "cell_type": "code",
   "execution_count": 26,
   "id": "791709c9",
   "metadata": {},
   "outputs": [],
   "source": [
    "df['segment'] = df['rfm'].round().astype('int')"
   ]
  },
  {
   "cell_type": "code",
   "execution_count": 27,
   "id": "94e1d561",
   "metadata": {},
   "outputs": [
    {
     "data": {
      "text/html": [
       "<div>\n",
       "<style scoped>\n",
       "    .dataframe tbody tr th:only-of-type {\n",
       "        vertical-align: middle;\n",
       "    }\n",
       "\n",
       "    .dataframe tbody tr th {\n",
       "        vertical-align: top;\n",
       "    }\n",
       "\n",
       "    .dataframe thead th {\n",
       "        text-align: right;\n",
       "    }\n",
       "</style>\n",
       "<table border=\"1\" class=\"dataframe\">\n",
       "  <thead>\n",
       "    <tr style=\"text-align: right;\">\n",
       "      <th></th>\n",
       "      <th>user_id</th>\n",
       "      <th>orders_count</th>\n",
       "      <th>total_revenue</th>\n",
       "      <th>last_order_days</th>\n",
       "      <th>recency</th>\n",
       "      <th>frequency</th>\n",
       "      <th>monetary</th>\n",
       "      <th>rfm</th>\n",
       "      <th>segment</th>\n",
       "    </tr>\n",
       "  </thead>\n",
       "  <tbody>\n",
       "    <tr>\n",
       "      <th>0</th>\n",
       "      <td>624473479767</td>\n",
       "      <td>4</td>\n",
       "      <td>16.19</td>\n",
       "      <td>6</td>\n",
       "      <td>2</td>\n",
       "      <td>4</td>\n",
       "      <td>4</td>\n",
       "      <td>3.333333</td>\n",
       "      <td>3</td>\n",
       "    </tr>\n",
       "    <tr>\n",
       "      <th>1</th>\n",
       "      <td>809129819459</td>\n",
       "      <td>4</td>\n",
       "      <td>18.67</td>\n",
       "      <td>1</td>\n",
       "      <td>4</td>\n",
       "      <td>4</td>\n",
       "      <td>4</td>\n",
       "      <td>4.000000</td>\n",
       "      <td>4</td>\n",
       "    </tr>\n",
       "    <tr>\n",
       "      <th>2</th>\n",
       "      <td>759335137750</td>\n",
       "      <td>1</td>\n",
       "      <td>1.93</td>\n",
       "      <td>6</td>\n",
       "      <td>2</td>\n",
       "      <td>1</td>\n",
       "      <td>1</td>\n",
       "      <td>1.333333</td>\n",
       "      <td>1</td>\n",
       "    </tr>\n",
       "    <tr>\n",
       "      <th>3</th>\n",
       "      <td>375025211218</td>\n",
       "      <td>1</td>\n",
       "      <td>9.93</td>\n",
       "      <td>7</td>\n",
       "      <td>2</td>\n",
       "      <td>1</td>\n",
       "      <td>3</td>\n",
       "      <td>2.000000</td>\n",
       "      <td>2</td>\n",
       "    </tr>\n",
       "    <tr>\n",
       "      <th>4</th>\n",
       "      <td>710396084609</td>\n",
       "      <td>2</td>\n",
       "      <td>14.89</td>\n",
       "      <td>8</td>\n",
       "      <td>2</td>\n",
       "      <td>2</td>\n",
       "      <td>4</td>\n",
       "      <td>2.666667</td>\n",
       "      <td>3</td>\n",
       "    </tr>\n",
       "  </tbody>\n",
       "</table>\n",
       "</div>"
      ],
      "text/plain": [
       "        user_id  orders_count  total_revenue  last_order_days  recency  \\\n",
       "0  624473479767             4          16.19                6        2   \n",
       "1  809129819459             4          18.67                1        4   \n",
       "2  759335137750             1           1.93                6        2   \n",
       "3  375025211218             1           9.93                7        2   \n",
       "4  710396084609             2          14.89                8        2   \n",
       "\n",
       "   frequency  monetary       rfm  segment  \n",
       "0          4         4  3.333333        3  \n",
       "1          4         4  4.000000        4  \n",
       "2          1         1  1.333333        1  \n",
       "3          1         3  2.000000        2  \n",
       "4          2         4  2.666667        3  "
      ]
     },
     "execution_count": 27,
     "metadata": {},
     "output_type": "execute_result"
    }
   ],
   "source": [
    "df.head()"
   ]
  },
  {
   "cell_type": "code",
   "execution_count": 28,
   "id": "340e60a7",
   "metadata": {},
   "outputs": [
    {
     "data": {
      "image/png": "[encoded data removed]",
      "text/plain": [
       "<Figure size 720x360 with 1 Axes>"
      ]
     },
     "metadata": {
      "needs_background": "light"
     },
     "output_type": "display_data"
    }
   ],
   "source": [
    "plt.figure(figsize=(10, 5))\n",
    "fig = sns.countplot(x='segment', data=df)\n",
    "plt.title('Количество пользователей по сегментам')\n",
    "plt.xlabel('Сегмент')\n",
    "plt.bar_label(fig.containers[0], fmt='%.2f')\n",
    "plt.show()"
   ]
  },
  {
   "cell_type": "markdown",
   "id": "529b7511",
   "metadata": {},
   "source": [
    "Посмотрим на средние показатели выделенных сегментов"
   ]
  },
  {
   "cell_type": "code",
   "execution_count": 29,
   "id": "71123cf2",
   "metadata": {},
   "outputs": [
    {
     "data": {
      "text/html": [
       "<div>\n",
       "<style scoped>\n",
       "    .dataframe tbody tr th:only-of-type {\n",
       "        vertical-align: middle;\n",
       "    }\n",
       "\n",
       "    .dataframe tbody tr th {\n",
       "        vertical-align: top;\n",
       "    }\n",
       "\n",
       "    .dataframe thead th {\n",
       "        text-align: right;\n",
       "    }\n",
       "</style>\n",
       "<table border=\"1\" class=\"dataframe\">\n",
       "  <thead>\n",
       "    <tr style=\"text-align: right;\">\n",
       "      <th></th>\n",
       "      <th>total_revenue</th>\n",
       "      <th>last_order_days</th>\n",
       "      <th>orders_count</th>\n",
       "      <th>user_id</th>\n",
       "    </tr>\n",
       "    <tr>\n",
       "      <th>segment</th>\n",
       "      <th></th>\n",
       "      <th></th>\n",
       "      <th></th>\n",
       "      <th></th>\n",
       "    </tr>\n",
       "  </thead>\n",
       "  <tbody>\n",
       "    <tr>\n",
       "      <th>1</th>\n",
       "      <td>3.875680</td>\n",
       "      <td>9.941368</td>\n",
       "      <td>1.004479</td>\n",
       "      <td>2456</td>\n",
       "    </tr>\n",
       "    <tr>\n",
       "      <th>2</th>\n",
       "      <td>6.516265</td>\n",
       "      <td>5.374345</td>\n",
       "      <td>1.202129</td>\n",
       "      <td>5917</td>\n",
       "    </tr>\n",
       "    <tr>\n",
       "      <th>3</th>\n",
       "      <td>13.025712</td>\n",
       "      <td>3.723695</td>\n",
       "      <td>2.180792</td>\n",
       "      <td>3811</td>\n",
       "    </tr>\n",
       "    <tr>\n",
       "      <th>4</th>\n",
       "      <td>21.224960</td>\n",
       "      <td>1.971623</td>\n",
       "      <td>3.718502</td>\n",
       "      <td>881</td>\n",
       "    </tr>\n",
       "  </tbody>\n",
       "</table>\n",
       "</div>"
      ],
      "text/plain": [
       "         total_revenue  last_order_days  orders_count  user_id\n",
       "segment                                                       \n",
       "1             3.875680         9.941368      1.004479     2456\n",
       "2             6.516265         5.374345      1.202129     5917\n",
       "3            13.025712         3.723695      2.180792     3811\n",
       "4            21.224960         1.971623      3.718502      881"
      ]
     },
     "execution_count": 29,
     "metadata": {},
     "output_type": "execute_result"
    }
   ],
   "source": [
    "df.groupby('segment').agg({\n",
    "    'total_revenue': 'mean', \n",
    "    'last_order_days': 'mean', \n",
    "    'orders_count': 'mean',\n",
    "    'user_id': 'nunique'\n",
    "})"
   ]
  },
  {
   "cell_type": "markdown",
   "id": "8e52f2d1",
   "metadata": {},
   "source": [
    "Рассчитаем количество и долю клиентов в 3 и 4 сегменте"
   ]
  },
  {
   "cell_type": "code",
   "execution_count": 30,
   "id": "fd4d5f55",
   "metadata": {},
   "outputs": [
    {
     "data": {
      "text/plain": [
       "4692"
      ]
     },
     "execution_count": 30,
     "metadata": {},
     "output_type": "execute_result"
    }
   ],
   "source": [
    "segment3_4_len = len(df[(df['segment'] == 3) | (df['segment'] == 4)])\n",
    "segment3_4_len"
   ]
  },
  {
   "cell_type": "code",
   "execution_count": 31,
   "id": "0c05614e",
   "metadata": {},
   "outputs": [
    {
     "data": {
      "text/plain": [
       "0.36"
      ]
     },
     "execution_count": 31,
     "metadata": {},
     "output_type": "execute_result"
    }
   ],
   "source": [
    "round(segment3_4_len / len(df), 2)"
   ]
  },
  {
   "cell_type": "markdown",
   "id": "38337ecc",
   "metadata": {},
   "source": [
    "## Вывод\n",
    "- Разделили клиентов на 4 сегмента, в зависимости от их RFM-Score\n",
    "- 3 и 4 сегменты,включают 4692 клиента, или около 36% от общего количества клиентов\n",
    "- На клиентов из данных сегментов и рекомендуется таргетировать рекламную компанию"
   ]
  }
 ],
 "metadata": {
  "kernelspec": {
   "display_name": "Python 3",
   "language": "python",
   "name": "python3"
  },
  "language_info": {
   "codemirror_mode": {
    "name": "ipython",
    "version": 3
   },
   "file_extension": ".py",
   "mimetype": "text/x-python",
   "name": "python",
   "nbconvert_exporter": "python",
   "pygments_lexer": "ipython3",
   "version": "3.8.10"
  },
  "toc": {
   "base_numbering": 1,
   "nav_menu": {},
   "number_sections": true,
   "sideBar": true,
   "skip_h1_title": true,
   "title_cell": "Содержание",
   "title_sidebar": "Contents",
   "toc_cell": true,
   "toc_position": {},
   "toc_section_display": true,
   "toc_window_display": false
  }
 },
 "nbformat": 4,
 "nbformat_minor": 5
}
