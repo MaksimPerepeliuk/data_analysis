{
 "cells": [
  {
   "cell_type": "markdown",
   "id": "63ac0d3c",
   "metadata": {
    "toc": true
   },
   "source": [
    "<h1>Содержание<span class=\"tocSkip\"></span></h1>\n",
    "<div class=\"toc\"><ul class=\"toc-item\"><li><span><a href=\"#Задачи-исследования\" data-toc-modified-id=\"Задачи-исследования-1\"><span class=\"toc-item-num\">1&nbsp;&nbsp;</span>Задачи исследования</a></span></li><li><span><a href=\"#Исходные-данные\" data-toc-modified-id=\"Исходные-данные-2\"><span class=\"toc-item-num\">2&nbsp;&nbsp;</span>Исходные данные</a></span></li><li><span><a href=\"#Предобработка-данных\" data-toc-modified-id=\"Предобработка-данных-3\"><span class=\"toc-item-num\">3&nbsp;&nbsp;</span>Предобработка данных</a></span><ul class=\"toc-item\"><li><span><a href=\"#Пропуски\" data-toc-modified-id=\"Пропуски-3.1\"><span class=\"toc-item-num\">3.1&nbsp;&nbsp;</span>Пропуски</a></span></li><li><span><a href=\"#Дубликаты\" data-toc-modified-id=\"Дубликаты-3.2\"><span class=\"toc-item-num\">3.2&nbsp;&nbsp;</span>Дубликаты</a></span></li><li><span><a href=\"#Значения-колонок\" data-toc-modified-id=\"Значения-колонок-3.3\"><span class=\"toc-item-num\">3.3&nbsp;&nbsp;</span>Значения колонок</a></span></li><li><span><a href=\"#Временной-период-данных\" data-toc-modified-id=\"Временной-период-данных-3.4\"><span class=\"toc-item-num\">3.4&nbsp;&nbsp;</span>Временной период данных</a></span></li></ul></li><li><span><a href=\"#Расчет-Customer-Lifetime-Value\" data-toc-modified-id=\"Расчет-Customer-Lifetime-Value-4\"><span class=\"toc-item-num\">4&nbsp;&nbsp;</span>Расчет Customer Lifetime Value</a></span><ul class=\"toc-item\"><li><span><a href=\"#Расчет-CLV-с-помощью-выручки\" data-toc-modified-id=\"Расчет-CLV-с-помощью-выручки-4.1\"><span class=\"toc-item-num\">4.1&nbsp;&nbsp;</span>Расчет CLV с помощью выручки</a></span></li><li><span><a href=\"#Расчет-CLV-с-помощью-валовой-прибыли\" data-toc-modified-id=\"Расчет-CLV-с-помощью-валовой-прибыли-4.2\"><span class=\"toc-item-num\">4.2&nbsp;&nbsp;</span>Расчет CLV с помощью валовой прибыли</a></span></li><li><span><a href=\"#Вывод\" data-toc-modified-id=\"Вывод-4.3\"><span class=\"toc-item-num\">4.3&nbsp;&nbsp;</span>Вывод</a></span></li></ul></li><li><span><a href=\"#Прогнозирование-CLV\" data-toc-modified-id=\"Прогнозирование-CLV-5\"><span class=\"toc-item-num\">5&nbsp;&nbsp;</span>Прогнозирование CLV</a></span><ul class=\"toc-item\"><li><span><a href=\"#Прогнозирование-на-основе-аппроксимации-функции\" data-toc-modified-id=\"Прогнозирование-на-основе-аппроксимации-функции-5.1\"><span class=\"toc-item-num\">5.1&nbsp;&nbsp;</span>Прогнозирование на основе аппроксимации функции</a></span><ul class=\"toc-item\"><li><span><a href=\"#Анализ-графика\" data-toc-modified-id=\"Анализ-графика-5.1.1\"><span class=\"toc-item-num\">5.1.1&nbsp;&nbsp;</span>Анализ графика</a></span></li><li><span><a href=\"#Аппроксимация-функции-и-прогноз\" data-toc-modified-id=\"Аппроксимация-функции-и-прогноз-5.1.2\"><span class=\"toc-item-num\">5.1.2&nbsp;&nbsp;</span>Аппроксимация функции и прогноз</a></span></li><li><span><a href=\"#Вывод\" data-toc-modified-id=\"Вывод-5.1.3\"><span class=\"toc-item-num\">5.1.3&nbsp;&nbsp;</span>Вывод</a></span></li></ul></li><li><span><a href=\"#Прогнозирование-CLV-с-помощью-алгоритмов-машинного-обучения\" data-toc-modified-id=\"Прогнозирование-CLV-с-помощью-алгоритмов-машинного-обучения-5.2\"><span class=\"toc-item-num\">5.2&nbsp;&nbsp;</span>Прогнозирование CLV с помощью алгоритмов машинного обучения</a></span><ul class=\"toc-item\"><li><span><a href=\"#Рассчет-новых-признаков-для-прогнозирования\" data-toc-modified-id=\"Рассчет-новых-признаков-для-прогнозирования-5.2.1\"><span class=\"toc-item-num\">5.2.1&nbsp;&nbsp;</span>Рассчет новых признаков для прогнозирования</a></span></li><li><span><a href=\"#Подготовка-данных\" data-toc-modified-id=\"Подготовка-данных-5.2.2\"><span class=\"toc-item-num\">5.2.2&nbsp;&nbsp;</span>Подготовка данных</a></span></li><li><span><a href=\"#Линейная-регрессия\" data-toc-modified-id=\"Линейная-регрессия-5.2.3\"><span class=\"toc-item-num\">5.2.3&nbsp;&nbsp;</span>Линейная регрессия</a></span></li><li><span><a href=\"#Случайный-лес\" data-toc-modified-id=\"Случайный-лес-5.2.4\"><span class=\"toc-item-num\">5.2.4&nbsp;&nbsp;</span>Случайный лес</a></span></li><li><span><a href=\"#Catboost\" data-toc-modified-id=\"Catboost-5.2.5\"><span class=\"toc-item-num\">5.2.5&nbsp;&nbsp;</span>Catboost</a></span></li></ul></li></ul></li><li><span><a href=\"#Выводы\" data-toc-modified-id=\"Выводы-6\"><span class=\"toc-item-num\">6&nbsp;&nbsp;</span>Выводы</a></span></li></ul></div>"
   ]
  },
  {
   "cell_type": "markdown",
   "id": "97dfc5ff",
   "metadata": {},
   "source": [
    "# Исследование методов расчета и прогнозирования Customer Lifetime Value"
   ]
  },
  {
   "cell_type": "markdown",
   "id": "c14a67e8",
   "metadata": {},
   "source": [
    "Существует множество способов расчета и прогнозирования метрики Customer Lifetime Value (CLV) - пожизненной ценности клиента. В данном исследовании мы попробуем рассчитать и спрогнозировать данную метрику несколькими способами"
   ]
  },
  {
   "cell_type": "markdown",
   "id": "44d5d74c",
   "metadata": {},
   "source": [
    "## Задачи исследования"
   ]
  },
  {
   "cell_type": "markdown",
   "id": "d482c6d2",
   "metadata": {},
   "source": [
    "1. Расчет CLV с помощью выручки\n",
    "2. Расчет CLV с помощью валовой прибыли\n",
    "3. Прогнозирование CLV на основе анализа графика и аппроксимации функции, описывающей связь на данном графике\n",
    "4. Прогнозирование CLV с помощью алгоритмов регрессии"
   ]
  },
  {
   "cell_type": "markdown",
   "id": "3fb417cc",
   "metadata": {},
   "source": [
    "## Исходные данные\n",
    "\n",
    "В нашем распоряжении данные покупок из сферы e-commerce\n",
    "\n",
    "Ссылка на датасет: https://www.kaggle.com/carrie1/ecommerce-data\n",
    "\n",
    "- `InvoiceNo` - идентификатор заказа  \n",
    "- `StockCode` - код акции         \n",
    "- `Description` - текстовое описание товара      \n",
    "- `Quantity` - количество товара в заказе         \n",
    "- `InvoiceDate` - дата заказа        \n",
    "- `UnitPrice` - цена товара за 1 шт       \n",
    "- `CustomerID` - идентификатор клиента  \n",
    "- `Country` - страна клиента "
   ]
  },
  {
   "cell_type": "markdown",
   "id": "ed442309",
   "metadata": {},
   "source": [
    "## Предобработка данных"
   ]
  },
  {
   "cell_type": "code",
   "execution_count": 1,
   "id": "a1dc13ec",
   "metadata": {},
   "outputs": [],
   "source": [
    "import pandas as pd\n",
    "import numpy as np\n",
    "import matplotlib.pyplot as plt\n",
    "import seaborn as sns\n",
    "from sklearn.metrics import mean_absolute_percentage_error, mean_absolute_error\n",
    "from sklearn.model_selection import train_test_split"
   ]
  },
  {
   "cell_type": "code",
   "execution_count": 2,
   "id": "ac489515",
   "metadata": {},
   "outputs": [],
   "source": [
    "df = pd.read_csv('./sales_transaction.csv', encoding='cp1252')"
   ]
  },
  {
   "cell_type": "code",
   "execution_count": 3,
   "id": "e8780166",
   "metadata": {},
   "outputs": [
    {
     "data": {
      "text/html": [
       "<div>\n",
       "<style scoped>\n",
       "    .dataframe tbody tr th:only-of-type {\n",
       "        vertical-align: middle;\n",
       "    }\n",
       "\n",
       "    .dataframe tbody tr th {\n",
       "        vertical-align: top;\n",
       "    }\n",
       "\n",
       "    .dataframe thead th {\n",
       "        text-align: right;\n",
       "    }\n",
       "</style>\n",
       "<table border=\"1\" class=\"dataframe\">\n",
       "  <thead>\n",
       "    <tr style=\"text-align: right;\">\n",
       "      <th></th>\n",
       "      <th>InvoiceNo</th>\n",
       "      <th>StockCode</th>\n",
       "      <th>Description</th>\n",
       "      <th>Quantity</th>\n",
       "      <th>InvoiceDate</th>\n",
       "      <th>UnitPrice</th>\n",
       "      <th>CustomerID</th>\n",
       "      <th>Country</th>\n",
       "    </tr>\n",
       "  </thead>\n",
       "  <tbody>\n",
       "    <tr>\n",
       "      <th>0</th>\n",
       "      <td>536365</td>\n",
       "      <td>85123A</td>\n",
       "      <td>WHITE HANGING HEART T-LIGHT HOLDER</td>\n",
       "      <td>6</td>\n",
       "      <td>12/1/2010 8:26</td>\n",
       "      <td>2.55</td>\n",
       "      <td>17850.0</td>\n",
       "      <td>United Kingdom</td>\n",
       "    </tr>\n",
       "    <tr>\n",
       "      <th>1</th>\n",
       "      <td>536365</td>\n",
       "      <td>71053</td>\n",
       "      <td>WHITE METAL LANTERN</td>\n",
       "      <td>6</td>\n",
       "      <td>12/1/2010 8:26</td>\n",
       "      <td>3.39</td>\n",
       "      <td>17850.0</td>\n",
       "      <td>United Kingdom</td>\n",
       "    </tr>\n",
       "    <tr>\n",
       "      <th>2</th>\n",
       "      <td>536365</td>\n",
       "      <td>84406B</td>\n",
       "      <td>CREAM CUPID HEARTS COAT HANGER</td>\n",
       "      <td>8</td>\n",
       "      <td>12/1/2010 8:26</td>\n",
       "      <td>2.75</td>\n",
       "      <td>17850.0</td>\n",
       "      <td>United Kingdom</td>\n",
       "    </tr>\n",
       "    <tr>\n",
       "      <th>3</th>\n",
       "      <td>536365</td>\n",
       "      <td>84029G</td>\n",
       "      <td>KNITTED UNION FLAG HOT WATER BOTTLE</td>\n",
       "      <td>6</td>\n",
       "      <td>12/1/2010 8:26</td>\n",
       "      <td>3.39</td>\n",
       "      <td>17850.0</td>\n",
       "      <td>United Kingdom</td>\n",
       "    </tr>\n",
       "    <tr>\n",
       "      <th>4</th>\n",
       "      <td>536365</td>\n",
       "      <td>84029E</td>\n",
       "      <td>RED WOOLLY HOTTIE WHITE HEART.</td>\n",
       "      <td>6</td>\n",
       "      <td>12/1/2010 8:26</td>\n",
       "      <td>3.39</td>\n",
       "      <td>17850.0</td>\n",
       "      <td>United Kingdom</td>\n",
       "    </tr>\n",
       "  </tbody>\n",
       "</table>\n",
       "</div>"
      ],
      "text/plain": [
       "  InvoiceNo StockCode                          Description  Quantity  \\\n",
       "0    536365    85123A   WHITE HANGING HEART T-LIGHT HOLDER         6   \n",
       "1    536365     71053                  WHITE METAL LANTERN         6   \n",
       "2    536365    84406B       CREAM CUPID HEARTS COAT HANGER         8   \n",
       "3    536365    84029G  KNITTED UNION FLAG HOT WATER BOTTLE         6   \n",
       "4    536365    84029E       RED WOOLLY HOTTIE WHITE HEART.         6   \n",
       "\n",
       "      InvoiceDate  UnitPrice  CustomerID         Country  \n",
       "0  12/1/2010 8:26       2.55     17850.0  United Kingdom  \n",
       "1  12/1/2010 8:26       3.39     17850.0  United Kingdom  \n",
       "2  12/1/2010 8:26       2.75     17850.0  United Kingdom  \n",
       "3  12/1/2010 8:26       3.39     17850.0  United Kingdom  \n",
       "4  12/1/2010 8:26       3.39     17850.0  United Kingdom  "
      ]
     },
     "execution_count": 3,
     "metadata": {},
     "output_type": "execute_result"
    }
   ],
   "source": [
    "df.head()"
   ]
  },
  {
   "cell_type": "code",
   "execution_count": 4,
   "id": "b06c7a6c",
   "metadata": {},
   "outputs": [
    {
     "name": "stdout",
     "output_type": "stream",
     "text": [
      "<class 'pandas.core.frame.DataFrame'>\n",
      "RangeIndex: 541909 entries, 0 to 541908\n",
      "Data columns (total 8 columns):\n",
      " #   Column       Non-Null Count   Dtype  \n",
      "---  ------       --------------   -----  \n",
      " 0   InvoiceNo    541909 non-null  object \n",
      " 1   StockCode    541909 non-null  object \n",
      " 2   Description  540455 non-null  object \n",
      " 3   Quantity     541909 non-null  int64  \n",
      " 4   InvoiceDate  541909 non-null  object \n",
      " 5   UnitPrice    541909 non-null  float64\n",
      " 6   CustomerID   406829 non-null  float64\n",
      " 7   Country      541909 non-null  object \n",
      "dtypes: float64(2), int64(1), object(5)\n",
      "memory usage: 33.1+ MB\n"
     ]
    }
   ],
   "source": [
    "df.info()"
   ]
  },
  {
   "cell_type": "markdown",
   "id": "3688d59d",
   "metadata": {},
   "source": [
    "Переименуем колонки в snake_case нотацию"
   ]
  },
  {
   "cell_type": "code",
   "execution_count": 5,
   "id": "4ea3b7d4",
   "metadata": {},
   "outputs": [],
   "source": [
    "df.columns = ['transaction_id', 'stock_code', 'description', 'qty', \n",
    "              'transaction_date', 'price', 'customer_id', 'country']"
   ]
  },
  {
   "cell_type": "markdown",
   "id": "476a1aae",
   "metadata": {},
   "source": [
    "Приведем колонку `invoice_date` в тип datetime"
   ]
  },
  {
   "cell_type": "code",
   "execution_count": 6,
   "id": "73a20ab4",
   "metadata": {},
   "outputs": [],
   "source": [
    "df['transaction_date'] = pd.to_datetime(df['transaction_date'])"
   ]
  },
  {
   "cell_type": "code",
   "execution_count": 7,
   "id": "7615b303",
   "metadata": {},
   "outputs": [
    {
     "data": {
      "text/html": [
       "<div>\n",
       "<style scoped>\n",
       "    .dataframe tbody tr th:only-of-type {\n",
       "        vertical-align: middle;\n",
       "    }\n",
       "\n",
       "    .dataframe tbody tr th {\n",
       "        vertical-align: top;\n",
       "    }\n",
       "\n",
       "    .dataframe thead th {\n",
       "        text-align: right;\n",
       "    }\n",
       "</style>\n",
       "<table border=\"1\" class=\"dataframe\">\n",
       "  <thead>\n",
       "    <tr style=\"text-align: right;\">\n",
       "      <th></th>\n",
       "      <th>transaction_id</th>\n",
       "      <th>stock_code</th>\n",
       "      <th>description</th>\n",
       "      <th>qty</th>\n",
       "      <th>transaction_date</th>\n",
       "      <th>price</th>\n",
       "      <th>customer_id</th>\n",
       "      <th>country</th>\n",
       "    </tr>\n",
       "  </thead>\n",
       "  <tbody>\n",
       "    <tr>\n",
       "      <th>0</th>\n",
       "      <td>536365</td>\n",
       "      <td>85123A</td>\n",
       "      <td>WHITE HANGING HEART T-LIGHT HOLDER</td>\n",
       "      <td>6</td>\n",
       "      <td>2010-12-01 08:26:00</td>\n",
       "      <td>2.55</td>\n",
       "      <td>17850.0</td>\n",
       "      <td>United Kingdom</td>\n",
       "    </tr>\n",
       "    <tr>\n",
       "      <th>1</th>\n",
       "      <td>536365</td>\n",
       "      <td>71053</td>\n",
       "      <td>WHITE METAL LANTERN</td>\n",
       "      <td>6</td>\n",
       "      <td>2010-12-01 08:26:00</td>\n",
       "      <td>3.39</td>\n",
       "      <td>17850.0</td>\n",
       "      <td>United Kingdom</td>\n",
       "    </tr>\n",
       "    <tr>\n",
       "      <th>2</th>\n",
       "      <td>536365</td>\n",
       "      <td>84406B</td>\n",
       "      <td>CREAM CUPID HEARTS COAT HANGER</td>\n",
       "      <td>8</td>\n",
       "      <td>2010-12-01 08:26:00</td>\n",
       "      <td>2.75</td>\n",
       "      <td>17850.0</td>\n",
       "      <td>United Kingdom</td>\n",
       "    </tr>\n",
       "    <tr>\n",
       "      <th>3</th>\n",
       "      <td>536365</td>\n",
       "      <td>84029G</td>\n",
       "      <td>KNITTED UNION FLAG HOT WATER BOTTLE</td>\n",
       "      <td>6</td>\n",
       "      <td>2010-12-01 08:26:00</td>\n",
       "      <td>3.39</td>\n",
       "      <td>17850.0</td>\n",
       "      <td>United Kingdom</td>\n",
       "    </tr>\n",
       "    <tr>\n",
       "      <th>4</th>\n",
       "      <td>536365</td>\n",
       "      <td>84029E</td>\n",
       "      <td>RED WOOLLY HOTTIE WHITE HEART.</td>\n",
       "      <td>6</td>\n",
       "      <td>2010-12-01 08:26:00</td>\n",
       "      <td>3.39</td>\n",
       "      <td>17850.0</td>\n",
       "      <td>United Kingdom</td>\n",
       "    </tr>\n",
       "  </tbody>\n",
       "</table>\n",
       "</div>"
      ],
      "text/plain": [
       "  transaction_id stock_code                          description  qty  \\\n",
       "0         536365     85123A   WHITE HANGING HEART T-LIGHT HOLDER    6   \n",
       "1         536365      71053                  WHITE METAL LANTERN    6   \n",
       "2         536365     84406B       CREAM CUPID HEARTS COAT HANGER    8   \n",
       "3         536365     84029G  KNITTED UNION FLAG HOT WATER BOTTLE    6   \n",
       "4         536365     84029E       RED WOOLLY HOTTIE WHITE HEART.    6   \n",
       "\n",
       "     transaction_date  price  customer_id         country  \n",
       "0 2010-12-01 08:26:00   2.55      17850.0  United Kingdom  \n",
       "1 2010-12-01 08:26:00   3.39      17850.0  United Kingdom  \n",
       "2 2010-12-01 08:26:00   2.75      17850.0  United Kingdom  \n",
       "3 2010-12-01 08:26:00   3.39      17850.0  United Kingdom  \n",
       "4 2010-12-01 08:26:00   3.39      17850.0  United Kingdom  "
      ]
     },
     "execution_count": 7,
     "metadata": {},
     "output_type": "execute_result"
    }
   ],
   "source": [
    "df.head()"
   ]
  },
  {
   "cell_type": "markdown",
   "id": "0098f081",
   "metadata": {},
   "source": [
    "### Пропуски"
   ]
  },
  {
   "cell_type": "code",
   "execution_count": 8,
   "id": "54d738b5",
   "metadata": {},
   "outputs": [
    {
     "data": {
      "text/plain": [
       "transaction_id      0.000000\n",
       "stock_code          0.000000\n",
       "description         0.002683\n",
       "qty                 0.000000\n",
       "transaction_date    0.000000\n",
       "price               0.000000\n",
       "customer_id         0.249267\n",
       "country             0.000000\n",
       "dtype: float64"
      ]
     },
     "execution_count": 8,
     "metadata": {},
     "output_type": "execute_result"
    }
   ],
   "source": [
    "df.isna().mean()"
   ]
  },
  {
   "cell_type": "markdown",
   "id": "4b5dd867",
   "metadata": {},
   "source": [
    "В колонке `customer_id` доля пропусков 25%, удалим их"
   ]
  },
  {
   "cell_type": "code",
   "execution_count": 9,
   "id": "25dcb77a",
   "metadata": {},
   "outputs": [],
   "source": [
    "df = df.dropna(subset=['customer_id'])"
   ]
  },
  {
   "cell_type": "code",
   "execution_count": 10,
   "id": "70c83146",
   "metadata": {},
   "outputs": [
    {
     "data": {
      "text/plain": [
       "transaction_id      0.0\n",
       "stock_code          0.0\n",
       "description         0.0\n",
       "qty                 0.0\n",
       "transaction_date    0.0\n",
       "price               0.0\n",
       "customer_id         0.0\n",
       "country             0.0\n",
       "dtype: float64"
      ]
     },
     "execution_count": 10,
     "metadata": {},
     "output_type": "execute_result"
    }
   ],
   "source": [
    "df.isna().mean()"
   ]
  },
  {
   "cell_type": "markdown",
   "id": "a378035d",
   "metadata": {},
   "source": [
    "### Дубликаты"
   ]
  },
  {
   "cell_type": "code",
   "execution_count": 11,
   "id": "97c4d55c",
   "metadata": {},
   "outputs": [
    {
     "data": {
      "text/plain": [
       "(5225, 0.01284)"
      ]
     },
     "execution_count": 11,
     "metadata": {},
     "output_type": "execute_result"
    }
   ],
   "source": [
    "df.duplicated().sum(), df.duplicated().mean().round(5)"
   ]
  },
  {
   "cell_type": "markdown",
   "id": "3d27d4a0",
   "metadata": {},
   "source": [
    "Доля полных дубликатов около 1%, поэтому просто удалим их"
   ]
  },
  {
   "cell_type": "code",
   "execution_count": 12,
   "id": "c7399d2d",
   "metadata": {},
   "outputs": [],
   "source": [
    "df = df.drop_duplicates()"
   ]
  },
  {
   "cell_type": "code",
   "execution_count": 13,
   "id": "d30f4e69",
   "metadata": {},
   "outputs": [
    {
     "data": {
      "text/plain": [
       "0"
      ]
     },
     "execution_count": 13,
     "metadata": {},
     "output_type": "execute_result"
    }
   ],
   "source": [
    "df.duplicated().sum()"
   ]
  },
  {
   "cell_type": "markdown",
   "id": "d10d635c",
   "metadata": {},
   "source": [
    "### Значения колонок"
   ]
  },
  {
   "cell_type": "code",
   "execution_count": 14,
   "id": "4ae2234c",
   "metadata": {},
   "outputs": [
    {
     "data": {
      "text/html": [
       "<div>\n",
       "<style scoped>\n",
       "    .dataframe tbody tr th:only-of-type {\n",
       "        vertical-align: middle;\n",
       "    }\n",
       "\n",
       "    .dataframe tbody tr th {\n",
       "        vertical-align: top;\n",
       "    }\n",
       "\n",
       "    .dataframe thead th {\n",
       "        text-align: right;\n",
       "    }\n",
       "</style>\n",
       "<table border=\"1\" class=\"dataframe\">\n",
       "  <thead>\n",
       "    <tr style=\"text-align: right;\">\n",
       "      <th></th>\n",
       "      <th>qty</th>\n",
       "      <th>price</th>\n",
       "      <th>customer_id</th>\n",
       "    </tr>\n",
       "  </thead>\n",
       "  <tbody>\n",
       "    <tr>\n",
       "      <th>count</th>\n",
       "      <td>401604.000000</td>\n",
       "      <td>401604.000000</td>\n",
       "      <td>401604.000000</td>\n",
       "    </tr>\n",
       "    <tr>\n",
       "      <th>mean</th>\n",
       "      <td>12.183273</td>\n",
       "      <td>3.474064</td>\n",
       "      <td>15281.160818</td>\n",
       "    </tr>\n",
       "    <tr>\n",
       "      <th>std</th>\n",
       "      <td>250.283037</td>\n",
       "      <td>69.764035</td>\n",
       "      <td>1714.006089</td>\n",
       "    </tr>\n",
       "    <tr>\n",
       "      <th>min</th>\n",
       "      <td>-80995.000000</td>\n",
       "      <td>0.000000</td>\n",
       "      <td>12346.000000</td>\n",
       "    </tr>\n",
       "    <tr>\n",
       "      <th>25%</th>\n",
       "      <td>2.000000</td>\n",
       "      <td>1.250000</td>\n",
       "      <td>13939.000000</td>\n",
       "    </tr>\n",
       "    <tr>\n",
       "      <th>50%</th>\n",
       "      <td>5.000000</td>\n",
       "      <td>1.950000</td>\n",
       "      <td>15145.000000</td>\n",
       "    </tr>\n",
       "    <tr>\n",
       "      <th>75%</th>\n",
       "      <td>12.000000</td>\n",
       "      <td>3.750000</td>\n",
       "      <td>16784.000000</td>\n",
       "    </tr>\n",
       "    <tr>\n",
       "      <th>max</th>\n",
       "      <td>80995.000000</td>\n",
       "      <td>38970.000000</td>\n",
       "      <td>18287.000000</td>\n",
       "    </tr>\n",
       "  </tbody>\n",
       "</table>\n",
       "</div>"
      ],
      "text/plain": [
       "                 qty          price    customer_id\n",
       "count  401604.000000  401604.000000  401604.000000\n",
       "mean       12.183273       3.474064   15281.160818\n",
       "std       250.283037      69.764035    1714.006089\n",
       "min    -80995.000000       0.000000   12346.000000\n",
       "25%         2.000000       1.250000   13939.000000\n",
       "50%         5.000000       1.950000   15145.000000\n",
       "75%        12.000000       3.750000   16784.000000\n",
       "max     80995.000000   38970.000000   18287.000000"
      ]
     },
     "execution_count": 14,
     "metadata": {},
     "output_type": "execute_result"
    }
   ],
   "source": [
    "df.describe()"
   ]
  },
  {
   "cell_type": "markdown",
   "id": "00245f27",
   "metadata": {},
   "source": [
    "В колонках `qty` и `price` присутствуют отрицательные значения, природа которых из описания данных нам неизвестна, возможно это возвраты товаров, но они будут нам мешать в дальнейшем, поэтому отфильтруем только положительные значения в этих колонках"
   ]
  },
  {
   "cell_type": "code",
   "execution_count": 15,
   "id": "17c713f7",
   "metadata": {},
   "outputs": [],
   "source": [
    "df = df[df['qty'] > 0]\n",
    "df = df[df['price'] > 0]"
   ]
  },
  {
   "cell_type": "code",
   "execution_count": 16,
   "id": "6ebc552b",
   "metadata": {},
   "outputs": [
    {
     "data": {
      "text/html": [
       "<div>\n",
       "<style scoped>\n",
       "    .dataframe tbody tr th:only-of-type {\n",
       "        vertical-align: middle;\n",
       "    }\n",
       "\n",
       "    .dataframe tbody tr th {\n",
       "        vertical-align: top;\n",
       "    }\n",
       "\n",
       "    .dataframe thead th {\n",
       "        text-align: right;\n",
       "    }\n",
       "</style>\n",
       "<table border=\"1\" class=\"dataframe\">\n",
       "  <thead>\n",
       "    <tr style=\"text-align: right;\">\n",
       "      <th></th>\n",
       "      <th>qty</th>\n",
       "      <th>price</th>\n",
       "      <th>customer_id</th>\n",
       "    </tr>\n",
       "  </thead>\n",
       "  <tbody>\n",
       "    <tr>\n",
       "      <th>count</th>\n",
       "      <td>392692.000000</td>\n",
       "      <td>392692.000000</td>\n",
       "      <td>392692.000000</td>\n",
       "    </tr>\n",
       "    <tr>\n",
       "      <th>mean</th>\n",
       "      <td>13.119702</td>\n",
       "      <td>3.125914</td>\n",
       "      <td>15287.843865</td>\n",
       "    </tr>\n",
       "    <tr>\n",
       "      <th>std</th>\n",
       "      <td>180.492832</td>\n",
       "      <td>22.241836</td>\n",
       "      <td>1713.539549</td>\n",
       "    </tr>\n",
       "    <tr>\n",
       "      <th>min</th>\n",
       "      <td>1.000000</td>\n",
       "      <td>0.001000</td>\n",
       "      <td>12346.000000</td>\n",
       "    </tr>\n",
       "    <tr>\n",
       "      <th>25%</th>\n",
       "      <td>2.000000</td>\n",
       "      <td>1.250000</td>\n",
       "      <td>13955.000000</td>\n",
       "    </tr>\n",
       "    <tr>\n",
       "      <th>50%</th>\n",
       "      <td>6.000000</td>\n",
       "      <td>1.950000</td>\n",
       "      <td>15150.000000</td>\n",
       "    </tr>\n",
       "    <tr>\n",
       "      <th>75%</th>\n",
       "      <td>12.000000</td>\n",
       "      <td>3.750000</td>\n",
       "      <td>16791.000000</td>\n",
       "    </tr>\n",
       "    <tr>\n",
       "      <th>max</th>\n",
       "      <td>80995.000000</td>\n",
       "      <td>8142.750000</td>\n",
       "      <td>18287.000000</td>\n",
       "    </tr>\n",
       "  </tbody>\n",
       "</table>\n",
       "</div>"
      ],
      "text/plain": [
       "                 qty          price    customer_id\n",
       "count  392692.000000  392692.000000  392692.000000\n",
       "mean       13.119702       3.125914   15287.843865\n",
       "std       180.492832      22.241836    1713.539549\n",
       "min         1.000000       0.001000   12346.000000\n",
       "25%         2.000000       1.250000   13955.000000\n",
       "50%         6.000000       1.950000   15150.000000\n",
       "75%        12.000000       3.750000   16791.000000\n",
       "max     80995.000000    8142.750000   18287.000000"
      ]
     },
     "execution_count": 16,
     "metadata": {},
     "output_type": "execute_result"
    }
   ],
   "source": [
    "df.describe()"
   ]
  },
  {
   "cell_type": "markdown",
   "id": "c4f9bc8b",
   "metadata": {},
   "source": [
    "### Временной период данных"
   ]
  },
  {
   "cell_type": "markdown",
   "id": "5c0350d8",
   "metadata": {},
   "source": [
    "Посмотрим количество заказов и покупателей по месяцам"
   ]
  },
  {
   "cell_type": "code",
   "execution_count": 17,
   "id": "4ae5bc08",
   "metadata": {},
   "outputs": [],
   "source": [
    "df['transaction_month'] = df['transaction_date'].astype('datetime64[M]')"
   ]
  },
  {
   "cell_type": "code",
   "execution_count": 18,
   "id": "d8c308a9",
   "metadata": {},
   "outputs": [
    {
     "data": {
      "text/html": [
       "<div>\n",
       "<style scoped>\n",
       "    .dataframe tbody tr th:only-of-type {\n",
       "        vertical-align: middle;\n",
       "    }\n",
       "\n",
       "    .dataframe tbody tr th {\n",
       "        vertical-align: top;\n",
       "    }\n",
       "\n",
       "    .dataframe thead th {\n",
       "        text-align: right;\n",
       "    }\n",
       "</style>\n",
       "<table border=\"1\" class=\"dataframe\">\n",
       "  <thead>\n",
       "    <tr style=\"text-align: right;\">\n",
       "      <th></th>\n",
       "      <th>transactions</th>\n",
       "      <th>customers</th>\n",
       "    </tr>\n",
       "    <tr>\n",
       "      <th>transaction_month</th>\n",
       "      <th></th>\n",
       "      <th></th>\n",
       "    </tr>\n",
       "  </thead>\n",
       "  <tbody>\n",
       "    <tr>\n",
       "      <th>2010-12-01</th>\n",
       "      <td>25670</td>\n",
       "      <td>885</td>\n",
       "    </tr>\n",
       "    <tr>\n",
       "      <th>2011-01-01</th>\n",
       "      <td>20988</td>\n",
       "      <td>741</td>\n",
       "    </tr>\n",
       "    <tr>\n",
       "      <th>2011-02-01</th>\n",
       "      <td>19706</td>\n",
       "      <td>758</td>\n",
       "    </tr>\n",
       "    <tr>\n",
       "      <th>2011-03-01</th>\n",
       "      <td>26870</td>\n",
       "      <td>974</td>\n",
       "    </tr>\n",
       "    <tr>\n",
       "      <th>2011-04-01</th>\n",
       "      <td>22433</td>\n",
       "      <td>856</td>\n",
       "    </tr>\n",
       "    <tr>\n",
       "      <th>2011-05-01</th>\n",
       "      <td>28073</td>\n",
       "      <td>1056</td>\n",
       "    </tr>\n",
       "    <tr>\n",
       "      <th>2011-06-01</th>\n",
       "      <td>26926</td>\n",
       "      <td>991</td>\n",
       "    </tr>\n",
       "    <tr>\n",
       "      <th>2011-07-01</th>\n",
       "      <td>26580</td>\n",
       "      <td>949</td>\n",
       "    </tr>\n",
       "    <tr>\n",
       "      <th>2011-08-01</th>\n",
       "      <td>26790</td>\n",
       "      <td>935</td>\n",
       "    </tr>\n",
       "    <tr>\n",
       "      <th>2011-09-01</th>\n",
       "      <td>39669</td>\n",
       "      <td>1266</td>\n",
       "    </tr>\n",
       "    <tr>\n",
       "      <th>2011-10-01</th>\n",
       "      <td>48793</td>\n",
       "      <td>1364</td>\n",
       "    </tr>\n",
       "    <tr>\n",
       "      <th>2011-11-01</th>\n",
       "      <td>63168</td>\n",
       "      <td>1664</td>\n",
       "    </tr>\n",
       "    <tr>\n",
       "      <th>2011-12-01</th>\n",
       "      <td>17026</td>\n",
       "      <td>615</td>\n",
       "    </tr>\n",
       "  </tbody>\n",
       "</table>\n",
       "</div>"
      ],
      "text/plain": [
       "                   transactions  customers\n",
       "transaction_month                         \n",
       "2010-12-01                25670        885\n",
       "2011-01-01                20988        741\n",
       "2011-02-01                19706        758\n",
       "2011-03-01                26870        974\n",
       "2011-04-01                22433        856\n",
       "2011-05-01                28073       1056\n",
       "2011-06-01                26926        991\n",
       "2011-07-01                26580        949\n",
       "2011-08-01                26790        935\n",
       "2011-09-01                39669       1266\n",
       "2011-10-01                48793       1364\n",
       "2011-11-01                63168       1664\n",
       "2011-12-01                17026        615"
      ]
     },
     "execution_count": 18,
     "metadata": {},
     "output_type": "execute_result"
    }
   ],
   "source": [
    "df.groupby('transaction_month').agg(\n",
    "    transactions=('customer_id', 'count'), \n",
    "    customers=('customer_id', 'nunique'))"
   ]
  },
  {
   "cell_type": "markdown",
   "id": "2455ac2e",
   "metadata": {},
   "source": [
    "Всего нам доступны данные за 13 месяцев. В декабре 2011 количество заказов и пользователей резко падает, возможно данные не за весь месяц. Проверим"
   ]
  },
  {
   "cell_type": "code",
   "execution_count": 19,
   "id": "398af8ec",
   "metadata": {},
   "outputs": [
    {
     "data": {
      "text/plain": [
       "Timestamp('2011-12-09 12:50:00')"
      ]
     },
     "execution_count": 19,
     "metadata": {},
     "output_type": "execute_result"
    }
   ],
   "source": [
    "df[df['transaction_month'] == '2011-12-01']['transaction_date'].max()"
   ]
  },
  {
   "cell_type": "markdown",
   "id": "1b033f07",
   "metadata": {},
   "source": [
    "Действительно, максимальная дата наблюдения - 9 декабря. Не будем использовать этот месяц для анализа"
   ]
  },
  {
   "cell_type": "code",
   "execution_count": 20,
   "id": "d863dca8",
   "metadata": {},
   "outputs": [],
   "source": [
    "df = df[df['transaction_month'] < '2011-12-01']"
   ]
  },
  {
   "cell_type": "markdown",
   "id": "5fe0cdc7",
   "metadata": {},
   "source": [
    "## Расчет Customer Lifetime Value"
   ]
  },
  {
   "cell_type": "markdown",
   "id": "751058d4",
   "metadata": {},
   "source": [
    "Рассчитывать CLV будем по когортам и помимо месяца присоединения покупателя, мы можем сформировать когорты также по признаку страны, но в данном случае нам важен сам способ расчета, поэтому для признака когорт оставим только месяц присоединения. Для дальнейших расчетов нам понадобятся новые признаки: выручка и лайфтайм в месяцах"
   ]
  },
  {
   "cell_type": "code",
   "execution_count": 21,
   "id": "f51470f9",
   "metadata": {},
   "outputs": [],
   "source": [
    "df['revenue'] = df['qty'] * df['price']"
   ]
  },
  {
   "cell_type": "markdown",
   "id": "664f21a4",
   "metadata": {},
   "source": [
    "Для создания когорт и расчета лайфтайма нам понадобится месяц присоединения покупателей"
   ]
  },
  {
   "cell_type": "code",
   "execution_count": 22,
   "id": "1091fee9",
   "metadata": {},
   "outputs": [
    {
     "data": {
      "text/html": [
       "<div>\n",
       "<style scoped>\n",
       "    .dataframe tbody tr th:only-of-type {\n",
       "        vertical-align: middle;\n",
       "    }\n",
       "\n",
       "    .dataframe tbody tr th {\n",
       "        vertical-align: top;\n",
       "    }\n",
       "\n",
       "    .dataframe thead th {\n",
       "        text-align: right;\n",
       "    }\n",
       "</style>\n",
       "<table border=\"1\" class=\"dataframe\">\n",
       "  <thead>\n",
       "    <tr style=\"text-align: right;\">\n",
       "      <th></th>\n",
       "      <th>transaction_id</th>\n",
       "      <th>stock_code</th>\n",
       "      <th>description</th>\n",
       "      <th>qty</th>\n",
       "      <th>transaction_date</th>\n",
       "      <th>price</th>\n",
       "      <th>customer_id</th>\n",
       "      <th>country</th>\n",
       "      <th>transaction_month</th>\n",
       "      <th>revenue</th>\n",
       "      <th>first_date</th>\n",
       "    </tr>\n",
       "  </thead>\n",
       "  <tbody>\n",
       "    <tr>\n",
       "      <th>0</th>\n",
       "      <td>536365</td>\n",
       "      <td>85123A</td>\n",
       "      <td>WHITE HANGING HEART T-LIGHT HOLDER</td>\n",
       "      <td>6</td>\n",
       "      <td>2010-12-01 08:26:00</td>\n",
       "      <td>2.55</td>\n",
       "      <td>17850.0</td>\n",
       "      <td>United Kingdom</td>\n",
       "      <td>2010-12-01</td>\n",
       "      <td>15.30</td>\n",
       "      <td>2010-12-01 08:26:00</td>\n",
       "    </tr>\n",
       "    <tr>\n",
       "      <th>1</th>\n",
       "      <td>536365</td>\n",
       "      <td>71053</td>\n",
       "      <td>WHITE METAL LANTERN</td>\n",
       "      <td>6</td>\n",
       "      <td>2010-12-01 08:26:00</td>\n",
       "      <td>3.39</td>\n",
       "      <td>17850.0</td>\n",
       "      <td>United Kingdom</td>\n",
       "      <td>2010-12-01</td>\n",
       "      <td>20.34</td>\n",
       "      <td>2010-12-01 08:26:00</td>\n",
       "    </tr>\n",
       "    <tr>\n",
       "      <th>2</th>\n",
       "      <td>536365</td>\n",
       "      <td>84406B</td>\n",
       "      <td>CREAM CUPID HEARTS COAT HANGER</td>\n",
       "      <td>8</td>\n",
       "      <td>2010-12-01 08:26:00</td>\n",
       "      <td>2.75</td>\n",
       "      <td>17850.0</td>\n",
       "      <td>United Kingdom</td>\n",
       "      <td>2010-12-01</td>\n",
       "      <td>22.00</td>\n",
       "      <td>2010-12-01 08:26:00</td>\n",
       "    </tr>\n",
       "    <tr>\n",
       "      <th>3</th>\n",
       "      <td>536365</td>\n",
       "      <td>84029G</td>\n",
       "      <td>KNITTED UNION FLAG HOT WATER BOTTLE</td>\n",
       "      <td>6</td>\n",
       "      <td>2010-12-01 08:26:00</td>\n",
       "      <td>3.39</td>\n",
       "      <td>17850.0</td>\n",
       "      <td>United Kingdom</td>\n",
       "      <td>2010-12-01</td>\n",
       "      <td>20.34</td>\n",
       "      <td>2010-12-01 08:26:00</td>\n",
       "    </tr>\n",
       "    <tr>\n",
       "      <th>4</th>\n",
       "      <td>536365</td>\n",
       "      <td>84029E</td>\n",
       "      <td>RED WOOLLY HOTTIE WHITE HEART.</td>\n",
       "      <td>6</td>\n",
       "      <td>2010-12-01 08:26:00</td>\n",
       "      <td>3.39</td>\n",
       "      <td>17850.0</td>\n",
       "      <td>United Kingdom</td>\n",
       "      <td>2010-12-01</td>\n",
       "      <td>20.34</td>\n",
       "      <td>2010-12-01 08:26:00</td>\n",
       "    </tr>\n",
       "  </tbody>\n",
       "</table>\n",
       "</div>"
      ],
      "text/plain": [
       "  transaction_id stock_code                          description  qty  \\\n",
       "0         536365     85123A   WHITE HANGING HEART T-LIGHT HOLDER    6   \n",
       "1         536365      71053                  WHITE METAL LANTERN    6   \n",
       "2         536365     84406B       CREAM CUPID HEARTS COAT HANGER    8   \n",
       "3         536365     84029G  KNITTED UNION FLAG HOT WATER BOTTLE    6   \n",
       "4         536365     84029E       RED WOOLLY HOTTIE WHITE HEART.    6   \n",
       "\n",
       "     transaction_date  price  customer_id         country transaction_month  \\\n",
       "0 2010-12-01 08:26:00   2.55      17850.0  United Kingdom        2010-12-01   \n",
       "1 2010-12-01 08:26:00   3.39      17850.0  United Kingdom        2010-12-01   \n",
       "2 2010-12-01 08:26:00   2.75      17850.0  United Kingdom        2010-12-01   \n",
       "3 2010-12-01 08:26:00   3.39      17850.0  United Kingdom        2010-12-01   \n",
       "4 2010-12-01 08:26:00   3.39      17850.0  United Kingdom        2010-12-01   \n",
       "\n",
       "   revenue          first_date  \n",
       "0    15.30 2010-12-01 08:26:00  \n",
       "1    20.34 2010-12-01 08:26:00  \n",
       "2    22.00 2010-12-01 08:26:00  \n",
       "3    20.34 2010-12-01 08:26:00  \n",
       "4    20.34 2010-12-01 08:26:00  "
      ]
     },
     "execution_count": 22,
     "metadata": {},
     "output_type": "execute_result"
    }
   ],
   "source": [
    "customers_first_date = (df.groupby('customer_id')\n",
    "                            .agg(first_date=('transaction_date', 'min'))\n",
    "                            .reset_index())\n",
    "\n",
    "df = df.merge(customers_first_date, on='customer_id', how='left')\n",
    "df.head()"
   ]
  },
  {
   "cell_type": "markdown",
   "id": "8801d7d8",
   "metadata": {},
   "source": [
    "Для расчета лайфтаймов, из каждого месяца покупки вычтем месяц присоединения покупателя и получим лайфтайм покупателя в месяцах"
   ]
  },
  {
   "cell_type": "code",
   "execution_count": 23,
   "id": "ffd1bdb0",
   "metadata": {},
   "outputs": [
    {
     "data": {
      "text/html": [
       "<div>\n",
       "<style scoped>\n",
       "    .dataframe tbody tr th:only-of-type {\n",
       "        vertical-align: middle;\n",
       "    }\n",
       "\n",
       "    .dataframe tbody tr th {\n",
       "        vertical-align: top;\n",
       "    }\n",
       "\n",
       "    .dataframe thead th {\n",
       "        text-align: right;\n",
       "    }\n",
       "</style>\n",
       "<table border=\"1\" class=\"dataframe\">\n",
       "  <thead>\n",
       "    <tr style=\"text-align: right;\">\n",
       "      <th></th>\n",
       "      <th>transaction_id</th>\n",
       "      <th>stock_code</th>\n",
       "      <th>description</th>\n",
       "      <th>qty</th>\n",
       "      <th>transaction_date</th>\n",
       "      <th>price</th>\n",
       "      <th>customer_id</th>\n",
       "      <th>country</th>\n",
       "      <th>transaction_month</th>\n",
       "      <th>revenue</th>\n",
       "      <th>first_date</th>\n",
       "      <th>lifetime</th>\n",
       "    </tr>\n",
       "  </thead>\n",
       "  <tbody>\n",
       "    <tr>\n",
       "      <th>0</th>\n",
       "      <td>536365</td>\n",
       "      <td>85123A</td>\n",
       "      <td>WHITE HANGING HEART T-LIGHT HOLDER</td>\n",
       "      <td>6</td>\n",
       "      <td>2010-12-01 08:26:00</td>\n",
       "      <td>2.55</td>\n",
       "      <td>17850.0</td>\n",
       "      <td>United Kingdom</td>\n",
       "      <td>2010-12-01</td>\n",
       "      <td>15.30</td>\n",
       "      <td>2010-12-01 08:26:00</td>\n",
       "      <td>0</td>\n",
       "    </tr>\n",
       "    <tr>\n",
       "      <th>1</th>\n",
       "      <td>536365</td>\n",
       "      <td>71053</td>\n",
       "      <td>WHITE METAL LANTERN</td>\n",
       "      <td>6</td>\n",
       "      <td>2010-12-01 08:26:00</td>\n",
       "      <td>3.39</td>\n",
       "      <td>17850.0</td>\n",
       "      <td>United Kingdom</td>\n",
       "      <td>2010-12-01</td>\n",
       "      <td>20.34</td>\n",
       "      <td>2010-12-01 08:26:00</td>\n",
       "      <td>0</td>\n",
       "    </tr>\n",
       "    <tr>\n",
       "      <th>2</th>\n",
       "      <td>536365</td>\n",
       "      <td>84406B</td>\n",
       "      <td>CREAM CUPID HEARTS COAT HANGER</td>\n",
       "      <td>8</td>\n",
       "      <td>2010-12-01 08:26:00</td>\n",
       "      <td>2.75</td>\n",
       "      <td>17850.0</td>\n",
       "      <td>United Kingdom</td>\n",
       "      <td>2010-12-01</td>\n",
       "      <td>22.00</td>\n",
       "      <td>2010-12-01 08:26:00</td>\n",
       "      <td>0</td>\n",
       "    </tr>\n",
       "    <tr>\n",
       "      <th>3</th>\n",
       "      <td>536365</td>\n",
       "      <td>84029G</td>\n",
       "      <td>KNITTED UNION FLAG HOT WATER BOTTLE</td>\n",
       "      <td>6</td>\n",
       "      <td>2010-12-01 08:26:00</td>\n",
       "      <td>3.39</td>\n",
       "      <td>17850.0</td>\n",
       "      <td>United Kingdom</td>\n",
       "      <td>2010-12-01</td>\n",
       "      <td>20.34</td>\n",
       "      <td>2010-12-01 08:26:00</td>\n",
       "      <td>0</td>\n",
       "    </tr>\n",
       "    <tr>\n",
       "      <th>4</th>\n",
       "      <td>536365</td>\n",
       "      <td>84029E</td>\n",
       "      <td>RED WOOLLY HOTTIE WHITE HEART.</td>\n",
       "      <td>6</td>\n",
       "      <td>2010-12-01 08:26:00</td>\n",
       "      <td>3.39</td>\n",
       "      <td>17850.0</td>\n",
       "      <td>United Kingdom</td>\n",
       "      <td>2010-12-01</td>\n",
       "      <td>20.34</td>\n",
       "      <td>2010-12-01 08:26:00</td>\n",
       "      <td>0</td>\n",
       "    </tr>\n",
       "  </tbody>\n",
       "</table>\n",
       "</div>"
      ],
      "text/plain": [
       "  transaction_id stock_code                          description  qty  \\\n",
       "0         536365     85123A   WHITE HANGING HEART T-LIGHT HOLDER    6   \n",
       "1         536365      71053                  WHITE METAL LANTERN    6   \n",
       "2         536365     84406B       CREAM CUPID HEARTS COAT HANGER    8   \n",
       "3         536365     84029G  KNITTED UNION FLAG HOT WATER BOTTLE    6   \n",
       "4         536365     84029E       RED WOOLLY HOTTIE WHITE HEART.    6   \n",
       "\n",
       "     transaction_date  price  customer_id         country transaction_month  \\\n",
       "0 2010-12-01 08:26:00   2.55      17850.0  United Kingdom        2010-12-01   \n",
       "1 2010-12-01 08:26:00   3.39      17850.0  United Kingdom        2010-12-01   \n",
       "2 2010-12-01 08:26:00   2.75      17850.0  United Kingdom        2010-12-01   \n",
       "3 2010-12-01 08:26:00   3.39      17850.0  United Kingdom        2010-12-01   \n",
       "4 2010-12-01 08:26:00   3.39      17850.0  United Kingdom        2010-12-01   \n",
       "\n",
       "   revenue          first_date  lifetime  \n",
       "0    15.30 2010-12-01 08:26:00         0  \n",
       "1    20.34 2010-12-01 08:26:00         0  \n",
       "2    22.00 2010-12-01 08:26:00         0  \n",
       "3    20.34 2010-12-01 08:26:00         0  \n",
       "4    20.34 2010-12-01 08:26:00         0  "
      ]
     },
     "execution_count": 23,
     "metadata": {},
     "output_type": "execute_result"
    }
   ],
   "source": [
    "df['lifetime'] = ((df['transaction_date'] - df['first_date']) / np.timedelta64(1, 'M')).astype('int')\n",
    "df.head()"
   ]
  },
  {
   "cell_type": "markdown",
   "id": "2ad060be",
   "metadata": {},
   "source": [
    "### Расчет CLV с помощью выручки"
   ]
  },
  {
   "cell_type": "markdown",
   "id": "6ea55042",
   "metadata": {},
   "source": [
    "Самый простой способ расчета CLV, с помощью выручки"
   ]
  },
  {
   "cell_type": "markdown",
   "id": "5fb545b5",
   "metadata": {},
   "source": [
    "$\\displaystyle \\Large CLV = \\frac{total\\ revenue}{total\\ customers}$"
   ]
  },
  {
   "cell_type": "markdown",
   "id": "aa7f3da5",
   "metadata": {},
   "source": [
    "Рассчитаем CLV по данной формуле по когортам, признаком которых будет месяц первой покупки"
   ]
  },
  {
   "cell_type": "code",
   "execution_count": 24,
   "id": "4e61c36e",
   "metadata": {},
   "outputs": [],
   "source": [
    "df['first_month'] = df['first_date'].astype('datetime64[M]')\n",
    "cohort_sizes = df.groupby('first_month')['customer_id'].nunique().values"
   ]
  },
  {
   "cell_type": "code",
   "execution_count": 25,
   "id": "45ae07ea",
   "metadata": {},
   "outputs": [
    {
     "data": {
      "text/plain": [
       "array([885, 417, 380, 452, 300, 284, 242, 188, 169, 299, 358, 323])"
      ]
     },
     "execution_count": 25,
     "metadata": {},
     "output_type": "execute_result"
    }
   ],
   "source": [
    "cohort_sizes"
   ]
  },
  {
   "cell_type": "code",
   "execution_count": 26,
   "id": "a9f1b748",
   "metadata": {},
   "outputs": [],
   "source": [
    "revenue_cumsum = df.pivot_table(index='first_month', \n",
    "                                columns='lifetime', \n",
    "                                values='revenue', \n",
    "                                aggfunc='sum').cumsum(axis=1)"
   ]
  },
  {
   "cell_type": "code",
   "execution_count": 27,
   "id": "5600bc22",
   "metadata": {},
   "outputs": [
    {
     "data": {
      "text/html": [
       "<div>\n",
       "<style scoped>\n",
       "    .dataframe tbody tr th:only-of-type {\n",
       "        vertical-align: middle;\n",
       "    }\n",
       "\n",
       "    .dataframe tbody tr th {\n",
       "        vertical-align: top;\n",
       "    }\n",
       "\n",
       "    .dataframe thead th {\n",
       "        text-align: right;\n",
       "    }\n",
       "</style>\n",
       "<table border=\"1\" class=\"dataframe\">\n",
       "  <thead>\n",
       "    <tr style=\"text-align: right;\">\n",
       "      <th>lifetime</th>\n",
       "      <th>0</th>\n",
       "      <th>1</th>\n",
       "      <th>2</th>\n",
       "      <th>3</th>\n",
       "      <th>4</th>\n",
       "      <th>5</th>\n",
       "      <th>6</th>\n",
       "      <th>7</th>\n",
       "      <th>8</th>\n",
       "      <th>9</th>\n",
       "      <th>10</th>\n",
       "      <th>11</th>\n",
       "    </tr>\n",
       "    <tr>\n",
       "      <th>first_month</th>\n",
       "      <th></th>\n",
       "      <th></th>\n",
       "      <th></th>\n",
       "      <th></th>\n",
       "      <th></th>\n",
       "      <th></th>\n",
       "      <th></th>\n",
       "      <th></th>\n",
       "      <th></th>\n",
       "      <th></th>\n",
       "      <th></th>\n",
       "      <th></th>\n",
       "    </tr>\n",
       "  </thead>\n",
       "  <tbody>\n",
       "    <tr>\n",
       "      <th>2010-12-01</th>\n",
       "      <td>619622.940</td>\n",
       "      <td>888597.550</td>\n",
       "      <td>1134658.250</td>\n",
       "      <td>1448365.500</td>\n",
       "      <td>1655438.670</td>\n",
       "      <td>1990690.650</td>\n",
       "      <td>2297738.860</td>\n",
       "      <td>2645850.270</td>\n",
       "      <td>2973189.600</td>\n",
       "      <td>3477751.460</td>\n",
       "      <td>3927906.310</td>\n",
       "      <td>4316648.55</td>\n",
       "    </tr>\n",
       "    <tr>\n",
       "      <th>2011-01-01</th>\n",
       "      <td>310018.870</td>\n",
       "      <td>384641.280</td>\n",
       "      <td>443597.770</td>\n",
       "      <td>524418.280</td>\n",
       "      <td>601353.120</td>\n",
       "      <td>687899.660</td>\n",
       "      <td>747319.170</td>\n",
       "      <td>832292.721</td>\n",
       "      <td>940580.901</td>\n",
       "      <td>1038024.401</td>\n",
       "      <td>1096568.951</td>\n",
       "      <td>NaN</td>\n",
       "    </tr>\n",
       "    <tr>\n",
       "      <th>2011-02-01</th>\n",
       "      <td>168063.260</td>\n",
       "      <td>209058.020</td>\n",
       "      <td>254591.870</td>\n",
       "      <td>298853.680</td>\n",
       "      <td>330509.820</td>\n",
       "      <td>376271.560</td>\n",
       "      <td>429091.070</td>\n",
       "      <td>484437.600</td>\n",
       "      <td>552470.100</td>\n",
       "      <td>581899.640</td>\n",
       "      <td>NaN</td>\n",
       "      <td>NaN</td>\n",
       "    </tr>\n",
       "    <tr>\n",
       "      <th>2011-03-01</th>\n",
       "      <td>216194.810</td>\n",
       "      <td>251841.670</td>\n",
       "      <td>307444.910</td>\n",
       "      <td>351375.340</td>\n",
       "      <td>399713.920</td>\n",
       "      <td>448838.040</td>\n",
       "      <td>510585.540</td>\n",
       "      <td>587068.670</td>\n",
       "      <td>628797.980</td>\n",
       "      <td>628907.660</td>\n",
       "      <td>NaN</td>\n",
       "      <td>NaN</td>\n",
       "    </tr>\n",
       "    <tr>\n",
       "      <th>2011-04-01</th>\n",
       "      <td>130608.241</td>\n",
       "      <td>162063.641</td>\n",
       "      <td>185619.891</td>\n",
       "      <td>210366.811</td>\n",
       "      <td>233573.621</td>\n",
       "      <td>263121.651</td>\n",
       "      <td>298411.991</td>\n",
       "      <td>319390.911</td>\n",
       "      <td>NaN</td>\n",
       "      <td>NaN</td>\n",
       "      <td>NaN</td>\n",
       "      <td>NaN</td>\n",
       "    </tr>\n",
       "    <tr>\n",
       "      <th>2011-05-01</th>\n",
       "      <td>130949.800</td>\n",
       "      <td>151518.080</td>\n",
       "      <td>171797.830</td>\n",
       "      <td>192591.790</td>\n",
       "      <td>226591.680</td>\n",
       "      <td>250879.030</td>\n",
       "      <td>275495.200</td>\n",
       "      <td>NaN</td>\n",
       "      <td>NaN</td>\n",
       "      <td>NaN</td>\n",
       "      <td>NaN</td>\n",
       "      <td>NaN</td>\n",
       "    </tr>\n",
       "    <tr>\n",
       "      <th>2011-06-01</th>\n",
       "      <td>142832.880</td>\n",
       "      <td>156760.400</td>\n",
       "      <td>173269.450</td>\n",
       "      <td>203925.240</td>\n",
       "      <td>235717.570</td>\n",
       "      <td>264357.210</td>\n",
       "      <td>NaN</td>\n",
       "      <td>NaN</td>\n",
       "      <td>NaN</td>\n",
       "      <td>NaN</td>\n",
       "      <td>NaN</td>\n",
       "      <td>NaN</td>\n",
       "    </tr>\n",
       "    <tr>\n",
       "      <th>2011-07-01</th>\n",
       "      <td>81185.721</td>\n",
       "      <td>93441.061</td>\n",
       "      <td>110842.441</td>\n",
       "      <td>127150.011</td>\n",
       "      <td>137687.191</td>\n",
       "      <td>NaN</td>\n",
       "      <td>NaN</td>\n",
       "      <td>NaN</td>\n",
       "      <td>NaN</td>\n",
       "      <td>NaN</td>\n",
       "      <td>NaN</td>\n",
       "      <td>NaN</td>\n",
       "    </tr>\n",
       "    <tr>\n",
       "      <th>2011-08-01</th>\n",
       "      <td>91958.580</td>\n",
       "      <td>120834.100</td>\n",
       "      <td>175621.160</td>\n",
       "      <td>180481.030</td>\n",
       "      <td>NaN</td>\n",
       "      <td>NaN</td>\n",
       "      <td>NaN</td>\n",
       "      <td>NaN</td>\n",
       "      <td>NaN</td>\n",
       "      <td>NaN</td>\n",
       "      <td>NaN</td>\n",
       "      <td>NaN</td>\n",
       "    </tr>\n",
       "    <tr>\n",
       "      <th>2011-09-01</th>\n",
       "      <td>169219.701</td>\n",
       "      <td>203635.531</td>\n",
       "      <td>220334.191</td>\n",
       "      <td>NaN</td>\n",
       "      <td>NaN</td>\n",
       "      <td>NaN</td>\n",
       "      <td>NaN</td>\n",
       "      <td>NaN</td>\n",
       "      <td>NaN</td>\n",
       "      <td>NaN</td>\n",
       "      <td>NaN</td>\n",
       "      <td>NaN</td>\n",
       "    </tr>\n",
       "    <tr>\n",
       "      <th>2011-10-01</th>\n",
       "      <td>194265.040</td>\n",
       "      <td>213116.590</td>\n",
       "      <td>NaN</td>\n",
       "      <td>NaN</td>\n",
       "      <td>NaN</td>\n",
       "      <td>NaN</td>\n",
       "      <td>NaN</td>\n",
       "      <td>NaN</td>\n",
       "      <td>NaN</td>\n",
       "      <td>NaN</td>\n",
       "      <td>NaN</td>\n",
       "      <td>NaN</td>\n",
       "    </tr>\n",
       "    <tr>\n",
       "      <th>2011-11-01</th>\n",
       "      <td>135131.330</td>\n",
       "      <td>NaN</td>\n",
       "      <td>NaN</td>\n",
       "      <td>NaN</td>\n",
       "      <td>NaN</td>\n",
       "      <td>NaN</td>\n",
       "      <td>NaN</td>\n",
       "      <td>NaN</td>\n",
       "      <td>NaN</td>\n",
       "      <td>NaN</td>\n",
       "      <td>NaN</td>\n",
       "      <td>NaN</td>\n",
       "    </tr>\n",
       "  </tbody>\n",
       "</table>\n",
       "</div>"
      ],
      "text/plain": [
       "lifetime             0           1            2            3            4   \\\n",
       "first_month                                                                  \n",
       "2010-12-01   619622.940  888597.550  1134658.250  1448365.500  1655438.670   \n",
       "2011-01-01   310018.870  384641.280   443597.770   524418.280   601353.120   \n",
       "2011-02-01   168063.260  209058.020   254591.870   298853.680   330509.820   \n",
       "2011-03-01   216194.810  251841.670   307444.910   351375.340   399713.920   \n",
       "2011-04-01   130608.241  162063.641   185619.891   210366.811   233573.621   \n",
       "2011-05-01   130949.800  151518.080   171797.830   192591.790   226591.680   \n",
       "2011-06-01   142832.880  156760.400   173269.450   203925.240   235717.570   \n",
       "2011-07-01    81185.721   93441.061   110842.441   127150.011   137687.191   \n",
       "2011-08-01    91958.580  120834.100   175621.160   180481.030          NaN   \n",
       "2011-09-01   169219.701  203635.531   220334.191          NaN          NaN   \n",
       "2011-10-01   194265.040  213116.590          NaN          NaN          NaN   \n",
       "2011-11-01   135131.330         NaN          NaN          NaN          NaN   \n",
       "\n",
       "lifetime              5            6            7            8            9   \\\n",
       "first_month                                                                    \n",
       "2010-12-01   1990690.650  2297738.860  2645850.270  2973189.600  3477751.460   \n",
       "2011-01-01    687899.660   747319.170   832292.721   940580.901  1038024.401   \n",
       "2011-02-01    376271.560   429091.070   484437.600   552470.100   581899.640   \n",
       "2011-03-01    448838.040   510585.540   587068.670   628797.980   628907.660   \n",
       "2011-04-01    263121.651   298411.991   319390.911          NaN          NaN   \n",
       "2011-05-01    250879.030   275495.200          NaN          NaN          NaN   \n",
       "2011-06-01    264357.210          NaN          NaN          NaN          NaN   \n",
       "2011-07-01           NaN          NaN          NaN          NaN          NaN   \n",
       "2011-08-01           NaN          NaN          NaN          NaN          NaN   \n",
       "2011-09-01           NaN          NaN          NaN          NaN          NaN   \n",
       "2011-10-01           NaN          NaN          NaN          NaN          NaN   \n",
       "2011-11-01           NaN          NaN          NaN          NaN          NaN   \n",
       "\n",
       "lifetime              10          11  \n",
       "first_month                           \n",
       "2010-12-01   3927906.310  4316648.55  \n",
       "2011-01-01   1096568.951         NaN  \n",
       "2011-02-01           NaN         NaN  \n",
       "2011-03-01           NaN         NaN  \n",
       "2011-04-01           NaN         NaN  \n",
       "2011-05-01           NaN         NaN  \n",
       "2011-06-01           NaN         NaN  \n",
       "2011-07-01           NaN         NaN  \n",
       "2011-08-01           NaN         NaN  \n",
       "2011-09-01           NaN         NaN  \n",
       "2011-10-01           NaN         NaN  \n",
       "2011-11-01           NaN         NaN  "
      ]
     },
     "execution_count": 27,
     "metadata": {},
     "output_type": "execute_result"
    }
   ],
   "source": [
    "revenue_cumsum"
   ]
  },
  {
   "cell_type": "markdown",
   "id": "1b0afa8f",
   "metadata": {},
   "source": [
    "Установим горизонт анализа в 6 месяцев"
   ]
  },
  {
   "cell_type": "code",
   "execution_count": 28,
   "id": "d2588806",
   "metadata": {},
   "outputs": [],
   "source": [
    "revenue_cumsum6_month = revenue_cumsum.loc[:'2011-05-01', :6]"
   ]
  },
  {
   "cell_type": "code",
   "execution_count": 29,
   "id": "0e9c7891",
   "metadata": {},
   "outputs": [
    {
     "data": {
      "text/html": [
       "<div>\n",
       "<style scoped>\n",
       "    .dataframe tbody tr th:only-of-type {\n",
       "        vertical-align: middle;\n",
       "    }\n",
       "\n",
       "    .dataframe tbody tr th {\n",
       "        vertical-align: top;\n",
       "    }\n",
       "\n",
       "    .dataframe thead th {\n",
       "        text-align: right;\n",
       "    }\n",
       "</style>\n",
       "<table border=\"1\" class=\"dataframe\">\n",
       "  <thead>\n",
       "    <tr style=\"text-align: right;\">\n",
       "      <th>lifetime</th>\n",
       "      <th>0</th>\n",
       "      <th>1</th>\n",
       "      <th>2</th>\n",
       "      <th>3</th>\n",
       "      <th>4</th>\n",
       "      <th>5</th>\n",
       "      <th>6</th>\n",
       "    </tr>\n",
       "    <tr>\n",
       "      <th>first_month</th>\n",
       "      <th></th>\n",
       "      <th></th>\n",
       "      <th></th>\n",
       "      <th></th>\n",
       "      <th></th>\n",
       "      <th></th>\n",
       "      <th></th>\n",
       "    </tr>\n",
       "  </thead>\n",
       "  <tbody>\n",
       "    <tr>\n",
       "      <th>2010-12-01</th>\n",
       "      <td>619622.940</td>\n",
       "      <td>888597.550</td>\n",
       "      <td>1134658.250</td>\n",
       "      <td>1448365.500</td>\n",
       "      <td>1655438.670</td>\n",
       "      <td>1990690.650</td>\n",
       "      <td>2297738.860</td>\n",
       "    </tr>\n",
       "    <tr>\n",
       "      <th>2011-01-01</th>\n",
       "      <td>310018.870</td>\n",
       "      <td>384641.280</td>\n",
       "      <td>443597.770</td>\n",
       "      <td>524418.280</td>\n",
       "      <td>601353.120</td>\n",
       "      <td>687899.660</td>\n",
       "      <td>747319.170</td>\n",
       "    </tr>\n",
       "    <tr>\n",
       "      <th>2011-02-01</th>\n",
       "      <td>168063.260</td>\n",
       "      <td>209058.020</td>\n",
       "      <td>254591.870</td>\n",
       "      <td>298853.680</td>\n",
       "      <td>330509.820</td>\n",
       "      <td>376271.560</td>\n",
       "      <td>429091.070</td>\n",
       "    </tr>\n",
       "    <tr>\n",
       "      <th>2011-03-01</th>\n",
       "      <td>216194.810</td>\n",
       "      <td>251841.670</td>\n",
       "      <td>307444.910</td>\n",
       "      <td>351375.340</td>\n",
       "      <td>399713.920</td>\n",
       "      <td>448838.040</td>\n",
       "      <td>510585.540</td>\n",
       "    </tr>\n",
       "    <tr>\n",
       "      <th>2011-04-01</th>\n",
       "      <td>130608.241</td>\n",
       "      <td>162063.641</td>\n",
       "      <td>185619.891</td>\n",
       "      <td>210366.811</td>\n",
       "      <td>233573.621</td>\n",
       "      <td>263121.651</td>\n",
       "      <td>298411.991</td>\n",
       "    </tr>\n",
       "    <tr>\n",
       "      <th>2011-05-01</th>\n",
       "      <td>130949.800</td>\n",
       "      <td>151518.080</td>\n",
       "      <td>171797.830</td>\n",
       "      <td>192591.790</td>\n",
       "      <td>226591.680</td>\n",
       "      <td>250879.030</td>\n",
       "      <td>275495.200</td>\n",
       "    </tr>\n",
       "  </tbody>\n",
       "</table>\n",
       "</div>"
      ],
      "text/plain": [
       "lifetime              0           1            2            3            4  \\\n",
       "first_month                                                                  \n",
       "2010-12-01   619622.940  888597.550  1134658.250  1448365.500  1655438.670   \n",
       "2011-01-01   310018.870  384641.280   443597.770   524418.280   601353.120   \n",
       "2011-02-01   168063.260  209058.020   254591.870   298853.680   330509.820   \n",
       "2011-03-01   216194.810  251841.670   307444.910   351375.340   399713.920   \n",
       "2011-04-01   130608.241  162063.641   185619.891   210366.811   233573.621   \n",
       "2011-05-01   130949.800  151518.080   171797.830   192591.790   226591.680   \n",
       "\n",
       "lifetime               5            6  \n",
       "first_month                            \n",
       "2010-12-01   1990690.650  2297738.860  \n",
       "2011-01-01    687899.660   747319.170  \n",
       "2011-02-01    376271.560   429091.070  \n",
       "2011-03-01    448838.040   510585.540  \n",
       "2011-04-01    263121.651   298411.991  \n",
       "2011-05-01    250879.030   275495.200  "
      ]
     },
     "execution_count": 29,
     "metadata": {},
     "output_type": "execute_result"
    }
   ],
   "source": [
    "revenue_cumsum6_month"
   ]
  },
  {
   "cell_type": "markdown",
   "id": "841249ba",
   "metadata": {},
   "source": [
    "Для получения значений CLV по формуле, разделим значения каждой колонки на размеры когорт"
   ]
  },
  {
   "cell_type": "code",
   "execution_count": 30,
   "id": "cd655378",
   "metadata": {},
   "outputs": [],
   "source": [
    "ltv6_month = revenue_cumsum6_month.div(cohort_sizes[:6], axis=0)"
   ]
  },
  {
   "cell_type": "code",
   "execution_count": 31,
   "id": "d8b56324",
   "metadata": {},
   "outputs": [
    {
     "data": {
      "text/html": [
       "<div>\n",
       "<style scoped>\n",
       "    .dataframe tbody tr th:only-of-type {\n",
       "        vertical-align: middle;\n",
       "    }\n",
       "\n",
       "    .dataframe tbody tr th {\n",
       "        vertical-align: top;\n",
       "    }\n",
       "\n",
       "    .dataframe thead th {\n",
       "        text-align: right;\n",
       "    }\n",
       "</style>\n",
       "<table border=\"1\" class=\"dataframe\">\n",
       "  <thead>\n",
       "    <tr style=\"text-align: right;\">\n",
       "      <th>lifetime</th>\n",
       "      <th>0</th>\n",
       "      <th>1</th>\n",
       "      <th>2</th>\n",
       "      <th>3</th>\n",
       "      <th>4</th>\n",
       "      <th>5</th>\n",
       "      <th>6</th>\n",
       "    </tr>\n",
       "    <tr>\n",
       "      <th>first_month</th>\n",
       "      <th></th>\n",
       "      <th></th>\n",
       "      <th></th>\n",
       "      <th></th>\n",
       "      <th></th>\n",
       "      <th></th>\n",
       "      <th></th>\n",
       "    </tr>\n",
       "  </thead>\n",
       "  <tbody>\n",
       "    <tr>\n",
       "      <th>2010-12-01</th>\n",
       "      <td>700.138915</td>\n",
       "      <td>1004.065028</td>\n",
       "      <td>1282.099718</td>\n",
       "      <td>1636.571186</td>\n",
       "      <td>1870.552169</td>\n",
       "      <td>2249.367966</td>\n",
       "      <td>2596.315096</td>\n",
       "    </tr>\n",
       "    <tr>\n",
       "      <th>2011-01-01</th>\n",
       "      <td>743.450528</td>\n",
       "      <td>922.401151</td>\n",
       "      <td>1063.783621</td>\n",
       "      <td>1257.597794</td>\n",
       "      <td>1442.093813</td>\n",
       "      <td>1649.639472</td>\n",
       "      <td>1792.132302</td>\n",
       "    </tr>\n",
       "    <tr>\n",
       "      <th>2011-02-01</th>\n",
       "      <td>442.271737</td>\n",
       "      <td>550.152684</td>\n",
       "      <td>669.978605</td>\n",
       "      <td>786.457053</td>\n",
       "      <td>869.762684</td>\n",
       "      <td>990.188316</td>\n",
       "      <td>1129.187026</td>\n",
       "    </tr>\n",
       "    <tr>\n",
       "      <th>2011-03-01</th>\n",
       "      <td>478.307102</td>\n",
       "      <td>557.171836</td>\n",
       "      <td>680.187854</td>\n",
       "      <td>777.379071</td>\n",
       "      <td>884.322832</td>\n",
       "      <td>993.004513</td>\n",
       "      <td>1129.614027</td>\n",
       "    </tr>\n",
       "    <tr>\n",
       "      <th>2011-04-01</th>\n",
       "      <td>435.360803</td>\n",
       "      <td>540.212137</td>\n",
       "      <td>618.732970</td>\n",
       "      <td>701.222703</td>\n",
       "      <td>778.578737</td>\n",
       "      <td>877.072170</td>\n",
       "      <td>994.706637</td>\n",
       "    </tr>\n",
       "    <tr>\n",
       "      <th>2011-05-01</th>\n",
       "      <td>461.090845</td>\n",
       "      <td>533.514366</td>\n",
       "      <td>604.921937</td>\n",
       "      <td>678.140106</td>\n",
       "      <td>797.858028</td>\n",
       "      <td>883.376866</td>\n",
       "      <td>970.053521</td>\n",
       "    </tr>\n",
       "  </tbody>\n",
       "</table>\n",
       "</div>"
      ],
      "text/plain": [
       "lifetime              0            1            2            3            4  \\\n",
       "first_month                                                                   \n",
       "2010-12-01   700.138915  1004.065028  1282.099718  1636.571186  1870.552169   \n",
       "2011-01-01   743.450528   922.401151  1063.783621  1257.597794  1442.093813   \n",
       "2011-02-01   442.271737   550.152684   669.978605   786.457053   869.762684   \n",
       "2011-03-01   478.307102   557.171836   680.187854   777.379071   884.322832   \n",
       "2011-04-01   435.360803   540.212137   618.732970   701.222703   778.578737   \n",
       "2011-05-01   461.090845   533.514366   604.921937   678.140106   797.858028   \n",
       "\n",
       "lifetime               5            6  \n",
       "first_month                            \n",
       "2010-12-01   2249.367966  2596.315096  \n",
       "2011-01-01   1649.639472  1792.132302  \n",
       "2011-02-01    990.188316  1129.187026  \n",
       "2011-03-01    993.004513  1129.614027  \n",
       "2011-04-01    877.072170   994.706637  \n",
       "2011-05-01    883.376866   970.053521  "
      ]
     },
     "execution_count": 31,
     "metadata": {},
     "output_type": "execute_result"
    }
   ],
   "source": [
    "ltv6_month"
   ]
  },
  {
   "cell_type": "code",
   "execution_count": 32,
   "id": "6bb526ac",
   "metadata": {},
   "outputs": [
    {
     "data": {
      "image/png": "[encoded data removed]",
      "text/plain": [
       "<Figure size 576x360 with 1 Axes>"
      ]
     },
     "metadata": {
      "needs_background": "light"
     },
     "output_type": "display_data"
    }
   ],
   "source": [
    "ltv6_month.T.plot(figsize=(8,5))\n",
    "plt.title('CLV по когортам')\n",
    "plt.xlabel('Месяцев с первой покупки (Лайфтайм)')\n",
    "plt.ylabel('CLV')\n",
    "plt.legend(title='Когорты')\n",
    "plt.show()"
   ]
  },
  {
   "cell_type": "markdown",
   "id": "e0e42b41",
   "metadata": {},
   "source": [
    "Также рассчитаем общий CLV (без когорт)"
   ]
  },
  {
   "cell_type": "code",
   "execution_count": 33,
   "id": "368c5c41",
   "metadata": {},
   "outputs": [],
   "source": [
    "common_clv = (df.groupby('lifetime')\n",
    "                .agg(clv=('revenue', 'sum'))\n",
    "                .cumsum() / len(df['customer_id'].unique()))"
   ]
  },
  {
   "cell_type": "code",
   "execution_count": 34,
   "id": "61cd9e4f",
   "metadata": {},
   "outputs": [
    {
     "data": {
      "text/html": [
       "<div>\n",
       "<style scoped>\n",
       "    .dataframe tbody tr th:only-of-type {\n",
       "        vertical-align: middle;\n",
       "    }\n",
       "\n",
       "    .dataframe tbody tr th {\n",
       "        vertical-align: top;\n",
       "    }\n",
       "\n",
       "    .dataframe thead th {\n",
       "        text-align: right;\n",
       "    }\n",
       "</style>\n",
       "<table border=\"1\" class=\"dataframe\">\n",
       "  <thead>\n",
       "    <tr style=\"text-align: right;\">\n",
       "      <th>lifetime</th>\n",
       "      <th>0</th>\n",
       "      <th>1</th>\n",
       "      <th>2</th>\n",
       "      <th>3</th>\n",
       "      <th>4</th>\n",
       "      <th>5</th>\n",
       "      <th>6</th>\n",
       "      <th>7</th>\n",
       "      <th>8</th>\n",
       "      <th>9</th>\n",
       "      <th>10</th>\n",
       "      <th>11</th>\n",
       "    </tr>\n",
       "  </thead>\n",
       "  <tbody>\n",
       "    <tr>\n",
       "      <th>clv</th>\n",
       "      <td>556.21391</td>\n",
       "      <td>691.32866</td>\n",
       "      <td>820.578469</td>\n",
       "      <td>955.575935</td>\n",
       "      <td>1063.45095</td>\n",
       "      <td>1202.887627</td>\n",
       "      <td>1328.775744</td>\n",
       "      <td>1465.125184</td>\n",
       "      <td>1592.04846</td>\n",
       "      <td>1739.021832</td>\n",
       "      <td>1857.406613</td>\n",
       "      <td>1947.874902</td>\n",
       "    </tr>\n",
       "  </tbody>\n",
       "</table>\n",
       "</div>"
      ],
      "text/plain": [
       "lifetime         0          1           2           3           4   \\\n",
       "clv       556.21391  691.32866  820.578469  955.575935  1063.45095   \n",
       "\n",
       "lifetime           5            6            7           8            9   \\\n",
       "clv       1202.887627  1328.775744  1465.125184  1592.04846  1739.021832   \n",
       "\n",
       "lifetime           10           11  \n",
       "clv       1857.406613  1947.874902  "
      ]
     },
     "execution_count": 34,
     "metadata": {},
     "output_type": "execute_result"
    }
   ],
   "source": [
    "common_clv.T"
   ]
  },
  {
   "cell_type": "code",
   "execution_count": 35,
   "id": "a732e20a",
   "metadata": {},
   "outputs": [
    {
     "data": {
      "image/png": "[encoded data removed]",
      "text/plain": [
       "<Figure size 576x360 with 1 Axes>"
      ]
     },
     "metadata": {
      "needs_background": "light"
     },
     "output_type": "display_data"
    }
   ],
   "source": [
    "common_clv.plot(figsize=(8,5))\n",
    "plt.title('CLV')\n",
    "plt.xlabel('Месяцев с первой покупки (Лайфтайм)')\n",
    "plt.ylabel('CLV')\n",
    "plt.show()"
   ]
  },
  {
   "cell_type": "markdown",
   "id": "536fcf77",
   "metadata": {},
   "source": [
    "Видим сильную линейную связь"
   ]
  },
  {
   "cell_type": "markdown",
   "id": "73fd5751",
   "metadata": {},
   "source": [
    "### Расчет CLV с помощью валовой прибыли"
   ]
  },
  {
   "cell_type": "markdown",
   "id": "7bddc8d5",
   "metadata": {},
   "source": [
    "$\\displaystyle \\Large CLV = \\frac{gross\\ profit}{total\\ customers}$"
   ]
  },
  {
   "cell_type": "markdown",
   "id": "3450710c",
   "metadata": {},
   "source": [
    "Многие источники утверждают, что расчет CLV с помощью валовой прибыли это самое лучшее решение. В нашем случае мы имеем данные продаж в сфере e-commerce, в финансовых отчетах компаний из данного сектора (взяли данные финансовой отчетности двух Российских маркетплейсов Вайлдбериз и ОЗОН) можно обнаружить, что доля валовой прибыли от общей выручки в среднем 26-30%, то есть реальная ценность клиента будет составлять эти 26-30% от ценности клиента на предыдущем шаге"
   ]
  },
  {
   "cell_type": "markdown",
   "id": "953a4261",
   "metadata": {},
   "source": [
    "https://e-ecolog.ru/buh/2017/7721546864 Финансовая отчетность Вайлдбериз по годам  \n",
    "https://www.audit-it.ru/buh_otchet/7704217370_ooo-internet-resheniya Финансовая отчетность ОЗОН по годам  "
   ]
  },
  {
   "cell_type": "markdown",
   "id": "1c99d5e8",
   "metadata": {},
   "source": [
    "Для расчета CLV с помощью валовой прибыли, воспользуемся таблицей кумулятивной выручки из предыдущего шага и возьмем 30% от каждого значения"
   ]
  },
  {
   "cell_type": "code",
   "execution_count": 36,
   "id": "8efd1d24",
   "metadata": {},
   "outputs": [],
   "source": [
    "gross_profit_cumsum6_month = revenue_cumsum6_month * 0.3"
   ]
  },
  {
   "cell_type": "code",
   "execution_count": 37,
   "id": "660f8301",
   "metadata": {},
   "outputs": [
    {
     "data": {
      "text/html": [
       "<div>\n",
       "<style scoped>\n",
       "    .dataframe tbody tr th:only-of-type {\n",
       "        vertical-align: middle;\n",
       "    }\n",
       "\n",
       "    .dataframe tbody tr th {\n",
       "        vertical-align: top;\n",
       "    }\n",
       "\n",
       "    .dataframe thead th {\n",
       "        text-align: right;\n",
       "    }\n",
       "</style>\n",
       "<table border=\"1\" class=\"dataframe\">\n",
       "  <thead>\n",
       "    <tr style=\"text-align: right;\">\n",
       "      <th>lifetime</th>\n",
       "      <th>0</th>\n",
       "      <th>1</th>\n",
       "      <th>2</th>\n",
       "      <th>3</th>\n",
       "      <th>4</th>\n",
       "      <th>5</th>\n",
       "      <th>6</th>\n",
       "    </tr>\n",
       "    <tr>\n",
       "      <th>first_month</th>\n",
       "      <th></th>\n",
       "      <th></th>\n",
       "      <th></th>\n",
       "      <th></th>\n",
       "      <th></th>\n",
       "      <th></th>\n",
       "      <th></th>\n",
       "    </tr>\n",
       "  </thead>\n",
       "  <tbody>\n",
       "    <tr>\n",
       "      <th>2010-12-01</th>\n",
       "      <td>185886.8820</td>\n",
       "      <td>266579.2650</td>\n",
       "      <td>340397.4750</td>\n",
       "      <td>434509.6500</td>\n",
       "      <td>496631.6010</td>\n",
       "      <td>597207.1950</td>\n",
       "      <td>689321.6580</td>\n",
       "    </tr>\n",
       "    <tr>\n",
       "      <th>2011-01-01</th>\n",
       "      <td>93005.6610</td>\n",
       "      <td>115392.3840</td>\n",
       "      <td>133079.3310</td>\n",
       "      <td>157325.4840</td>\n",
       "      <td>180405.9360</td>\n",
       "      <td>206369.8980</td>\n",
       "      <td>224195.7510</td>\n",
       "    </tr>\n",
       "    <tr>\n",
       "      <th>2011-02-01</th>\n",
       "      <td>50418.9780</td>\n",
       "      <td>62717.4060</td>\n",
       "      <td>76377.5610</td>\n",
       "      <td>89656.1040</td>\n",
       "      <td>99152.9460</td>\n",
       "      <td>112881.4680</td>\n",
       "      <td>128727.3210</td>\n",
       "    </tr>\n",
       "    <tr>\n",
       "      <th>2011-03-01</th>\n",
       "      <td>64858.4430</td>\n",
       "      <td>75552.5010</td>\n",
       "      <td>92233.4730</td>\n",
       "      <td>105412.6020</td>\n",
       "      <td>119914.1760</td>\n",
       "      <td>134651.4120</td>\n",
       "      <td>153175.6620</td>\n",
       "    </tr>\n",
       "    <tr>\n",
       "      <th>2011-04-01</th>\n",
       "      <td>39182.4723</td>\n",
       "      <td>48619.0923</td>\n",
       "      <td>55685.9673</td>\n",
       "      <td>63110.0433</td>\n",
       "      <td>70072.0863</td>\n",
       "      <td>78936.4953</td>\n",
       "      <td>89523.5973</td>\n",
       "    </tr>\n",
       "    <tr>\n",
       "      <th>2011-05-01</th>\n",
       "      <td>39284.9400</td>\n",
       "      <td>45455.4240</td>\n",
       "      <td>51539.3490</td>\n",
       "      <td>57777.5370</td>\n",
       "      <td>67977.5040</td>\n",
       "      <td>75263.7090</td>\n",
       "      <td>82648.5600</td>\n",
       "    </tr>\n",
       "  </tbody>\n",
       "</table>\n",
       "</div>"
      ],
      "text/plain": [
       "lifetime               0            1            2            3            4  \\\n",
       "first_month                                                                    \n",
       "2010-12-01   185886.8820  266579.2650  340397.4750  434509.6500  496631.6010   \n",
       "2011-01-01    93005.6610  115392.3840  133079.3310  157325.4840  180405.9360   \n",
       "2011-02-01    50418.9780   62717.4060   76377.5610   89656.1040   99152.9460   \n",
       "2011-03-01    64858.4430   75552.5010   92233.4730  105412.6020  119914.1760   \n",
       "2011-04-01    39182.4723   48619.0923   55685.9673   63110.0433   70072.0863   \n",
       "2011-05-01    39284.9400   45455.4240   51539.3490   57777.5370   67977.5040   \n",
       "\n",
       "lifetime               5            6  \n",
       "first_month                            \n",
       "2010-12-01   597207.1950  689321.6580  \n",
       "2011-01-01   206369.8980  224195.7510  \n",
       "2011-02-01   112881.4680  128727.3210  \n",
       "2011-03-01   134651.4120  153175.6620  \n",
       "2011-04-01    78936.4953   89523.5973  \n",
       "2011-05-01    75263.7090   82648.5600  "
      ]
     },
     "execution_count": 37,
     "metadata": {},
     "output_type": "execute_result"
    }
   ],
   "source": [
    "gross_profit_cumsum6_month"
   ]
  },
  {
   "cell_type": "markdown",
   "id": "a728f364",
   "metadata": {},
   "source": [
    "Теперь поделим значения на размеры когорт"
   ]
  },
  {
   "cell_type": "code",
   "execution_count": 38,
   "id": "5147609d",
   "metadata": {},
   "outputs": [
    {
     "data": {
      "text/html": [
       "<div>\n",
       "<style scoped>\n",
       "    .dataframe tbody tr th:only-of-type {\n",
       "        vertical-align: middle;\n",
       "    }\n",
       "\n",
       "    .dataframe tbody tr th {\n",
       "        vertical-align: top;\n",
       "    }\n",
       "\n",
       "    .dataframe thead th {\n",
       "        text-align: right;\n",
       "    }\n",
       "</style>\n",
       "<table border=\"1\" class=\"dataframe\">\n",
       "  <thead>\n",
       "    <tr style=\"text-align: right;\">\n",
       "      <th>lifetime</th>\n",
       "      <th>0</th>\n",
       "      <th>1</th>\n",
       "      <th>2</th>\n",
       "      <th>3</th>\n",
       "      <th>4</th>\n",
       "      <th>5</th>\n",
       "      <th>6</th>\n",
       "    </tr>\n",
       "    <tr>\n",
       "      <th>first_month</th>\n",
       "      <th></th>\n",
       "      <th></th>\n",
       "      <th></th>\n",
       "      <th></th>\n",
       "      <th></th>\n",
       "      <th></th>\n",
       "      <th></th>\n",
       "    </tr>\n",
       "  </thead>\n",
       "  <tbody>\n",
       "    <tr>\n",
       "      <th>2010-12-01</th>\n",
       "      <td>210.041675</td>\n",
       "      <td>301.219508</td>\n",
       "      <td>384.629915</td>\n",
       "      <td>490.971356</td>\n",
       "      <td>561.165651</td>\n",
       "      <td>674.810390</td>\n",
       "      <td>778.894529</td>\n",
       "    </tr>\n",
       "    <tr>\n",
       "      <th>2011-01-01</th>\n",
       "      <td>223.035158</td>\n",
       "      <td>276.720345</td>\n",
       "      <td>319.135086</td>\n",
       "      <td>377.279338</td>\n",
       "      <td>432.628144</td>\n",
       "      <td>494.891842</td>\n",
       "      <td>537.639691</td>\n",
       "    </tr>\n",
       "    <tr>\n",
       "      <th>2011-02-01</th>\n",
       "      <td>132.681521</td>\n",
       "      <td>165.045805</td>\n",
       "      <td>200.993582</td>\n",
       "      <td>235.937116</td>\n",
       "      <td>260.928805</td>\n",
       "      <td>297.056495</td>\n",
       "      <td>338.756108</td>\n",
       "    </tr>\n",
       "    <tr>\n",
       "      <th>2011-03-01</th>\n",
       "      <td>143.492131</td>\n",
       "      <td>167.151551</td>\n",
       "      <td>204.056356</td>\n",
       "      <td>233.213721</td>\n",
       "      <td>265.296850</td>\n",
       "      <td>297.901354</td>\n",
       "      <td>338.884208</td>\n",
       "    </tr>\n",
       "    <tr>\n",
       "      <th>2011-04-01</th>\n",
       "      <td>130.608241</td>\n",
       "      <td>162.063641</td>\n",
       "      <td>185.619891</td>\n",
       "      <td>210.366811</td>\n",
       "      <td>233.573621</td>\n",
       "      <td>263.121651</td>\n",
       "      <td>298.411991</td>\n",
       "    </tr>\n",
       "    <tr>\n",
       "      <th>2011-05-01</th>\n",
       "      <td>138.327254</td>\n",
       "      <td>160.054310</td>\n",
       "      <td>181.476581</td>\n",
       "      <td>203.442032</td>\n",
       "      <td>239.357408</td>\n",
       "      <td>265.013060</td>\n",
       "      <td>291.016056</td>\n",
       "    </tr>\n",
       "  </tbody>\n",
       "</table>\n",
       "</div>"
      ],
      "text/plain": [
       "lifetime              0           1           2           3           4  \\\n",
       "first_month                                                               \n",
       "2010-12-01   210.041675  301.219508  384.629915  490.971356  561.165651   \n",
       "2011-01-01   223.035158  276.720345  319.135086  377.279338  432.628144   \n",
       "2011-02-01   132.681521  165.045805  200.993582  235.937116  260.928805   \n",
       "2011-03-01   143.492131  167.151551  204.056356  233.213721  265.296850   \n",
       "2011-04-01   130.608241  162.063641  185.619891  210.366811  233.573621   \n",
       "2011-05-01   138.327254  160.054310  181.476581  203.442032  239.357408   \n",
       "\n",
       "lifetime              5           6  \n",
       "first_month                          \n",
       "2010-12-01   674.810390  778.894529  \n",
       "2011-01-01   494.891842  537.639691  \n",
       "2011-02-01   297.056495  338.756108  \n",
       "2011-03-01   297.901354  338.884208  \n",
       "2011-04-01   263.121651  298.411991  \n",
       "2011-05-01   265.013060  291.016056  "
      ]
     },
     "execution_count": 38,
     "metadata": {},
     "output_type": "execute_result"
    }
   ],
   "source": [
    "gross_profit_clv = gross_profit_cumsum6_month.div(cohort_sizes[:6], axis=0)\n",
    "gross_profit_clv"
   ]
  },
  {
   "cell_type": "markdown",
   "id": "034d26b7",
   "metadata": {},
   "source": [
    "В итоге получили значения CLV в разы ниже, чем при расчете с помощью выручки"
   ]
  },
  {
   "cell_type": "code",
   "execution_count": 39,
   "id": "b72258c9",
   "metadata": {},
   "outputs": [
    {
     "data": {
      "image/png": "[encoded data removed]",
      "text/plain": [
       "<Figure size 576x360 with 1 Axes>"
      ]
     },
     "metadata": {
      "needs_background": "light"
     },
     "output_type": "display_data"
    }
   ],
   "source": [
    "gross_profit_clv.T.plot(figsize=(8,5))\n",
    "plt.title('CLV по когортам')\n",
    "plt.xlabel('Месяцев с первой покупки (Лайфтайм)')\n",
    "plt.ylabel('CLV')\n",
    "plt.legend(title='Когорты')\n",
    "plt.show()"
   ]
  },
  {
   "cell_type": "markdown",
   "id": "19705e31",
   "metadata": {},
   "source": [
    "Рассчитаем общий CLV (без когорт)"
   ]
  },
  {
   "cell_type": "code",
   "execution_count": 40,
   "id": "18c29446",
   "metadata": {},
   "outputs": [],
   "source": [
    "common_gross_profit_clv = (df.groupby('lifetime')\n",
    "                .agg(clv=('revenue', 'sum'))\n",
    "                .cumsum() / len(df['customer_id'].unique())) * 0.3"
   ]
  },
  {
   "cell_type": "code",
   "execution_count": 41,
   "id": "26f8f29a",
   "metadata": {},
   "outputs": [
    {
     "data": {
      "text/html": [
       "<div>\n",
       "<style scoped>\n",
       "    .dataframe tbody tr th:only-of-type {\n",
       "        vertical-align: middle;\n",
       "    }\n",
       "\n",
       "    .dataframe tbody tr th {\n",
       "        vertical-align: top;\n",
       "    }\n",
       "\n",
       "    .dataframe thead th {\n",
       "        text-align: right;\n",
       "    }\n",
       "</style>\n",
       "<table border=\"1\" class=\"dataframe\">\n",
       "  <thead>\n",
       "    <tr style=\"text-align: right;\">\n",
       "      <th>lifetime</th>\n",
       "      <th>0</th>\n",
       "      <th>1</th>\n",
       "      <th>2</th>\n",
       "      <th>3</th>\n",
       "      <th>4</th>\n",
       "      <th>5</th>\n",
       "      <th>6</th>\n",
       "      <th>7</th>\n",
       "      <th>8</th>\n",
       "      <th>9</th>\n",
       "      <th>10</th>\n",
       "      <th>11</th>\n",
       "    </tr>\n",
       "  </thead>\n",
       "  <tbody>\n",
       "    <tr>\n",
       "      <th>clv</th>\n",
       "      <td>166.864173</td>\n",
       "      <td>207.398598</td>\n",
       "      <td>246.173541</td>\n",
       "      <td>286.672781</td>\n",
       "      <td>319.035285</td>\n",
       "      <td>360.866288</td>\n",
       "      <td>398.632723</td>\n",
       "      <td>439.537555</td>\n",
       "      <td>477.614538</td>\n",
       "      <td>521.70655</td>\n",
       "      <td>557.221984</td>\n",
       "      <td>584.362471</td>\n",
       "    </tr>\n",
       "  </tbody>\n",
       "</table>\n",
       "</div>"
      ],
      "text/plain": [
       "lifetime          0           1           2           3           4   \\\n",
       "clv       166.864173  207.398598  246.173541  286.672781  319.035285   \n",
       "\n",
       "lifetime          5           6           7           8          9   \\\n",
       "clv       360.866288  398.632723  439.537555  477.614538  521.70655   \n",
       "\n",
       "lifetime          10          11  \n",
       "clv       557.221984  584.362471  "
      ]
     },
     "execution_count": 41,
     "metadata": {},
     "output_type": "execute_result"
    }
   ],
   "source": [
    "common_gross_profit_clv.T"
   ]
  },
  {
   "cell_type": "code",
   "execution_count": 42,
   "id": "a2bb813a",
   "metadata": {},
   "outputs": [
    {
     "data": {
      "image/png": "[encoded data removed]",
      "text/plain": [
       "<Figure size 576x360 with 1 Axes>"
      ]
     },
     "metadata": {
      "needs_background": "light"
     },
     "output_type": "display_data"
    }
   ],
   "source": [
    "common_gross_profit_clv.plot(figsize=(8,5))\n",
    "plt.title('CLV')\n",
    "plt.xlabel('Месяцев с первой покупки (Лайфтайм)')\n",
    "plt.ylabel('CLV')\n",
    "plt.show()"
   ]
  },
  {
   "cell_type": "markdown",
   "id": "0c455840",
   "metadata": {},
   "source": [
    "### Вывод\n",
    "\n",
    "Воспользовавшись финансовыми данными из сектора e-commerce мы пришли к выводу, что расчет CLV с помощью выручки будет давать нам сильно искаженные результаты. Поэтому стоит рассчитывать данную метрику с помощью валовой прибыли"
   ]
  },
  {
   "cell_type": "markdown",
   "id": "e1c466da",
   "metadata": {},
   "source": [
    "## Прогнозирование CLV"
   ]
  },
  {
   "cell_type": "markdown",
   "id": "c188f318",
   "metadata": {},
   "source": [
    "Само по себе знание CLV очень полезно, однако наибольшую ценность представляет прогнозирование, ведь имея прогнозы ценности клиентов, мы можем осуществлять серьезное планирование, например увеличение/сокращение бюджета на привлечение новых клиентов, или на удержание имеющихся и.т.п"
   ]
  },
  {
   "cell_type": "markdown",
   "id": "49771a8b",
   "metadata": {},
   "source": [
    "### Прогнозирование на основе аппроксимации функции"
   ]
  },
  {
   "cell_type": "markdown",
   "id": "0ac7c4e0",
   "metadata": {},
   "source": [
    "Данный способ предполагает анализ графика CLV, в ходе которого мы определяем тип связи и подбираем подходящую функцию для аппроксимации. При данном способе мы делаем допущение, что характер связи будет сохраняться в будущем. С каждым новым месяцем можно обновлять функцию, тем самым если характер связи будет изменяться, мы сможем учесть это в прогнозе, но в данном случае просто построим прогноз на 6 месяцев вперед, на основе 6 месяцев наблюдений CLV. Прогнозировать будем общий CLV рассчитанный на основе валовой прибыли"
   ]
  },
  {
   "cell_type": "markdown",
   "id": "44c0d76d",
   "metadata": {},
   "source": [
    "#### Анализ графика"
   ]
  },
  {
   "cell_type": "markdown",
   "id": "ee29d78b",
   "metadata": {},
   "source": [
    "Проанализируем график CLV за первые 6 месяцев"
   ]
  },
  {
   "cell_type": "code",
   "execution_count": 43,
   "id": "a8a70f77",
   "metadata": {},
   "outputs": [
    {
     "data": {
      "image/png": "[encoded data removed]",
      "text/plain": [
       "<Figure size 576x360 with 1 Axes>"
      ]
     },
     "metadata": {
      "needs_background": "light"
     },
     "output_type": "display_data"
    }
   ],
   "source": [
    "common_gross_profit_clv.iloc[:6].plot(figsize=(8,5))\n",
    "plt.title('CLV')\n",
    "plt.xlabel('Месяцев с первой покупки (Лайфтайм)')\n",
    "plt.ylabel('CLV')\n",
    "plt.show()"
   ]
  },
  {
   "cell_type": "markdown",
   "id": "65bd71d7",
   "metadata": {},
   "source": [
    "В данном случае график четко показывает линейную зависимость, но так бывает далеко не всегда и обычно график CLV напоминает логарифмическую функцию"
   ]
  },
  {
   "cell_type": "markdown",
   "id": "a843920c",
   "metadata": {},
   "source": [
    "#### Аппроксимация функции и прогноз"
   ]
  },
  {
   "cell_type": "markdown",
   "id": "67bc47a5",
   "metadata": {},
   "source": [
    "Для аппроксимации функции, воспользуемся методом curve_fit библиотеки scipy.optimize"
   ]
  },
  {
   "cell_type": "code",
   "execution_count": 44,
   "id": "5c493792",
   "metadata": {},
   "outputs": [],
   "source": [
    "from scipy.optimize import curve_fit"
   ]
  },
  {
   "cell_type": "markdown",
   "id": "8b1db26c",
   "metadata": {},
   "source": [
    "На вход метод принимает функцию с описанной зависимостью (в нашем случае линейной), значения независимой переменной (в нашем случае лайфтайм) и значения зависимой переменной (CLV). Далее подбираются оптимальные коэффициенты, после чего можно делать прогноз"
   ]
  },
  {
   "cell_type": "code",
   "execution_count": 45,
   "id": "1b58b00e",
   "metadata": {},
   "outputs": [],
   "source": [
    "x = np.array(common_gross_profit_clv.index[:6]) # независимая перменная - lifetime\n",
    "y = np.array(common_gross_profit_clv['clv'][:6]) # зависимая переменная - CLV\n",
    "\n",
    "def line_fn(t, a, b): # линейная функция\n",
    "    return a + b * t\n",
    "\n",
    "popt, pcov = curve_fit(line_fn,  x,  y) # подбор оптимальных коэффициетов\n",
    "\n",
    "xs = range(0, 12) # значения независимой переменной для прогноза CLV на все 12 месяцев\n",
    "y_predict = line_fn(xs, *popt) # значения y"
   ]
  },
  {
   "cell_type": "markdown",
   "id": "cfd3e9a9",
   "metadata": {},
   "source": [
    "Построим график фактических и предсказанных значений CLV"
   ]
  },
  {
   "cell_type": "code",
   "execution_count": 46,
   "id": "51c9aeb3",
   "metadata": {},
   "outputs": [
    {
     "data": {
      "image/png": "[encoded data removed]",
      "text/plain": [
       "<Figure size 720x360 with 1 Axes>"
      ]
     },
     "metadata": {
      "needs_background": "light"
     },
     "output_type": "display_data"
    }
   ],
   "source": [
    "plt.figure(figsize=(10, 5))\n",
    "plt.plot(\n",
    "    common_gross_profit_clv.index, \n",
    "    common_gross_profit_clv['clv'], \n",
    "    'o-', \n",
    "    label='фактический CLV'\n",
    ")\n",
    "plt.plot(xs[6:], y_predict[6:], 'o--', color='red', label='прогнозируемый CLV')\n",
    "plt.legend()\n",
    "plt.grid()\n",
    "plt.title('CLV фактические и прогнозируемые значения')\n",
    "plt.ylabel('CLV')\n",
    "plt.xlabel('Месяцев с первой покупки (Лайфтайм)')\n",
    "plt.show()"
   ]
  },
  {
   "cell_type": "markdown",
   "id": "9471c020",
   "metadata": {},
   "source": [
    "Как видим предсказанные значения практически точно повторяют истинные. Посмотрим на ошибки модели, для этого напишем функцию для их печати"
   ]
  },
  {
   "cell_type": "code",
   "execution_count": 47,
   "id": "a3aff2dd",
   "metadata": {},
   "outputs": [],
   "source": [
    "def print_reg_metrics(y_true, y_pred):\n",
    "    print(f'MAE: {mean_absolute_error(y_true, y_pred):.2f}')\n",
    "    print(f'MAPE: {mean_absolute_percentage_error(y_true, y_pred)*100:.2f}')"
   ]
  },
  {
   "cell_type": "code",
   "execution_count": 48,
   "id": "d3f8a452",
   "metadata": {},
   "outputs": [],
   "source": [
    "y_true = common_gross_profit_clv['clv'][6:]\n",
    "y_pred = y_predict[6:]"
   ]
  },
  {
   "cell_type": "code",
   "execution_count": 49,
   "id": "19f8e95a",
   "metadata": {},
   "outputs": [
    {
     "name": "stdout",
     "output_type": "stream",
     "text": [
      "MAE: 3.80\n",
      "MAPE: 0.72\n"
     ]
    }
   ],
   "source": [
    "print_reg_metrics(y_true, y_pred)"
   ]
  },
  {
   "cell_type": "markdown",
   "id": "0f5925ca",
   "metadata": {},
   "source": [
    "Средняя абсолютная ошибка в процентах = 0.7%"
   ]
  },
  {
   "cell_type": "markdown",
   "id": "a3fb12e9",
   "metadata": {},
   "source": [
    "#### Вывод\n",
    "\n",
    "- Способ прогнозирования с помощью визуального анализа графика и аппроксимации функции, в данном случае справился отлично, однако стоит учитывать, что нам повезло с линейной связью лайфтайма и CLV, обычно в данных наблюдается более сложная связь - похожая на логарифмическую. Поэтому стоит проверить данный способ на таких данных\n",
    "- С помощью данного способа, мы можем прогнозировать CLV на определенный лайфтайм для разных когорт или в общем, однако мы не учитываем конкретные признаки каждого отдельного клиента, такие как частота покупок, выручка итд"
   ]
  },
  {
   "cell_type": "markdown",
   "id": "9ad70d9c",
   "metadata": {},
   "source": [
    "### Прогнозирование CLV с помощью алгоритмов машинного обучения"
   ]
  },
  {
   "cell_type": "markdown",
   "id": "8bf2d489",
   "metadata": {},
   "source": [
    "#### Рассчет новых признаков для прогнозирования"
   ]
  },
  {
   "cell_type": "markdown",
   "id": "ae16adc2",
   "metadata": {},
   "source": [
    "Оставим только данные за первые 6 месяцев наблюдений, на которых мы будем обучать и тестировать модель. Значения валовой выручки за следующие 6 месяцев у нас будут в качестве целевых переменных"
   ]
  },
  {
   "cell_type": "code",
   "execution_count": 50,
   "id": "6931abcc",
   "metadata": {},
   "outputs": [],
   "source": [
    "df_6month = df[df['transaction_date'] < '2011-06-01']"
   ]
  },
  {
   "cell_type": "markdown",
   "id": "b2d02230",
   "metadata": {},
   "source": [
    "Для прогнозирования нам потребуются новые признаки для каждого пользователя:\n",
    "- `Recency` - как давно была совершена последняя покупка\n",
    "- `Frequency` - частота повторных покупок\n",
    "- `Monetary` - средняя выручка с одной покупки\n",
    "\n",
    "Воспользуемся функцией из библиотеки lifetimes"
   ]
  },
  {
   "cell_type": "code",
   "execution_count": 51,
   "id": "a49221de",
   "metadata": {},
   "outputs": [],
   "source": [
    "rfm = df_6month.groupby('customer_id').agg(frequency=('transaction_date', 'nunique'),\n",
    "                                           last_purchase=('transaction_date', 'max'),\n",
    "                                           total_revenue=('revenue', 'sum')).reset_index()"
   ]
  },
  {
   "cell_type": "code",
   "execution_count": 52,
   "id": "c535f1df",
   "metadata": {},
   "outputs": [
    {
     "data": {
      "text/html": [
       "<div>\n",
       "<style scoped>\n",
       "    .dataframe tbody tr th:only-of-type {\n",
       "        vertical-align: middle;\n",
       "    }\n",
       "\n",
       "    .dataframe tbody tr th {\n",
       "        vertical-align: top;\n",
       "    }\n",
       "\n",
       "    .dataframe thead th {\n",
       "        text-align: right;\n",
       "    }\n",
       "</style>\n",
       "<table border=\"1\" class=\"dataframe\">\n",
       "  <thead>\n",
       "    <tr style=\"text-align: right;\">\n",
       "      <th></th>\n",
       "      <th>customer_id</th>\n",
       "      <th>frequency</th>\n",
       "      <th>last_purchase</th>\n",
       "      <th>total_revenue</th>\n",
       "    </tr>\n",
       "  </thead>\n",
       "  <tbody>\n",
       "    <tr>\n",
       "      <th>0</th>\n",
       "      <td>12346.0</td>\n",
       "      <td>1</td>\n",
       "      <td>2011-01-18 10:01:00</td>\n",
       "      <td>77183.60</td>\n",
       "    </tr>\n",
       "    <tr>\n",
       "      <th>1</th>\n",
       "      <td>12347.0</td>\n",
       "      <td>3</td>\n",
       "      <td>2011-04-07 10:43:00</td>\n",
       "      <td>1823.43</td>\n",
       "    </tr>\n",
       "    <tr>\n",
       "      <th>2</th>\n",
       "      <td>12348.0</td>\n",
       "      <td>3</td>\n",
       "      <td>2011-04-05 10:47:00</td>\n",
       "      <td>1487.24</td>\n",
       "    </tr>\n",
       "    <tr>\n",
       "      <th>3</th>\n",
       "      <td>12350.0</td>\n",
       "      <td>1</td>\n",
       "      <td>2011-02-02 16:01:00</td>\n",
       "      <td>334.40</td>\n",
       "    </tr>\n",
       "    <tr>\n",
       "      <th>4</th>\n",
       "      <td>12352.0</td>\n",
       "      <td>5</td>\n",
       "      <td>2011-03-22 16:08:00</td>\n",
       "      <td>1561.81</td>\n",
       "    </tr>\n",
       "  </tbody>\n",
       "</table>\n",
       "</div>"
      ],
      "text/plain": [
       "   customer_id  frequency       last_purchase  total_revenue\n",
       "0      12346.0          1 2011-01-18 10:01:00       77183.60\n",
       "1      12347.0          3 2011-04-07 10:43:00        1823.43\n",
       "2      12348.0          3 2011-04-05 10:47:00        1487.24\n",
       "3      12350.0          1 2011-02-02 16:01:00         334.40\n",
       "4      12352.0          5 2011-03-22 16:08:00        1561.81"
      ]
     },
     "execution_count": 52,
     "metadata": {},
     "output_type": "execute_result"
    }
   ],
   "source": [
    "rfm.head()"
   ]
  },
  {
   "cell_type": "markdown",
   "id": "162b4151",
   "metadata": {},
   "source": [
    "Для определения значения `recency` нам нужно из даты наблюдения вычесть дату последней покупки"
   ]
  },
  {
   "cell_type": "code",
   "execution_count": 53,
   "id": "fc084f2e",
   "metadata": {},
   "outputs": [
    {
     "data": {
      "text/plain": [
       "Timestamp('2011-05-31 15:41:00')"
      ]
     },
     "execution_count": 53,
     "metadata": {},
     "output_type": "execute_result"
    }
   ],
   "source": [
    "observation_date = df_6month['transaction_date'].max()\n",
    "observation_date"
   ]
  },
  {
   "cell_type": "code",
   "execution_count": 54,
   "id": "8a9d5c5c",
   "metadata": {},
   "outputs": [],
   "source": [
    "rfm['recency'] = (observation_date - rfm['last_purchase']).dt.days"
   ]
  },
  {
   "cell_type": "code",
   "execution_count": 55,
   "id": "499b668d",
   "metadata": {},
   "outputs": [
    {
     "data": {
      "text/html": [
       "<div>\n",
       "<style scoped>\n",
       "    .dataframe tbody tr th:only-of-type {\n",
       "        vertical-align: middle;\n",
       "    }\n",
       "\n",
       "    .dataframe tbody tr th {\n",
       "        vertical-align: top;\n",
       "    }\n",
       "\n",
       "    .dataframe thead th {\n",
       "        text-align: right;\n",
       "    }\n",
       "</style>\n",
       "<table border=\"1\" class=\"dataframe\">\n",
       "  <thead>\n",
       "    <tr style=\"text-align: right;\">\n",
       "      <th></th>\n",
       "      <th>customer_id</th>\n",
       "      <th>frequency</th>\n",
       "      <th>last_purchase</th>\n",
       "      <th>total_revenue</th>\n",
       "      <th>recency</th>\n",
       "    </tr>\n",
       "  </thead>\n",
       "  <tbody>\n",
       "    <tr>\n",
       "      <th>0</th>\n",
       "      <td>12346.0</td>\n",
       "      <td>1</td>\n",
       "      <td>2011-01-18 10:01:00</td>\n",
       "      <td>77183.60</td>\n",
       "      <td>133</td>\n",
       "    </tr>\n",
       "    <tr>\n",
       "      <th>1</th>\n",
       "      <td>12347.0</td>\n",
       "      <td>3</td>\n",
       "      <td>2011-04-07 10:43:00</td>\n",
       "      <td>1823.43</td>\n",
       "      <td>54</td>\n",
       "    </tr>\n",
       "    <tr>\n",
       "      <th>2</th>\n",
       "      <td>12348.0</td>\n",
       "      <td>3</td>\n",
       "      <td>2011-04-05 10:47:00</td>\n",
       "      <td>1487.24</td>\n",
       "      <td>56</td>\n",
       "    </tr>\n",
       "    <tr>\n",
       "      <th>3</th>\n",
       "      <td>12350.0</td>\n",
       "      <td>1</td>\n",
       "      <td>2011-02-02 16:01:00</td>\n",
       "      <td>334.40</td>\n",
       "      <td>117</td>\n",
       "    </tr>\n",
       "    <tr>\n",
       "      <th>4</th>\n",
       "      <td>12352.0</td>\n",
       "      <td>5</td>\n",
       "      <td>2011-03-22 16:08:00</td>\n",
       "      <td>1561.81</td>\n",
       "      <td>69</td>\n",
       "    </tr>\n",
       "  </tbody>\n",
       "</table>\n",
       "</div>"
      ],
      "text/plain": [
       "   customer_id  frequency       last_purchase  total_revenue  recency\n",
       "0      12346.0          1 2011-01-18 10:01:00       77183.60      133\n",
       "1      12347.0          3 2011-04-07 10:43:00        1823.43       54\n",
       "2      12348.0          3 2011-04-05 10:47:00        1487.24       56\n",
       "3      12350.0          1 2011-02-02 16:01:00         334.40      117\n",
       "4      12352.0          5 2011-03-22 16:08:00        1561.81       69"
      ]
     },
     "execution_count": 55,
     "metadata": {},
     "output_type": "execute_result"
    }
   ],
   "source": [
    "rfm.head()"
   ]
  },
  {
   "cell_type": "markdown",
   "id": "2d10cab5",
   "metadata": {},
   "source": [
    "Для определения значения `monetary` поделим общую выручку на частоту покупок"
   ]
  },
  {
   "cell_type": "code",
   "execution_count": 56,
   "id": "4053be1f",
   "metadata": {},
   "outputs": [],
   "source": [
    "rfm['monetary'] = rfm['total_revenue'] / rfm['frequency']"
   ]
  },
  {
   "cell_type": "code",
   "execution_count": 57,
   "id": "03fb8957",
   "metadata": {},
   "outputs": [
    {
     "data": {
      "text/html": [
       "<div>\n",
       "<style scoped>\n",
       "    .dataframe tbody tr th:only-of-type {\n",
       "        vertical-align: middle;\n",
       "    }\n",
       "\n",
       "    .dataframe tbody tr th {\n",
       "        vertical-align: top;\n",
       "    }\n",
       "\n",
       "    .dataframe thead th {\n",
       "        text-align: right;\n",
       "    }\n",
       "</style>\n",
       "<table border=\"1\" class=\"dataframe\">\n",
       "  <thead>\n",
       "    <tr style=\"text-align: right;\">\n",
       "      <th></th>\n",
       "      <th>customer_id</th>\n",
       "      <th>frequency</th>\n",
       "      <th>last_purchase</th>\n",
       "      <th>total_revenue</th>\n",
       "      <th>recency</th>\n",
       "      <th>monetary</th>\n",
       "    </tr>\n",
       "  </thead>\n",
       "  <tbody>\n",
       "    <tr>\n",
       "      <th>0</th>\n",
       "      <td>12346.0</td>\n",
       "      <td>1</td>\n",
       "      <td>2011-01-18 10:01:00</td>\n",
       "      <td>77183.60</td>\n",
       "      <td>133</td>\n",
       "      <td>77183.600000</td>\n",
       "    </tr>\n",
       "    <tr>\n",
       "      <th>1</th>\n",
       "      <td>12347.0</td>\n",
       "      <td>3</td>\n",
       "      <td>2011-04-07 10:43:00</td>\n",
       "      <td>1823.43</td>\n",
       "      <td>54</td>\n",
       "      <td>607.810000</td>\n",
       "    </tr>\n",
       "    <tr>\n",
       "      <th>2</th>\n",
       "      <td>12348.0</td>\n",
       "      <td>3</td>\n",
       "      <td>2011-04-05 10:47:00</td>\n",
       "      <td>1487.24</td>\n",
       "      <td>56</td>\n",
       "      <td>495.746667</td>\n",
       "    </tr>\n",
       "    <tr>\n",
       "      <th>3</th>\n",
       "      <td>12350.0</td>\n",
       "      <td>1</td>\n",
       "      <td>2011-02-02 16:01:00</td>\n",
       "      <td>334.40</td>\n",
       "      <td>117</td>\n",
       "      <td>334.400000</td>\n",
       "    </tr>\n",
       "    <tr>\n",
       "      <th>4</th>\n",
       "      <td>12352.0</td>\n",
       "      <td>5</td>\n",
       "      <td>2011-03-22 16:08:00</td>\n",
       "      <td>1561.81</td>\n",
       "      <td>69</td>\n",
       "      <td>312.362000</td>\n",
       "    </tr>\n",
       "  </tbody>\n",
       "</table>\n",
       "</div>"
      ],
      "text/plain": [
       "   customer_id  frequency       last_purchase  total_revenue  recency  \\\n",
       "0      12346.0          1 2011-01-18 10:01:00       77183.60      133   \n",
       "1      12347.0          3 2011-04-07 10:43:00        1823.43       54   \n",
       "2      12348.0          3 2011-04-05 10:47:00        1487.24       56   \n",
       "3      12350.0          1 2011-02-02 16:01:00         334.40      117   \n",
       "4      12352.0          5 2011-03-22 16:08:00        1561.81       69   \n",
       "\n",
       "       monetary  \n",
       "0  77183.600000  \n",
       "1    607.810000  \n",
       "2    495.746667  \n",
       "3    334.400000  \n",
       "4    312.362000  "
      ]
     },
     "execution_count": 57,
     "metadata": {},
     "output_type": "execute_result"
    }
   ],
   "source": [
    "rfm.head()"
   ]
  },
  {
   "cell_type": "markdown",
   "id": "bdd41503",
   "metadata": {},
   "source": [
    "Добавим в таблицу выше целевые переменные - валовую выручку для каждого пользователя с 7 по 12 месяцы. Сначала рассчитаем значения валовой выручки для каждого пользователя по месяцам. Для удобства в качестве названия месяца будет его номер"
   ]
  },
  {
   "cell_type": "code",
   "execution_count": 58,
   "id": "2b66beed",
   "metadata": {},
   "outputs": [],
   "source": [
    "df['month_num'] = df['transaction_month'].dt.month"
   ]
  },
  {
   "cell_type": "code",
   "execution_count": 59,
   "id": "557ad122",
   "metadata": {},
   "outputs": [
    {
     "data": {
      "text/html": [
       "<div>\n",
       "<style scoped>\n",
       "    .dataframe tbody tr th:only-of-type {\n",
       "        vertical-align: middle;\n",
       "    }\n",
       "\n",
       "    .dataframe tbody tr th {\n",
       "        vertical-align: top;\n",
       "    }\n",
       "\n",
       "    .dataframe thead th {\n",
       "        text-align: right;\n",
       "    }\n",
       "</style>\n",
       "<table border=\"1\" class=\"dataframe\">\n",
       "  <thead>\n",
       "    <tr style=\"text-align: right;\">\n",
       "      <th>month_num</th>\n",
       "      <th>1</th>\n",
       "      <th>2</th>\n",
       "      <th>3</th>\n",
       "      <th>4</th>\n",
       "      <th>5</th>\n",
       "      <th>6</th>\n",
       "      <th>7</th>\n",
       "      <th>8</th>\n",
       "      <th>9</th>\n",
       "      <th>10</th>\n",
       "      <th>11</th>\n",
       "      <th>12</th>\n",
       "    </tr>\n",
       "    <tr>\n",
       "      <th>customer_id</th>\n",
       "      <th></th>\n",
       "      <th></th>\n",
       "      <th></th>\n",
       "      <th></th>\n",
       "      <th></th>\n",
       "      <th></th>\n",
       "      <th></th>\n",
       "      <th></th>\n",
       "      <th></th>\n",
       "      <th></th>\n",
       "      <th></th>\n",
       "      <th></th>\n",
       "    </tr>\n",
       "  </thead>\n",
       "  <tbody>\n",
       "    <tr>\n",
       "      <th>12346.0</th>\n",
       "      <td>23155.080</td>\n",
       "      <td>NaN</td>\n",
       "      <td>NaN</td>\n",
       "      <td>NaN</td>\n",
       "      <td>NaN</td>\n",
       "      <td>NaN</td>\n",
       "      <td>NaN</td>\n",
       "      <td>NaN</td>\n",
       "      <td>NaN</td>\n",
       "      <td>NaN</td>\n",
       "      <td>NaN</td>\n",
       "      <td>NaN</td>\n",
       "    </tr>\n",
       "    <tr>\n",
       "      <th>12347.0</th>\n",
       "      <td>142.617</td>\n",
       "      <td>NaN</td>\n",
       "      <td>NaN</td>\n",
       "      <td>190.875</td>\n",
       "      <td>NaN</td>\n",
       "      <td>114.756</td>\n",
       "      <td>NaN</td>\n",
       "      <td>175.473</td>\n",
       "      <td>NaN</td>\n",
       "      <td>388.296</td>\n",
       "      <td>NaN</td>\n",
       "      <td>213.537</td>\n",
       "    </tr>\n",
       "    <tr>\n",
       "      <th>12348.0</th>\n",
       "      <td>68.232</td>\n",
       "      <td>NaN</td>\n",
       "      <td>NaN</td>\n",
       "      <td>110.100</td>\n",
       "      <td>NaN</td>\n",
       "      <td>NaN</td>\n",
       "      <td>NaN</td>\n",
       "      <td>NaN</td>\n",
       "      <td>93.0</td>\n",
       "      <td>NaN</td>\n",
       "      <td>NaN</td>\n",
       "      <td>267.840</td>\n",
       "    </tr>\n",
       "    <tr>\n",
       "      <th>12349.0</th>\n",
       "      <td>NaN</td>\n",
       "      <td>NaN</td>\n",
       "      <td>NaN</td>\n",
       "      <td>NaN</td>\n",
       "      <td>NaN</td>\n",
       "      <td>NaN</td>\n",
       "      <td>NaN</td>\n",
       "      <td>NaN</td>\n",
       "      <td>NaN</td>\n",
       "      <td>NaN</td>\n",
       "      <td>527.265</td>\n",
       "      <td>NaN</td>\n",
       "    </tr>\n",
       "    <tr>\n",
       "      <th>12350.0</th>\n",
       "      <td>NaN</td>\n",
       "      <td>100.32</td>\n",
       "      <td>NaN</td>\n",
       "      <td>NaN</td>\n",
       "      <td>NaN</td>\n",
       "      <td>NaN</td>\n",
       "      <td>NaN</td>\n",
       "      <td>NaN</td>\n",
       "      <td>NaN</td>\n",
       "      <td>NaN</td>\n",
       "      <td>NaN</td>\n",
       "      <td>NaN</td>\n",
       "    </tr>\n",
       "  </tbody>\n",
       "</table>\n",
       "</div>"
      ],
      "text/plain": [
       "month_num           1       2   3        4   5        6   7        8     9   \\\n",
       "customer_id                                                                   \n",
       "12346.0      23155.080     NaN NaN      NaN NaN      NaN NaN      NaN   NaN   \n",
       "12347.0        142.617     NaN NaN  190.875 NaN  114.756 NaN  175.473   NaN   \n",
       "12348.0         68.232     NaN NaN  110.100 NaN      NaN NaN      NaN  93.0   \n",
       "12349.0            NaN     NaN NaN      NaN NaN      NaN NaN      NaN   NaN   \n",
       "12350.0            NaN  100.32 NaN      NaN NaN      NaN NaN      NaN   NaN   \n",
       "\n",
       "month_num         10       11       12  \n",
       "customer_id                             \n",
       "12346.0          NaN      NaN      NaN  \n",
       "12347.0      388.296      NaN  213.537  \n",
       "12348.0          NaN      NaN  267.840  \n",
       "12349.0          NaN  527.265      NaN  \n",
       "12350.0          NaN      NaN      NaN  "
      ]
     },
     "execution_count": 59,
     "metadata": {},
     "output_type": "execute_result"
    }
   ],
   "source": [
    "customer_gross_profit = df.pivot_table(index='customer_id', \n",
    "                                       columns='month_num', \n",
    "                                       values='revenue', \n",
    "                                       aggfunc='sum') * 0.3\n",
    "\n",
    "customer_gross_profit.head()"
   ]
  },
  {
   "cell_type": "markdown",
   "id": "1b479c95",
   "metadata": {},
   "source": [
    "Заполним пропуски и посчитаем кумулятивную сумму валовой выручки"
   ]
  },
  {
   "cell_type": "code",
   "execution_count": 60,
   "id": "e7ec071f",
   "metadata": {},
   "outputs": [
    {
     "data": {
      "text/html": [
       "<div>\n",
       "<style scoped>\n",
       "    .dataframe tbody tr th:only-of-type {\n",
       "        vertical-align: middle;\n",
       "    }\n",
       "\n",
       "    .dataframe tbody tr th {\n",
       "        vertical-align: top;\n",
       "    }\n",
       "\n",
       "    .dataframe thead th {\n",
       "        text-align: right;\n",
       "    }\n",
       "</style>\n",
       "<table border=\"1\" class=\"dataframe\">\n",
       "  <thead>\n",
       "    <tr style=\"text-align: right;\">\n",
       "      <th>month_num</th>\n",
       "      <th>customer_id</th>\n",
       "      <th>1</th>\n",
       "      <th>2</th>\n",
       "      <th>3</th>\n",
       "      <th>4</th>\n",
       "      <th>5</th>\n",
       "      <th>6</th>\n",
       "      <th>7</th>\n",
       "      <th>8</th>\n",
       "      <th>9</th>\n",
       "      <th>10</th>\n",
       "      <th>11</th>\n",
       "      <th>12</th>\n",
       "    </tr>\n",
       "  </thead>\n",
       "  <tbody>\n",
       "    <tr>\n",
       "      <th>0</th>\n",
       "      <td>12346.0</td>\n",
       "      <td>23155.080</td>\n",
       "      <td>23155.080</td>\n",
       "      <td>23155.080</td>\n",
       "      <td>23155.080</td>\n",
       "      <td>23155.080</td>\n",
       "      <td>23155.080</td>\n",
       "      <td>23155.080</td>\n",
       "      <td>23155.080</td>\n",
       "      <td>23155.080</td>\n",
       "      <td>23155.080</td>\n",
       "      <td>23155.080</td>\n",
       "      <td>23155.080</td>\n",
       "    </tr>\n",
       "    <tr>\n",
       "      <th>1</th>\n",
       "      <td>12347.0</td>\n",
       "      <td>142.617</td>\n",
       "      <td>142.617</td>\n",
       "      <td>142.617</td>\n",
       "      <td>333.492</td>\n",
       "      <td>333.492</td>\n",
       "      <td>448.248</td>\n",
       "      <td>448.248</td>\n",
       "      <td>623.721</td>\n",
       "      <td>623.721</td>\n",
       "      <td>1012.017</td>\n",
       "      <td>1012.017</td>\n",
       "      <td>1225.554</td>\n",
       "    </tr>\n",
       "    <tr>\n",
       "      <th>2</th>\n",
       "      <td>12348.0</td>\n",
       "      <td>68.232</td>\n",
       "      <td>68.232</td>\n",
       "      <td>68.232</td>\n",
       "      <td>178.332</td>\n",
       "      <td>178.332</td>\n",
       "      <td>178.332</td>\n",
       "      <td>178.332</td>\n",
       "      <td>178.332</td>\n",
       "      <td>271.332</td>\n",
       "      <td>271.332</td>\n",
       "      <td>271.332</td>\n",
       "      <td>539.172</td>\n",
       "    </tr>\n",
       "    <tr>\n",
       "      <th>3</th>\n",
       "      <td>12349.0</td>\n",
       "      <td>0.000</td>\n",
       "      <td>0.000</td>\n",
       "      <td>0.000</td>\n",
       "      <td>0.000</td>\n",
       "      <td>0.000</td>\n",
       "      <td>0.000</td>\n",
       "      <td>0.000</td>\n",
       "      <td>0.000</td>\n",
       "      <td>0.000</td>\n",
       "      <td>0.000</td>\n",
       "      <td>527.265</td>\n",
       "      <td>527.265</td>\n",
       "    </tr>\n",
       "    <tr>\n",
       "      <th>4</th>\n",
       "      <td>12350.0</td>\n",
       "      <td>0.000</td>\n",
       "      <td>100.320</td>\n",
       "      <td>100.320</td>\n",
       "      <td>100.320</td>\n",
       "      <td>100.320</td>\n",
       "      <td>100.320</td>\n",
       "      <td>100.320</td>\n",
       "      <td>100.320</td>\n",
       "      <td>100.320</td>\n",
       "      <td>100.320</td>\n",
       "      <td>100.320</td>\n",
       "      <td>100.320</td>\n",
       "    </tr>\n",
       "  </tbody>\n",
       "</table>\n",
       "</div>"
      ],
      "text/plain": [
       "month_num  customer_id          1          2          3          4          5  \\\n",
       "0              12346.0  23155.080  23155.080  23155.080  23155.080  23155.080   \n",
       "1              12347.0    142.617    142.617    142.617    333.492    333.492   \n",
       "2              12348.0     68.232     68.232     68.232    178.332    178.332   \n",
       "3              12349.0      0.000      0.000      0.000      0.000      0.000   \n",
       "4              12350.0      0.000    100.320    100.320    100.320    100.320   \n",
       "\n",
       "month_num          6          7          8          9         10         11  \\\n",
       "0          23155.080  23155.080  23155.080  23155.080  23155.080  23155.080   \n",
       "1            448.248    448.248    623.721    623.721   1012.017   1012.017   \n",
       "2            178.332    178.332    178.332    271.332    271.332    271.332   \n",
       "3              0.000      0.000      0.000      0.000      0.000    527.265   \n",
       "4            100.320    100.320    100.320    100.320    100.320    100.320   \n",
       "\n",
       "month_num         12  \n",
       "0          23155.080  \n",
       "1           1225.554  \n",
       "2            539.172  \n",
       "3            527.265  \n",
       "4            100.320  "
      ]
     },
     "execution_count": 60,
     "metadata": {},
     "output_type": "execute_result"
    }
   ],
   "source": [
    "customer_gross_profit = customer_gross_profit.fillna(0).cumsum(axis=1).reset_index()\n",
    "customer_gross_profit.head()"
   ]
  },
  {
   "cell_type": "markdown",
   "id": "780ca4ba",
   "metadata": {},
   "source": [
    "Оставим значения валовой выручки начиная с 7 месяца"
   ]
  },
  {
   "cell_type": "code",
   "execution_count": 61,
   "id": "c62465a6",
   "metadata": {},
   "outputs": [
    {
     "data": {
      "text/html": [
       "<div>\n",
       "<style scoped>\n",
       "    .dataframe tbody tr th:only-of-type {\n",
       "        vertical-align: middle;\n",
       "    }\n",
       "\n",
       "    .dataframe tbody tr th {\n",
       "        vertical-align: top;\n",
       "    }\n",
       "\n",
       "    .dataframe thead th {\n",
       "        text-align: right;\n",
       "    }\n",
       "</style>\n",
       "<table border=\"1\" class=\"dataframe\">\n",
       "  <thead>\n",
       "    <tr style=\"text-align: right;\">\n",
       "      <th>month_num</th>\n",
       "      <th>customer_id</th>\n",
       "      <th>7</th>\n",
       "      <th>8</th>\n",
       "      <th>9</th>\n",
       "      <th>10</th>\n",
       "      <th>11</th>\n",
       "      <th>12</th>\n",
       "    </tr>\n",
       "  </thead>\n",
       "  <tbody>\n",
       "    <tr>\n",
       "      <th>0</th>\n",
       "      <td>12346.0</td>\n",
       "      <td>23155.080</td>\n",
       "      <td>23155.080</td>\n",
       "      <td>23155.080</td>\n",
       "      <td>23155.080</td>\n",
       "      <td>23155.080</td>\n",
       "      <td>23155.080</td>\n",
       "    </tr>\n",
       "    <tr>\n",
       "      <th>1</th>\n",
       "      <td>12347.0</td>\n",
       "      <td>448.248</td>\n",
       "      <td>623.721</td>\n",
       "      <td>623.721</td>\n",
       "      <td>1012.017</td>\n",
       "      <td>1012.017</td>\n",
       "      <td>1225.554</td>\n",
       "    </tr>\n",
       "    <tr>\n",
       "      <th>2</th>\n",
       "      <td>12348.0</td>\n",
       "      <td>178.332</td>\n",
       "      <td>178.332</td>\n",
       "      <td>271.332</td>\n",
       "      <td>271.332</td>\n",
       "      <td>271.332</td>\n",
       "      <td>539.172</td>\n",
       "    </tr>\n",
       "    <tr>\n",
       "      <th>3</th>\n",
       "      <td>12349.0</td>\n",
       "      <td>0.000</td>\n",
       "      <td>0.000</td>\n",
       "      <td>0.000</td>\n",
       "      <td>0.000</td>\n",
       "      <td>527.265</td>\n",
       "      <td>527.265</td>\n",
       "    </tr>\n",
       "    <tr>\n",
       "      <th>4</th>\n",
       "      <td>12350.0</td>\n",
       "      <td>100.320</td>\n",
       "      <td>100.320</td>\n",
       "      <td>100.320</td>\n",
       "      <td>100.320</td>\n",
       "      <td>100.320</td>\n",
       "      <td>100.320</td>\n",
       "    </tr>\n",
       "  </tbody>\n",
       "</table>\n",
       "</div>"
      ],
      "text/plain": [
       "month_num  customer_id          7          8          9         10         11  \\\n",
       "0              12346.0  23155.080  23155.080  23155.080  23155.080  23155.080   \n",
       "1              12347.0    448.248    623.721    623.721   1012.017   1012.017   \n",
       "2              12348.0    178.332    178.332    271.332    271.332    271.332   \n",
       "3              12349.0      0.000      0.000      0.000      0.000    527.265   \n",
       "4              12350.0    100.320    100.320    100.320    100.320    100.320   \n",
       "\n",
       "month_num         12  \n",
       "0          23155.080  \n",
       "1           1225.554  \n",
       "2            539.172  \n",
       "3            527.265  \n",
       "4            100.320  "
      ]
     },
     "execution_count": 61,
     "metadata": {},
     "output_type": "execute_result"
    }
   ],
   "source": [
    "customer_gross_profit_forecast_period = customer_gross_profit.drop(columns=range(1, 7))\n",
    "customer_gross_profit_forecast_period.head()"
   ]
  },
  {
   "cell_type": "markdown",
   "id": "5ae2aac2",
   "metadata": {},
   "source": [
    "Добавим целевые переменные к таблице с RFM признаками"
   ]
  },
  {
   "cell_type": "code",
   "execution_count": 62,
   "id": "5fc24c1d",
   "metadata": {},
   "outputs": [],
   "source": [
    "rfm = rfm.merge(customer_gross_profit_forecast_period, on='customer_id', how='left')"
   ]
  },
  {
   "cell_type": "code",
   "execution_count": 63,
   "id": "68ff0c88",
   "metadata": {},
   "outputs": [
    {
     "data": {
      "text/html": [
       "<div>\n",
       "<style scoped>\n",
       "    .dataframe tbody tr th:only-of-type {\n",
       "        vertical-align: middle;\n",
       "    }\n",
       "\n",
       "    .dataframe tbody tr th {\n",
       "        vertical-align: top;\n",
       "    }\n",
       "\n",
       "    .dataframe thead th {\n",
       "        text-align: right;\n",
       "    }\n",
       "</style>\n",
       "<table border=\"1\" class=\"dataframe\">\n",
       "  <thead>\n",
       "    <tr style=\"text-align: right;\">\n",
       "      <th></th>\n",
       "      <th>customer_id</th>\n",
       "      <th>frequency</th>\n",
       "      <th>last_purchase</th>\n",
       "      <th>total_revenue</th>\n",
       "      <th>recency</th>\n",
       "      <th>monetary</th>\n",
       "      <th>7</th>\n",
       "      <th>8</th>\n",
       "      <th>9</th>\n",
       "      <th>10</th>\n",
       "      <th>11</th>\n",
       "      <th>12</th>\n",
       "    </tr>\n",
       "  </thead>\n",
       "  <tbody>\n",
       "    <tr>\n",
       "      <th>0</th>\n",
       "      <td>12346.0</td>\n",
       "      <td>1</td>\n",
       "      <td>2011-01-18 10:01:00</td>\n",
       "      <td>77183.60</td>\n",
       "      <td>133</td>\n",
       "      <td>77183.600000</td>\n",
       "      <td>23155.080</td>\n",
       "      <td>23155.080</td>\n",
       "      <td>23155.080</td>\n",
       "      <td>23155.080</td>\n",
       "      <td>23155.080</td>\n",
       "      <td>23155.080</td>\n",
       "    </tr>\n",
       "    <tr>\n",
       "      <th>1</th>\n",
       "      <td>12347.0</td>\n",
       "      <td>3</td>\n",
       "      <td>2011-04-07 10:43:00</td>\n",
       "      <td>1823.43</td>\n",
       "      <td>54</td>\n",
       "      <td>607.810000</td>\n",
       "      <td>448.248</td>\n",
       "      <td>623.721</td>\n",
       "      <td>623.721</td>\n",
       "      <td>1012.017</td>\n",
       "      <td>1012.017</td>\n",
       "      <td>1225.554</td>\n",
       "    </tr>\n",
       "    <tr>\n",
       "      <th>2</th>\n",
       "      <td>12348.0</td>\n",
       "      <td>3</td>\n",
       "      <td>2011-04-05 10:47:00</td>\n",
       "      <td>1487.24</td>\n",
       "      <td>56</td>\n",
       "      <td>495.746667</td>\n",
       "      <td>178.332</td>\n",
       "      <td>178.332</td>\n",
       "      <td>271.332</td>\n",
       "      <td>271.332</td>\n",
       "      <td>271.332</td>\n",
       "      <td>539.172</td>\n",
       "    </tr>\n",
       "    <tr>\n",
       "      <th>3</th>\n",
       "      <td>12350.0</td>\n",
       "      <td>1</td>\n",
       "      <td>2011-02-02 16:01:00</td>\n",
       "      <td>334.40</td>\n",
       "      <td>117</td>\n",
       "      <td>334.400000</td>\n",
       "      <td>100.320</td>\n",
       "      <td>100.320</td>\n",
       "      <td>100.320</td>\n",
       "      <td>100.320</td>\n",
       "      <td>100.320</td>\n",
       "      <td>100.320</td>\n",
       "    </tr>\n",
       "    <tr>\n",
       "      <th>4</th>\n",
       "      <td>12352.0</td>\n",
       "      <td>5</td>\n",
       "      <td>2011-03-22 16:08:00</td>\n",
       "      <td>1561.81</td>\n",
       "      <td>69</td>\n",
       "      <td>312.362000</td>\n",
       "      <td>468.543</td>\n",
       "      <td>468.543</td>\n",
       "      <td>658.293</td>\n",
       "      <td>658.293</td>\n",
       "      <td>751.812</td>\n",
       "      <td>751.812</td>\n",
       "    </tr>\n",
       "  </tbody>\n",
       "</table>\n",
       "</div>"
      ],
      "text/plain": [
       "   customer_id  frequency       last_purchase  total_revenue  recency  \\\n",
       "0      12346.0          1 2011-01-18 10:01:00       77183.60      133   \n",
       "1      12347.0          3 2011-04-07 10:43:00        1823.43       54   \n",
       "2      12348.0          3 2011-04-05 10:47:00        1487.24       56   \n",
       "3      12350.0          1 2011-02-02 16:01:00         334.40      117   \n",
       "4      12352.0          5 2011-03-22 16:08:00        1561.81       69   \n",
       "\n",
       "       monetary          7          8          9         10         11  \\\n",
       "0  77183.600000  23155.080  23155.080  23155.080  23155.080  23155.080   \n",
       "1    607.810000    448.248    623.721    623.721   1012.017   1012.017   \n",
       "2    495.746667    178.332    178.332    271.332    271.332    271.332   \n",
       "3    334.400000    100.320    100.320    100.320    100.320    100.320   \n",
       "4    312.362000    468.543    468.543    658.293    658.293    751.812   \n",
       "\n",
       "          12  \n",
       "0  23155.080  \n",
       "1   1225.554  \n",
       "2    539.172  \n",
       "3    100.320  \n",
       "4    751.812  "
      ]
     },
     "execution_count": 63,
     "metadata": {},
     "output_type": "execute_result"
    }
   ],
   "source": [
    "rfm.head()"
   ]
  },
  {
   "cell_type": "code",
   "execution_count": 64,
   "id": "c9d405f0",
   "metadata": {},
   "outputs": [
    {
     "data": {
      "text/plain": [
       "customer_id      0\n",
       "frequency        0\n",
       "last_purchase    0\n",
       "total_revenue    0\n",
       "recency          0\n",
       "monetary         0\n",
       "7                0\n",
       "8                0\n",
       "9                0\n",
       "10               0\n",
       "11               0\n",
       "12               0\n",
       "dtype: int64"
      ]
     },
     "execution_count": 64,
     "metadata": {},
     "output_type": "execute_result"
    }
   ],
   "source": [
    "rfm.isna().sum()"
   ]
  },
  {
   "cell_type": "markdown",
   "id": "1c68e51b",
   "metadata": {},
   "source": [
    "После присоединения, новых пропусков не появилось. Посмотрим на матрицу корреляций признаков"
   ]
  },
  {
   "cell_type": "code",
   "execution_count": 65,
   "id": "c826dc05",
   "metadata": {},
   "outputs": [
    {
     "data": {
      "image/png": "[encoded data removed]",
      "text/plain": [
       "<Figure size 720x504 with 2 Axes>"
      ]
     },
     "metadata": {
      "needs_background": "light"
     },
     "output_type": "display_data"
    }
   ],
   "source": [
    "plt.figure(figsize=(10, 7))\n",
    "sns.heatmap(rfm[['recency', 'frequency', 'monetary', *range(7, 13)]].corr(), annot=True)\n",
    "plt.title('Матрица корреляций')\n",
    "plt.show()"
   ]
  },
  {
   "cell_type": "markdown",
   "id": "4b14907b",
   "metadata": {},
   "source": [
    "Больше всего с целевыми переменными валовой выручки, коррелирует признак `frequency`. Между предикторами самая большая корреляция у признаков `recency` и `frequency` равная -0.31, т.е. сильно скоррелированные признаков у нас нет. Посмотрим на матрицу диаграмм рассеяния, из переменных валовой выручки, оставим только значения для 12 месяца"
   ]
  },
  {
   "cell_type": "code",
   "execution_count": 66,
   "id": "f5c6849e",
   "metadata": {},
   "outputs": [
    {
     "data": {
      "image/png": "[encoded data removed]",
      "text/plain": [
       "<Figure size 864x576 with 16 Axes>"
      ]
     },
     "metadata": {
      "needs_background": "light"
     },
     "output_type": "display_data"
    }
   ],
   "source": [
    "pd.plotting.scatter_matrix(rfm[['recency', 'frequency', 'monetary', 12]], figsize=(12,8))\n",
    "plt.show()"
   ]
  },
  {
   "cell_type": "markdown",
   "id": "b716afe1",
   "metadata": {},
   "source": [
    "На диаграмма рассеяния также видим, что самая сильная линейная связь с целевой переменной `gross_profit` у признака `frequency`"
   ]
  },
  {
   "cell_type": "markdown",
   "id": "7b23e8d8",
   "metadata": {},
   "source": [
    "#### Подготовка данных"
   ]
  },
  {
   "cell_type": "markdown",
   "id": "cc8f8d90",
   "metadata": {},
   "source": [
    "Разделим выборку на тренировочную и тестовую"
   ]
  },
  {
   "cell_type": "code",
   "execution_count": 67,
   "id": "c7594e00",
   "metadata": {},
   "outputs": [],
   "source": [
    "train_df, test_df = train_test_split(rfm, test_size=0.3, random_state=1)"
   ]
  },
  {
   "cell_type": "markdown",
   "id": "50a7f94d",
   "metadata": {},
   "source": [
    "Выделим целевую переменную и оставим в качестве предикторов признаки `recency`, `frequency`, `monetary`"
   ]
  },
  {
   "cell_type": "code",
   "execution_count": 68,
   "id": "8d3c6172",
   "metadata": {},
   "outputs": [],
   "source": [
    "y_train = train_df[range(7, 13)]\n",
    "y_test = test_df[range(7, 13)]\n",
    "\n",
    "X_train = train_df[['recency', 'frequency', 'monetary']]\n",
    "X_test = test_df[['recency', 'frequency', 'monetary']]"
   ]
  },
  {
   "cell_type": "code",
   "execution_count": 69,
   "id": "ba054e1b",
   "metadata": {},
   "outputs": [
    {
     "data": {
      "text/html": [
       "<div>\n",
       "<style scoped>\n",
       "    .dataframe tbody tr th:only-of-type {\n",
       "        vertical-align: middle;\n",
       "    }\n",
       "\n",
       "    .dataframe tbody tr th {\n",
       "        vertical-align: top;\n",
       "    }\n",
       "\n",
       "    .dataframe thead th {\n",
       "        text-align: right;\n",
       "    }\n",
       "</style>\n",
       "<table border=\"1\" class=\"dataframe\">\n",
       "  <thead>\n",
       "    <tr style=\"text-align: right;\">\n",
       "      <th></th>\n",
       "      <th>recency</th>\n",
       "      <th>frequency</th>\n",
       "      <th>monetary</th>\n",
       "    </tr>\n",
       "  </thead>\n",
       "  <tbody>\n",
       "    <tr>\n",
       "      <th>906</th>\n",
       "      <td>30</td>\n",
       "      <td>1</td>\n",
       "      <td>383.450</td>\n",
       "    </tr>\n",
       "    <tr>\n",
       "      <th>1724</th>\n",
       "      <td>168</td>\n",
       "      <td>1</td>\n",
       "      <td>337.980</td>\n",
       "    </tr>\n",
       "    <tr>\n",
       "      <th>2490</th>\n",
       "      <td>62</td>\n",
       "      <td>1</td>\n",
       "      <td>56.400</td>\n",
       "    </tr>\n",
       "    <tr>\n",
       "      <th>2391</th>\n",
       "      <td>70</td>\n",
       "      <td>2</td>\n",
       "      <td>260.765</td>\n",
       "    </tr>\n",
       "    <tr>\n",
       "      <th>1872</th>\n",
       "      <td>120</td>\n",
       "      <td>1</td>\n",
       "      <td>177.500</td>\n",
       "    </tr>\n",
       "  </tbody>\n",
       "</table>\n",
       "</div>"
      ],
      "text/plain": [
       "      recency  frequency  monetary\n",
       "906        30          1   383.450\n",
       "1724      168          1   337.980\n",
       "2490       62          1    56.400\n",
       "2391       70          2   260.765\n",
       "1872      120          1   177.500"
      ]
     },
     "execution_count": 69,
     "metadata": {},
     "output_type": "execute_result"
    }
   ],
   "source": [
    "X_train.head()"
   ]
  },
  {
   "cell_type": "code",
   "execution_count": 70,
   "id": "e6814fe0",
   "metadata": {},
   "outputs": [
    {
     "data": {
      "text/html": [
       "<div>\n",
       "<style scoped>\n",
       "    .dataframe tbody tr th:only-of-type {\n",
       "        vertical-align: middle;\n",
       "    }\n",
       "\n",
       "    .dataframe tbody tr th {\n",
       "        vertical-align: top;\n",
       "    }\n",
       "\n",
       "    .dataframe thead th {\n",
       "        text-align: right;\n",
       "    }\n",
       "</style>\n",
       "<table border=\"1\" class=\"dataframe\">\n",
       "  <thead>\n",
       "    <tr style=\"text-align: right;\">\n",
       "      <th></th>\n",
       "      <th>7</th>\n",
       "      <th>8</th>\n",
       "      <th>9</th>\n",
       "      <th>10</th>\n",
       "      <th>11</th>\n",
       "      <th>12</th>\n",
       "    </tr>\n",
       "  </thead>\n",
       "  <tbody>\n",
       "    <tr>\n",
       "      <th>906</th>\n",
       "      <td>115.035</td>\n",
       "      <td>115.035</td>\n",
       "      <td>115.035</td>\n",
       "      <td>115.035</td>\n",
       "      <td>115.035</td>\n",
       "      <td>115.035</td>\n",
       "    </tr>\n",
       "    <tr>\n",
       "      <th>1724</th>\n",
       "      <td>0.000</td>\n",
       "      <td>293.892</td>\n",
       "      <td>293.892</td>\n",
       "      <td>293.892</td>\n",
       "      <td>293.892</td>\n",
       "      <td>395.286</td>\n",
       "    </tr>\n",
       "    <tr>\n",
       "      <th>2490</th>\n",
       "      <td>16.920</td>\n",
       "      <td>16.920</td>\n",
       "      <td>16.920</td>\n",
       "      <td>16.920</td>\n",
       "      <td>16.920</td>\n",
       "      <td>16.920</td>\n",
       "    </tr>\n",
       "    <tr>\n",
       "      <th>2391</th>\n",
       "      <td>240.681</td>\n",
       "      <td>335.004</td>\n",
       "      <td>335.004</td>\n",
       "      <td>335.004</td>\n",
       "      <td>335.004</td>\n",
       "      <td>335.004</td>\n",
       "    </tr>\n",
       "    <tr>\n",
       "      <th>1872</th>\n",
       "      <td>53.250</td>\n",
       "      <td>53.250</td>\n",
       "      <td>53.250</td>\n",
       "      <td>53.250</td>\n",
       "      <td>53.250</td>\n",
       "      <td>53.250</td>\n",
       "    </tr>\n",
       "  </tbody>\n",
       "</table>\n",
       "</div>"
      ],
      "text/plain": [
       "            7        8        9       10       11       12\n",
       "906   115.035  115.035  115.035  115.035  115.035  115.035\n",
       "1724    0.000  293.892  293.892  293.892  293.892  395.286\n",
       "2490   16.920   16.920   16.920   16.920   16.920   16.920\n",
       "2391  240.681  335.004  335.004  335.004  335.004  335.004\n",
       "1872   53.250   53.250   53.250   53.250   53.250   53.250"
      ]
     },
     "execution_count": 70,
     "metadata": {},
     "output_type": "execute_result"
    }
   ],
   "source": [
    "y_train.head()"
   ]
  },
  {
   "cell_type": "markdown",
   "id": "8f2d8153",
   "metadata": {},
   "source": [
    "#### Линейная регрессия"
   ]
  },
  {
   "cell_type": "markdown",
   "id": "20be7946",
   "metadata": {},
   "source": [
    "Хоть мы и проверили, что у нас нет сильно скореллированных признаков, для прогноза будем пользоваться линейной регрессией с регуляризацией Lasso"
   ]
  },
  {
   "cell_type": "code",
   "execution_count": 71,
   "id": "18dc0036",
   "metadata": {},
   "outputs": [],
   "source": [
    "from sklearn.linear_model import Lasso\n",
    "from sklearn.preprocessing import StandardScaler\n",
    "from sklearn.model_selection import RandomizedSearchCV"
   ]
  },
  {
   "cell_type": "markdown",
   "id": "472b2edd",
   "metadata": {},
   "source": [
    "Воспользуемся стандартизацией, чтобы привести значения признаков к единому масштабу"
   ]
  },
  {
   "cell_type": "code",
   "execution_count": 72,
   "id": "4bd36fab",
   "metadata": {},
   "outputs": [],
   "source": [
    "scaler = StandardScaler()\n",
    "X_train_scaled = scaler.fit_transform(X_train)\n",
    "X_test_scaled = scaler.transform(X_test)"
   ]
  },
  {
   "cell_type": "markdown",
   "id": "481e19fa",
   "metadata": {},
   "source": [
    "Напишем функцию, которая будет обучать модель и предсказывать значения валовой выручки на каждый месяц"
   ]
  },
  {
   "cell_type": "code",
   "execution_count": 73,
   "id": "c158ff9d",
   "metadata": {},
   "outputs": [],
   "source": [
    "def set_predicts(df, reg_model, X_train, X_test, y_train, y_test, params={}):\n",
    "    df = df.copy()\n",
    "    models = []\n",
    "    for month in y_train:\n",
    "        model = reg_model(**params)\n",
    "        model.fit(X_train, y_train[month])\n",
    "        predict = model.predict(X_test)\n",
    "        print(f'Ошибки прогноза за {month} месяц')\n",
    "        print_reg_metrics(y_test[month]+1, predict+1)\n",
    "        print()\n",
    "        df[f'predict_{month}month'] = predict\n",
    "        models.append(model)\n",
    "    return models, df"
   ]
  },
  {
   "cell_type": "code",
   "execution_count": 74,
   "id": "97649bd9",
   "metadata": {},
   "outputs": [
    {
     "name": "stdout",
     "output_type": "stream",
     "text": [
      "Ошибки прогноза за 7 месяц\n",
      "MAE: 289.24\n",
      "MAPE: 830.02\n",
      "\n",
      "Ошибки прогноза за 8 месяц\n",
      "MAE: 353.53\n",
      "MAPE: 819.27\n",
      "\n",
      "Ошибки прогноза за 9 месяц\n",
      "MAE: 442.33\n",
      "MAPE: 839.13\n",
      "\n",
      "Ошибки прогноза за 10 месяц\n",
      "MAE: 519.75\n",
      "MAPE: 860.38\n",
      "\n",
      "Ошибки прогноза за 11 месяц\n",
      "MAE: 590.28\n",
      "MAPE: 671.15\n",
      "\n",
      "Ошибки прогноза за 12 месяц\n",
      "MAE: 607.65\n",
      "MAPE: 134.21\n",
      "\n"
     ]
    },
    {
     "data": {
      "text/html": [
       "<div>\n",
       "<style scoped>\n",
       "    .dataframe tbody tr th:only-of-type {\n",
       "        vertical-align: middle;\n",
       "    }\n",
       "\n",
       "    .dataframe tbody tr th {\n",
       "        vertical-align: top;\n",
       "    }\n",
       "\n",
       "    .dataframe thead th {\n",
       "        text-align: right;\n",
       "    }\n",
       "</style>\n",
       "<table border=\"1\" class=\"dataframe\">\n",
       "  <thead>\n",
       "    <tr style=\"text-align: right;\">\n",
       "      <th></th>\n",
       "      <th>recency</th>\n",
       "      <th>frequency</th>\n",
       "      <th>monetary</th>\n",
       "      <th>predict_7month</th>\n",
       "      <th>predict_8month</th>\n",
       "      <th>predict_9month</th>\n",
       "      <th>predict_10month</th>\n",
       "      <th>predict_11month</th>\n",
       "      <th>predict_12month</th>\n",
       "    </tr>\n",
       "  </thead>\n",
       "  <tbody>\n",
       "    <tr>\n",
       "      <th>1483</th>\n",
       "      <td>124</td>\n",
       "      <td>1</td>\n",
       "      <td>930.3000</td>\n",
       "      <td>279.502334</td>\n",
       "      <td>289.035491</td>\n",
       "      <td>304.166484</td>\n",
       "      <td>327.649200</td>\n",
       "      <td>359.401173</td>\n",
       "      <td>396.117514</td>\n",
       "    </tr>\n",
       "    <tr>\n",
       "      <th>255</th>\n",
       "      <td>21</td>\n",
       "      <td>2</td>\n",
       "      <td>177.0600</td>\n",
       "      <td>183.108004</td>\n",
       "      <td>208.929716</td>\n",
       "      <td>241.585092</td>\n",
       "      <td>270.466906</td>\n",
       "      <td>311.815822</td>\n",
       "      <td>319.986255</td>\n",
       "    </tr>\n",
       "    <tr>\n",
       "      <th>2377</th>\n",
       "      <td>179</td>\n",
       "      <td>2</td>\n",
       "      <td>149.2600</td>\n",
       "      <td>162.921350</td>\n",
       "      <td>197.319468</td>\n",
       "      <td>250.432063</td>\n",
       "      <td>320.227215</td>\n",
       "      <td>397.264997</td>\n",
       "      <td>501.523548</td>\n",
       "    </tr>\n",
       "    <tr>\n",
       "      <th>1122</th>\n",
       "      <td>6</td>\n",
       "      <td>4</td>\n",
       "      <td>131.4225</td>\n",
       "      <td>565.171502</td>\n",
       "      <td>658.816860</td>\n",
       "      <td>779.016884</td>\n",
       "      <td>914.433748</td>\n",
       "      <td>1045.041086</td>\n",
       "      <td>1127.105843</td>\n",
       "    </tr>\n",
       "    <tr>\n",
       "      <th>1544</th>\n",
       "      <td>76</td>\n",
       "      <td>4</td>\n",
       "      <td>350.6125</td>\n",
       "      <td>649.059198</td>\n",
       "      <td>750.358236</td>\n",
       "      <td>883.922835</td>\n",
       "      <td>1044.634880</td>\n",
       "      <td>1195.224201</td>\n",
       "      <td>1322.156814</td>\n",
       "    </tr>\n",
       "  </tbody>\n",
       "</table>\n",
       "</div>"
      ],
      "text/plain": [
       "      recency  frequency  monetary  predict_7month  predict_8month  \\\n",
       "1483      124          1  930.3000      279.502334      289.035491   \n",
       "255        21          2  177.0600      183.108004      208.929716   \n",
       "2377      179          2  149.2600      162.921350      197.319468   \n",
       "1122        6          4  131.4225      565.171502      658.816860   \n",
       "1544       76          4  350.6125      649.059198      750.358236   \n",
       "\n",
       "      predict_9month  predict_10month  predict_11month  predict_12month  \n",
       "1483      304.166484       327.649200       359.401173       396.117514  \n",
       "255       241.585092       270.466906       311.815822       319.986255  \n",
       "2377      250.432063       320.227215       397.264997       501.523548  \n",
       "1122      779.016884       914.433748      1045.041086      1127.105843  \n",
       "1544      883.922835      1044.634880      1195.224201      1322.156814  "
      ]
     },
     "execution_count": 74,
     "metadata": {},
     "output_type": "execute_result"
    }
   ],
   "source": [
    "models, pred_df = set_predicts(\n",
    "    X_test, \n",
    "    Lasso, \n",
    "    X_train_scaled, \n",
    "    X_test_scaled, \n",
    "    y_train, \n",
    "    y_test\n",
    ")\n",
    "\n",
    "pred_df.head()"
   ]
  },
  {
   "cell_type": "markdown",
   "id": "6f663b94",
   "metadata": {},
   "source": [
    "Посмотрим на фактические и рассчитанные с помощью предсказанной валовой прибыли значения CLV по месяцам"
   ]
  },
  {
   "cell_type": "code",
   "execution_count": 75,
   "id": "c4085dad",
   "metadata": {},
   "outputs": [],
   "source": [
    "clv_true = df[df['customer_id'].isin(test_df['customer_id'])]"
   ]
  },
  {
   "cell_type": "markdown",
   "id": "3462096f",
   "metadata": {},
   "source": [
    "Сгруппируем фактические значения по месяцам"
   ]
  },
  {
   "cell_type": "code",
   "execution_count": 76,
   "id": "c83f97dc",
   "metadata": {},
   "outputs": [
    {
     "data": {
      "text/html": [
       "<div>\n",
       "<style scoped>\n",
       "    .dataframe tbody tr th:only-of-type {\n",
       "        vertical-align: middle;\n",
       "    }\n",
       "\n",
       "    .dataframe tbody tr th {\n",
       "        vertical-align: top;\n",
       "    }\n",
       "\n",
       "    .dataframe thead th {\n",
       "        text-align: right;\n",
       "    }\n",
       "</style>\n",
       "<table border=\"1\" class=\"dataframe\">\n",
       "  <thead>\n",
       "    <tr style=\"text-align: right;\">\n",
       "      <th></th>\n",
       "      <th>clv</th>\n",
       "    </tr>\n",
       "    <tr>\n",
       "      <th>month_num</th>\n",
       "      <th></th>\n",
       "    </tr>\n",
       "  </thead>\n",
       "  <tbody>\n",
       "    <tr>\n",
       "      <th>1</th>\n",
       "      <td>57.507607</td>\n",
       "    </tr>\n",
       "    <tr>\n",
       "      <th>2</th>\n",
       "      <td>108.692224</td>\n",
       "    </tr>\n",
       "    <tr>\n",
       "      <th>3</th>\n",
       "      <td>180.514199</td>\n",
       "    </tr>\n",
       "    <tr>\n",
       "      <th>4</th>\n",
       "      <td>234.514603</td>\n",
       "    </tr>\n",
       "    <tr>\n",
       "      <th>5</th>\n",
       "      <td>312.338919</td>\n",
       "    </tr>\n",
       "    <tr>\n",
       "      <th>6</th>\n",
       "      <td>362.461151</td>\n",
       "    </tr>\n",
       "    <tr>\n",
       "      <th>7</th>\n",
       "      <td>426.578305</td>\n",
       "    </tr>\n",
       "    <tr>\n",
       "      <th>8</th>\n",
       "      <td>493.964596</td>\n",
       "    </tr>\n",
       "    <tr>\n",
       "      <th>9</th>\n",
       "      <td>590.114901</td>\n",
       "    </tr>\n",
       "    <tr>\n",
       "      <th>10</th>\n",
       "      <td>667.343860</td>\n",
       "    </tr>\n",
       "    <tr>\n",
       "      <th>11</th>\n",
       "      <td>771.960974</td>\n",
       "    </tr>\n",
       "    <tr>\n",
       "      <th>12</th>\n",
       "      <td>830.785437</td>\n",
       "    </tr>\n",
       "  </tbody>\n",
       "</table>\n",
       "</div>"
      ],
      "text/plain": [
       "                  clv\n",
       "month_num            \n",
       "1           57.507607\n",
       "2          108.692224\n",
       "3          180.514199\n",
       "4          234.514603\n",
       "5          312.338919\n",
       "6          362.461151\n",
       "7          426.578305\n",
       "8          493.964596\n",
       "9          590.114901\n",
       "10         667.343860\n",
       "11         771.960974\n",
       "12         830.785437"
      ]
     },
     "execution_count": 76,
     "metadata": {},
     "output_type": "execute_result"
    }
   ],
   "source": [
    "clv_true_by_month = (\n",
    "    (clv_true.groupby('month_num').agg(clv=('revenue', 'sum')) * 0.3)\n",
    "             .cumsum() / len(test_df['customer_id'])\n",
    ")\n",
    "\n",
    "clv_true_by_month"
   ]
  },
  {
   "cell_type": "code",
   "execution_count": 77,
   "id": "d4c99833",
   "metadata": {},
   "outputs": [
    {
     "data": {
      "text/plain": [
       "array([421.58315707, 481.06688624, 559.34846076, 650.48267838,\n",
       "       742.61946989, 811.8003393 ])"
      ]
     },
     "execution_count": 77,
     "metadata": {},
     "output_type": "execute_result"
    }
   ],
   "source": [
    "clv_pred = (pred_df.iloc[::, 3:].sum() / len(pred_df)).values\n",
    "clv_pred"
   ]
  },
  {
   "cell_type": "markdown",
   "id": "b4c6a0ab",
   "metadata": {},
   "source": [
    "Посмотрим на предсказанные и фактические значения CLV на графике"
   ]
  },
  {
   "cell_type": "code",
   "execution_count": 78,
   "id": "497b1111",
   "metadata": {},
   "outputs": [
    {
     "data": {
      "image/png": "[encoded data removed]",
      "text/plain": [
       "<Figure size 720x360 with 1 Axes>"
      ]
     },
     "metadata": {
      "needs_background": "light"
     },
     "output_type": "display_data"
    }
   ],
   "source": [
    "plt.figure(figsize=(10, 5))\n",
    "plt.plot(\n",
    "    clv_true_by_month.index, \n",
    "    clv_true_by_month['clv'], \n",
    "    'o-', \n",
    "    label='фактический CLV'\n",
    ")\n",
    "plt.plot(range(7, 13), clv_pred, 'o--', color='red', label='прогнозируемый CLV')\n",
    "plt.legend()\n",
    "plt.grid()\n",
    "plt.title('CLV фактические и прогнозируемые значения')\n",
    "plt.ylabel('CLV')\n",
    "plt.xlabel('Месяцев с первой покупки (Лайфтайм)')\n",
    "plt.show()"
   ]
  },
  {
   "cell_type": "markdown",
   "id": "0e46f737",
   "metadata": {},
   "source": [
    "Предсказанные значения немного ниже фактических. Посмотрим на значения ошибок для значений CLV"
   ]
  },
  {
   "cell_type": "code",
   "execution_count": 79,
   "id": "82f50397",
   "metadata": {},
   "outputs": [
    {
     "name": "stdout",
     "output_type": "stream",
     "text": [
      "MAE: 18.97\n",
      "MAPE: 2.93\n"
     ]
    }
   ],
   "source": [
    "print_reg_metrics(clv_true_by_month.iloc[6:]['clv'], clv_pred)"
   ]
  },
  {
   "cell_type": "markdown",
   "id": "6eee2e10",
   "metadata": {},
   "source": [
    "Несмотря на то, что прогнозирование валовой выручки для отдельных пользователей в среднем нам давало довольно большую ошибку, значения CLV рассчитанные по прогнозам валовой выручки довольно близки к фактическим. Посмотрим важность признаков для всех моделей"
   ]
  },
  {
   "cell_type": "code",
   "execution_count": 80,
   "id": "34945bdb",
   "metadata": {},
   "outputs": [],
   "source": [
    "def feature_importances_plots(models, features_key='coef_'):\n",
    "    plt.figure(figsize=(25, 15))\n",
    "    plt.suptitle('Важность признаков моделей', fontsize=26)\n",
    "    for i, model in enumerate(models):\n",
    "        with plt.style.context('bmh'):\n",
    "            model_coef_df = pd.DataFrame(\n",
    "                model.coef_ if features_key == 'coef_' else model.feature_importances_, \n",
    "                X_train.columns\n",
    "            )\n",
    "            ax = model_coef_df.plot(kind='bar', legend=False, ax=plt.subplot(2, 3, i+1))\n",
    "            plt.xticks(fontsize=18)\n",
    "            plt.bar_label(ax.containers[0], label_type='center', fontsize=16, fontweight=600, padding=10)\n",
    "            plt.tight_layout()\n",
    "    plt.show()"
   ]
  },
  {
   "cell_type": "code",
   "execution_count": 81,
   "id": "7c803dce",
   "metadata": {},
   "outputs": [
    {
     "data": {
      "image/png": "[encoded data removed]",
      "text/plain": [
       "<Figure size 1800x1080 with 6 Axes>"
      ]
     },
     "metadata": {
      "needs_background": "light"
     },
     "output_type": "display_data"
    }
   ],
   "source": [
    "feature_importances_plots(models)"
   ]
  },
  {
   "cell_type": "markdown",
   "id": "0b62ff6b",
   "metadata": {},
   "source": [
    "Выводы по важности признаков для моделей линейной регрессии\n",
    "\n",
    "- Для всех моделей важными являются признаки `frequency` и `monetary`\n",
    "- `frequency` самый важный признак для всех моделей\n",
    "- Признак `recency` не имеет важности для моделей"
   ]
  },
  {
   "cell_type": "markdown",
   "id": "4472a530",
   "metadata": {},
   "source": [
    "#### Случайный лес"
   ]
  },
  {
   "cell_type": "code",
   "execution_count": 82,
   "id": "9ec47259",
   "metadata": {},
   "outputs": [],
   "source": [
    "from sklearn.ensemble import RandomForestRegressor"
   ]
  },
  {
   "cell_type": "code",
   "execution_count": 83,
   "id": "410b9c76",
   "metadata": {},
   "outputs": [
    {
     "name": "stdout",
     "output_type": "stream",
     "text": [
      "Ошибки прогноза за 7 месяц\n",
      "MAE: 182.69\n",
      "MAPE: 390.95\n",
      "\n",
      "Ошибки прогноза за 8 месяц\n",
      "MAE: 233.10\n",
      "MAPE: 477.38\n",
      "\n",
      "Ошибки прогноза за 9 месяц\n",
      "MAE: 319.41\n",
      "MAPE: 606.30\n",
      "\n",
      "Ошибки прогноза за 10 месяц\n",
      "MAE: 371.98\n",
      "MAPE: 737.83\n",
      "\n",
      "Ошибки прогноза за 11 месяц\n",
      "MAE: 435.07\n",
      "MAPE: 692.03\n",
      "\n",
      "Ошибки прогноза за 12 месяц\n",
      "MAE: 414.14\n",
      "MAPE: 71.39\n",
      "\n"
     ]
    },
    {
     "data": {
      "text/html": [
       "<div>\n",
       "<style scoped>\n",
       "    .dataframe tbody tr th:only-of-type {\n",
       "        vertical-align: middle;\n",
       "    }\n",
       "\n",
       "    .dataframe tbody tr th {\n",
       "        vertical-align: top;\n",
       "    }\n",
       "\n",
       "    .dataframe thead th {\n",
       "        text-align: right;\n",
       "    }\n",
       "</style>\n",
       "<table border=\"1\" class=\"dataframe\">\n",
       "  <thead>\n",
       "    <tr style=\"text-align: right;\">\n",
       "      <th></th>\n",
       "      <th>recency</th>\n",
       "      <th>frequency</th>\n",
       "      <th>monetary</th>\n",
       "      <th>predict_7month</th>\n",
       "      <th>predict_8month</th>\n",
       "      <th>predict_9month</th>\n",
       "      <th>predict_10month</th>\n",
       "      <th>predict_11month</th>\n",
       "      <th>predict_12month</th>\n",
       "    </tr>\n",
       "  </thead>\n",
       "  <tbody>\n",
       "    <tr>\n",
       "      <th>1483</th>\n",
       "      <td>124</td>\n",
       "      <td>1</td>\n",
       "      <td>930.3000</td>\n",
       "      <td>494.46186</td>\n",
       "      <td>514.70196</td>\n",
       "      <td>547.70049</td>\n",
       "      <td>562.64211</td>\n",
       "      <td>690.78933</td>\n",
       "      <td>738.32664</td>\n",
       "    </tr>\n",
       "    <tr>\n",
       "      <th>255</th>\n",
       "      <td>21</td>\n",
       "      <td>2</td>\n",
       "      <td>177.0600</td>\n",
       "      <td>141.98766</td>\n",
       "      <td>167.69541</td>\n",
       "      <td>205.72800</td>\n",
       "      <td>270.99288</td>\n",
       "      <td>337.96821</td>\n",
       "      <td>378.75519</td>\n",
       "    </tr>\n",
       "    <tr>\n",
       "      <th>2377</th>\n",
       "      <td>179</td>\n",
       "      <td>2</td>\n",
       "      <td>149.2600</td>\n",
       "      <td>6.38655</td>\n",
       "      <td>7.99095</td>\n",
       "      <td>23.24346</td>\n",
       "      <td>27.49860</td>\n",
       "      <td>29.54613</td>\n",
       "      <td>107.21472</td>\n",
       "    </tr>\n",
       "    <tr>\n",
       "      <th>1122</th>\n",
       "      <td>6</td>\n",
       "      <td>4</td>\n",
       "      <td>131.4225</td>\n",
       "      <td>181.27479</td>\n",
       "      <td>240.80382</td>\n",
       "      <td>244.30710</td>\n",
       "      <td>245.61003</td>\n",
       "      <td>337.23135</td>\n",
       "      <td>283.20870</td>\n",
       "    </tr>\n",
       "    <tr>\n",
       "      <th>1544</th>\n",
       "      <td>76</td>\n",
       "      <td>4</td>\n",
       "      <td>350.6125</td>\n",
       "      <td>401.70600</td>\n",
       "      <td>556.48803</td>\n",
       "      <td>630.04764</td>\n",
       "      <td>739.27725</td>\n",
       "      <td>902.20572</td>\n",
       "      <td>1045.35228</td>\n",
       "    </tr>\n",
       "  </tbody>\n",
       "</table>\n",
       "</div>"
      ],
      "text/plain": [
       "      recency  frequency  monetary  predict_7month  predict_8month  \\\n",
       "1483      124          1  930.3000       494.46186       514.70196   \n",
       "255        21          2  177.0600       141.98766       167.69541   \n",
       "2377      179          2  149.2600         6.38655         7.99095   \n",
       "1122        6          4  131.4225       181.27479       240.80382   \n",
       "1544       76          4  350.6125       401.70600       556.48803   \n",
       "\n",
       "      predict_9month  predict_10month  predict_11month  predict_12month  \n",
       "1483       547.70049        562.64211        690.78933        738.32664  \n",
       "255        205.72800        270.99288        337.96821        378.75519  \n",
       "2377        23.24346         27.49860         29.54613        107.21472  \n",
       "1122       244.30710        245.61003        337.23135        283.20870  \n",
       "1544       630.04764        739.27725        902.20572       1045.35228  "
      ]
     },
     "execution_count": 83,
     "metadata": {},
     "output_type": "execute_result"
    }
   ],
   "source": [
    "rf_models, pred_df = set_predicts(\n",
    "    X_test, \n",
    "    RandomForestRegressor, \n",
    "    X_train, \n",
    "    X_test, \n",
    "    y_train,\n",
    "    y_test\n",
    ")\n",
    "\n",
    "pred_df.head()"
   ]
  },
  {
   "cell_type": "markdown",
   "id": "42074706",
   "metadata": {},
   "source": [
    "MAE и MAPE значительно ниже, чем у модели линейной регрессии. Посмотрим на предсказанные и фактические значения CLV"
   ]
  },
  {
   "cell_type": "code",
   "execution_count": 84,
   "id": "d438bc77",
   "metadata": {},
   "outputs": [],
   "source": [
    "clv_pred = (pred_df.iloc[::, 3:].sum() / len(pred_df)).values"
   ]
  },
  {
   "cell_type": "code",
   "execution_count": 85,
   "id": "f82bd878",
   "metadata": {},
   "outputs": [
    {
     "data": {
      "image/png": "[encoded data removed]",
      "text/plain": [
       "<Figure size 720x360 with 1 Axes>"
      ]
     },
     "metadata": {
      "needs_background": "light"
     },
     "output_type": "display_data"
    }
   ],
   "source": [
    "plt.figure(figsize=(10, 5))\n",
    "plt.plot(\n",
    "    clv_true_by_month.index, \n",
    "    clv_true_by_month['clv'], \n",
    "    'o-', \n",
    "    label='фактический CLV'\n",
    ")\n",
    "plt.plot(range(7, 13), clv_pred, 'o--', color='red', label='прогнозируемый CLV')\n",
    "plt.legend()\n",
    "plt.grid()\n",
    "plt.title('CLV фактические и прогнозируемые значения')\n",
    "plt.ylabel('CLV')\n",
    "plt.xlabel('Месяцев с первой покупки (Лайфтайм)')\n",
    "plt.show()"
   ]
  },
  {
   "cell_type": "code",
   "execution_count": 86,
   "id": "3f15a8b9",
   "metadata": {},
   "outputs": [
    {
     "name": "stdout",
     "output_type": "stream",
     "text": [
      "MAE: 33.00\n",
      "MAPE: 5.42\n"
     ]
    }
   ],
   "source": [
    "print_reg_metrics(clv_true_by_month.iloc[6:]['clv'], clv_pred)"
   ]
  },
  {
   "cell_type": "markdown",
   "id": "0d48c6ff",
   "metadata": {},
   "source": [
    "Random Forest значительно лучше предсказывает валовую выручку для каждого отдельного пользователя, однако CLV рассчитанное по этим предсказанным значениям оказался хуже, чем у модели линейной регрессии. Посмотрим важность признаков"
   ]
  },
  {
   "cell_type": "code",
   "execution_count": 87,
   "id": "c381e397",
   "metadata": {},
   "outputs": [
    {
     "data": {
      "image/png": "[encoded data removed]",
      "text/plain": [
       "<Figure size 1800x1080 with 6 Axes>"
      ]
     },
     "metadata": {
      "needs_background": "light"
     },
     "output_type": "display_data"
    }
   ],
   "source": [
    "feature_importances_plots(rf_models, 'feature_imp')"
   ]
  },
  {
   "cell_type": "markdown",
   "id": "49fd339b",
   "metadata": {},
   "source": [
    "Выводы по важности признаков для моделей Random Forest:\n",
    "\n",
    "- `monetary` самый важный признак для всех моделей\n",
    "- Признак `recency` наименее важный признак"
   ]
  },
  {
   "cell_type": "markdown",
   "id": "380f2435",
   "metadata": {},
   "source": [
    "#### Catboost"
   ]
  },
  {
   "cell_type": "code",
   "execution_count": 94,
   "id": "8115b0dd",
   "metadata": {},
   "outputs": [],
   "source": [
    "from catboost import CatBoostRegressor"
   ]
  },
  {
   "cell_type": "code",
   "execution_count": 89,
   "id": "40707bc1",
   "metadata": {},
   "outputs": [
    {
     "name": "stdout",
     "output_type": "stream",
     "text": [
      "Ошибки прогноза за 7 месяц\n",
      "MAE: 162.40\n",
      "MAPE: 297.25\n",
      "\n",
      "Ошибки прогноза за 8 месяц\n",
      "MAE: 210.36\n",
      "MAPE: 406.88\n",
      "\n",
      "Ошибки прогноза за 9 месяц\n",
      "MAE: 231.74\n",
      "MAPE: 484.26\n",
      "\n",
      "Ошибки прогноза за 10 месяц\n",
      "MAE: 294.24\n",
      "MAPE: 599.87\n",
      "\n",
      "Ошибки прогноза за 11 месяц\n",
      "MAE: 338.52\n",
      "MAPE: 568.17\n",
      "\n",
      "Ошибки прогноза за 12 месяц\n",
      "MAE: 333.16\n",
      "MAPE: 67.23\n",
      "\n"
     ]
    },
    {
     "data": {
      "text/html": [
       "<div>\n",
       "<style scoped>\n",
       "    .dataframe tbody tr th:only-of-type {\n",
       "        vertical-align: middle;\n",
       "    }\n",
       "\n",
       "    .dataframe tbody tr th {\n",
       "        vertical-align: top;\n",
       "    }\n",
       "\n",
       "    .dataframe thead th {\n",
       "        text-align: right;\n",
       "    }\n",
       "</style>\n",
       "<table border=\"1\" class=\"dataframe\">\n",
       "  <thead>\n",
       "    <tr style=\"text-align: right;\">\n",
       "      <th></th>\n",
       "      <th>recency</th>\n",
       "      <th>frequency</th>\n",
       "      <th>monetary</th>\n",
       "      <th>predict_7month</th>\n",
       "      <th>predict_8month</th>\n",
       "      <th>predict_9month</th>\n",
       "      <th>predict_10month</th>\n",
       "      <th>predict_11month</th>\n",
       "      <th>predict_12month</th>\n",
       "    </tr>\n",
       "  </thead>\n",
       "  <tbody>\n",
       "    <tr>\n",
       "      <th>1483</th>\n",
       "      <td>124</td>\n",
       "      <td>1</td>\n",
       "      <td>930.3000</td>\n",
       "      <td>289.057506</td>\n",
       "      <td>290.332807</td>\n",
       "      <td>345.948861</td>\n",
       "      <td>455.708467</td>\n",
       "      <td>504.526303</td>\n",
       "      <td>564.199329</td>\n",
       "    </tr>\n",
       "    <tr>\n",
       "      <th>255</th>\n",
       "      <td>21</td>\n",
       "      <td>2</td>\n",
       "      <td>177.0600</td>\n",
       "      <td>142.209252</td>\n",
       "      <td>157.123418</td>\n",
       "      <td>181.182575</td>\n",
       "      <td>216.282646</td>\n",
       "      <td>256.160172</td>\n",
       "      <td>281.267009</td>\n",
       "    </tr>\n",
       "    <tr>\n",
       "      <th>2377</th>\n",
       "      <td>179</td>\n",
       "      <td>2</td>\n",
       "      <td>149.2600</td>\n",
       "      <td>13.087148</td>\n",
       "      <td>9.964377</td>\n",
       "      <td>-0.448859</td>\n",
       "      <td>9.437844</td>\n",
       "      <td>3.843739</td>\n",
       "      <td>115.028730</td>\n",
       "    </tr>\n",
       "    <tr>\n",
       "      <th>1122</th>\n",
       "      <td>6</td>\n",
       "      <td>4</td>\n",
       "      <td>131.4225</td>\n",
       "      <td>188.588719</td>\n",
       "      <td>212.013749</td>\n",
       "      <td>208.114493</td>\n",
       "      <td>246.854736</td>\n",
       "      <td>327.065511</td>\n",
       "      <td>320.406565</td>\n",
       "    </tr>\n",
       "    <tr>\n",
       "      <th>1544</th>\n",
       "      <td>76</td>\n",
       "      <td>4</td>\n",
       "      <td>350.6125</td>\n",
       "      <td>383.741689</td>\n",
       "      <td>449.792427</td>\n",
       "      <td>495.095414</td>\n",
       "      <td>612.678218</td>\n",
       "      <td>720.920534</td>\n",
       "      <td>833.784138</td>\n",
       "    </tr>\n",
       "  </tbody>\n",
       "</table>\n",
       "</div>"
      ],
      "text/plain": [
       "      recency  frequency  monetary  predict_7month  predict_8month  \\\n",
       "1483      124          1  930.3000      289.057506      290.332807   \n",
       "255        21          2  177.0600      142.209252      157.123418   \n",
       "2377      179          2  149.2600       13.087148        9.964377   \n",
       "1122        6          4  131.4225      188.588719      212.013749   \n",
       "1544       76          4  350.6125      383.741689      449.792427   \n",
       "\n",
       "      predict_9month  predict_10month  predict_11month  predict_12month  \n",
       "1483      345.948861       455.708467       504.526303       564.199329  \n",
       "255       181.182575       216.282646       256.160172       281.267009  \n",
       "2377       -0.448859         9.437844         3.843739       115.028730  \n",
       "1122      208.114493       246.854736       327.065511       320.406565  \n",
       "1544      495.095414       612.678218       720.920534       833.784138  "
      ]
     },
     "execution_count": 89,
     "metadata": {},
     "output_type": "execute_result"
    }
   ],
   "source": [
    "cb_models, pred_df = set_predicts(\n",
    "    X_test, \n",
    "    CatBoostRegressor, \n",
    "    X_train, \n",
    "    X_test, \n",
    "    y_train,\n",
    "    y_test,\n",
    "    params={'verbose': False}\n",
    ")\n",
    "\n",
    "pred_df.head()"
   ]
  },
  {
   "cell_type": "markdown",
   "id": "3fd5fcb2",
   "metadata": {},
   "source": [
    "MAE и MAPE значительно ниже, чем у моделей линейной регрессии и моделей случайного леса. Посмотрим на предсказанные и фактические значения CLV"
   ]
  },
  {
   "cell_type": "code",
   "execution_count": 90,
   "id": "0b141b4a",
   "metadata": {},
   "outputs": [],
   "source": [
    "clv_pred = (pred_df.iloc[::, 3:].sum() / len(pred_df)).values"
   ]
  },
  {
   "cell_type": "code",
   "execution_count": 91,
   "id": "991110b1",
   "metadata": {},
   "outputs": [
    {
     "data": {
      "image/png": "[encoded data removed]",
      "text/plain": [
       "<Figure size 720x360 with 1 Axes>"
      ]
     },
     "metadata": {
      "needs_background": "light"
     },
     "output_type": "display_data"
    }
   ],
   "source": [
    "plt.figure(figsize=(10, 5))\n",
    "plt.plot(\n",
    "    clv_true_by_month.index, \n",
    "    clv_true_by_month['clv'], \n",
    "    'o-', \n",
    "    label='фактический CLV'\n",
    ")\n",
    "plt.plot(range(7, 13), clv_pred, 'o--', color='red', label='прогнозируемый CLV')\n",
    "plt.legend()\n",
    "plt.grid()\n",
    "plt.title('CLV фактические и прогнозируемые значения')\n",
    "plt.ylabel('CLV')\n",
    "plt.xlabel('Месяцев с первой покупки (Лайфтайм)')\n",
    "plt.show()"
   ]
  },
  {
   "cell_type": "code",
   "execution_count": 92,
   "id": "ad75bf0e",
   "metadata": {},
   "outputs": [
    {
     "name": "stdout",
     "output_type": "stream",
     "text": [
      "MAE: 15.50\n",
      "MAPE: 2.28\n"
     ]
    }
   ],
   "source": [
    "print_reg_metrics(clv_true_by_month.iloc[6:]['clv'], clv_pred)"
   ]
  },
  {
   "cell_type": "markdown",
   "id": "6827b5af",
   "metadata": {},
   "source": [
    "CatBoost значительно лучше предсказывает валовую выручку для каждого отдельного пользователя и CLV рассчитанные по этим предсказанным значениям самое точное среди всех моделей. Посмотрим важность признаков"
   ]
  },
  {
   "cell_type": "code",
   "execution_count": 93,
   "id": "cacea40a",
   "metadata": {},
   "outputs": [
    {
     "data": {
      "image/png": "[encoded data removed]",
      "text/plain": [
       "<Figure size 1800x1080 with 6 Axes>"
      ]
     },
     "metadata": {
      "needs_background": "light"
     },
     "output_type": "display_data"
    }
   ],
   "source": [
    "feature_importances_plots(cb_models, 'feature_imp')"
   ]
  },
  {
   "cell_type": "markdown",
   "id": "2c607e76",
   "metadata": {},
   "source": [
    "Выводы по важности признаков для моделей CatBoost:\n",
    "\n",
    "- Признак `recency` получил значительно большую важность, чем у моделей линейной регрессии и случайного леса\n",
    "- Также как и у моделей случайного леса, признак `monetary` самый важный"
   ]
  },
  {
   "cell_type": "markdown",
   "id": "c74cc97b",
   "metadata": {},
   "source": [
    "## Выводы\n",
    "\n",
    "- Расчет CLV лучше делать с помощью валовой выручки, в нашем случае доля валовой выручки составляет 26-30% (e-commerce), поэтому использовав просто выручку при расчете будем получать сильно искаженные значения в лучшую сторону\n",
    "- Прогнозирование CLV при помощи анализа графика метрики и аппроксимации функции, в нашем случае сработало очень хорошо, однако при данном подходе мы не видим деталей, то есть отдельных значений признаков для каждого клиента\n",
    "- Прогнозирование CLV с помощью алгоритмов регрессии машинного обучения, также работает довольно хорошо, лучше всех с прогнозом, в нашем случае, справился алгоритм CatBoost. При данном подходе мы получаем возможность не только прогнозировать общий CLV, но и анализировать признаки у каждого отдельного пользователя или групп пользователей, а также интерпретировать решение моделей по важности признаков предикторов"
   ]
  }
 ],
 "metadata": {
  "kernelspec": {
   "display_name": "Python 3",
   "language": "python",
   "name": "python3"
  },
  "language_info": {
   "codemirror_mode": {
    "name": "ipython",
    "version": 3
   },
   "file_extension": ".py",
   "mimetype": "text/x-python",
   "name": "python",
   "nbconvert_exporter": "python",
   "pygments_lexer": "ipython3",
   "version": "3.8.10"
  },
  "toc": {
   "base_numbering": 1,
   "nav_menu": {},
   "number_sections": true,
   "sideBar": true,
   "skip_h1_title": true,
   "title_cell": "Содержание",
   "title_sidebar": "Contents",
   "toc_cell": true,
   "toc_position": {},
   "toc_section_display": true,
   "toc_window_display": false
  }
 },
 "nbformat": 4,
 "nbformat_minor": 5
}
