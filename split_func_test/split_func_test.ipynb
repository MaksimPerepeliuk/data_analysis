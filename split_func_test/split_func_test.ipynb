{
 "cells": [
  {
   "cell_type": "markdown",
   "id": "6e137cba",
   "metadata": {
    "toc": true
   },
   "source": [
    "<h1>Содержание<span class=\"tocSkip\"></span></h1>\n",
    "<div class=\"toc\"><ul class=\"toc-item\"><li><span><a href=\"#Задачи\" data-toc-modified-id=\"Задачи-1\"><span class=\"toc-item-num\">1&nbsp;&nbsp;</span>Задачи</a></span></li><li><span><a href=\"#Создание-функции-разделения-пользователей\" data-toc-modified-id=\"Создание-функции-разделения-пользователей-2\"><span class=\"toc-item-num\">2&nbsp;&nbsp;</span>Создание функции разделения пользователей</a></span><ul class=\"toc-item\"><li><span><a href=\"#Описание-алгоритма-функции\" data-toc-modified-id=\"Описание-алгоритма-функции-2.1\"><span class=\"toc-item-num\">2.1&nbsp;&nbsp;</span>Описание алгоритма функции</a></span></li><li><span><a href=\"#Тестирование-функции\" data-toc-modified-id=\"Тестирование-функции-2.2\"><span class=\"toc-item-num\">2.2&nbsp;&nbsp;</span>Тестирование функции</a></span></li></ul></li><li><span><a href=\"#Вывод\" data-toc-modified-id=\"Вывод-3\"><span class=\"toc-item-num\">3&nbsp;&nbsp;</span>Вывод</a></span></li></ul></div>"
   ]
  },
  {
   "cell_type": "markdown",
   "id": "19059cbc",
   "metadata": {},
   "source": [
    "# Создание и тестирование функции разделения пользователей на группы"
   ]
  },
  {
   "cell_type": "markdown",
   "id": "199b1e65",
   "metadata": {},
   "source": [
    "Для того чтобы мы могли проводить A/B тестирование, нам нужна функция, которая будет разделять пользователей на группы."
   ]
  },
  {
   "cell_type": "markdown",
   "id": "3c31c216",
   "metadata": {},
   "source": [
    "## Задачи\n",
    "\n",
    "- Написать функцию разделения пользователей на произвольное количество групп;\n",
    "- Протестировать функцию и сделать вывод о корректности деления пользователей."
   ]
  },
  {
   "cell_type": "markdown",
   "id": "f0fffbe9",
   "metadata": {},
   "source": [
    "## Создание функции разделения пользователей"
   ]
  },
  {
   "cell_type": "code",
   "execution_count": 1,
   "id": "0d2f840c",
   "metadata": {},
   "outputs": [],
   "source": [
    "import pandas as pd\n",
    "import numpy as np\n",
    "import hashlib\n",
    "import matplotlib.pyplot as plt\n",
    "import seaborn as sns\n",
    "import scipy.stats as st\n",
    "from tqdm import tqdm"
   ]
  },
  {
   "cell_type": "markdown",
   "id": "28d3d0e5",
   "metadata": {},
   "source": [
    "Напишем функцию для разделения пользователей на группы тестирования. При этом функция должна удовлетворять следующим требованиям:\n",
    "- Случайность попадания пользователя в определенную группу\n",
    "    - Данное требование поможет обеспечить нам однородность групп до начала эксперимента\n",
    "- Способ разбиения детерминирован\n",
    "    - При повторном запуске эксперимента, пользователь будет попадать в одну и ту же группу\n",
    "    - Также при соблюдении данного требования у пользователей не будет меняться группа в течении эксперимента\n",
    "    \n",
    "Для реализации такой функции, используем метод называемый хеширование с \"солью\""
   ]
  },
  {
   "cell_type": "code",
   "execution_count": 2,
   "id": "e7160c5b",
   "metadata": {},
   "outputs": [],
   "source": [
    "def ab_split(id, salt='exp_1', n_groups=4):\n",
    "    test_id = f'{str(id)}_{salt}'\n",
    "    test_id_digest = hashlib.md5(test_id.encode('ascii')).hexdigest()\n",
    "    test_id_final_int = int(test_id_digest, 16)\n",
    "    return test_id_final_int % n_groups"
   ]
  },
  {
   "cell_type": "markdown",
   "id": "822faf7b",
   "metadata": {},
   "source": [
    "Функция принимает на вход:\n",
    "- `id` - идентификатор пользователя, \n",
    "- `salt` - та самая \"соль\" - строка которая будет присоединена к id\n",
    "- `n_groups` - количество групп на которые мы хотим разделить всех пользователей"
   ]
  },
  {
   "cell_type": "markdown",
   "id": "55f0aecf",
   "metadata": {},
   "source": [
    "### Описание алгоритма функции"
   ]
  },
  {
   "cell_type": "markdown",
   "id": "b49fdc5a",
   "metadata": {},
   "source": [
    "- С помощью функции хеширования внутри нашей функции мы находим хеш-сумму из строки, в данном случае это число в шестнадцатеричной системе счисления;\n",
    "- далее переводим это число в десятеричную систему счисления;\n",
    "- после чего находим остаток от деления данного числа на количество групп, тем самым получим номер группы для отдельного пользователя;"
   ]
  },
  {
   "cell_type": "markdown",
   "id": "e1783786",
   "metadata": {},
   "source": [
    "### Тестирование функции"
   ]
  },
  {
   "cell_type": "markdown",
   "id": "a10c76ed",
   "metadata": {},
   "source": [
    "Для тестирования нашей функции разбиения, проделаем следующие шаги:\n",
    "1. Создадим датафрейм с id пользователей и значениями, сгенирированными из нормального распределения;\n",
    "2. Будем делать случайные выборки из датафрейма;\n",
    "3. Применим к случайной выборке функцию разделения пользователей с количеством групп = 4;\n",
    "4. Выберем две произвольные группы (например 0 и 2, остальные группы в эксперименте не участвуют);\n",
    "5. Проведем t-test и запишем полученный p-value в результирующий список;\n",
    "6. Повторим шаги 2-5 множество раз (например 1000)"
   ]
  },
  {
   "cell_type": "code",
   "execution_count": 3,
   "id": "8e721402",
   "metadata": {},
   "outputs": [
    {
     "data": {
      "text/html": [
       "<div>\n",
       "<style scoped>\n",
       "    .dataframe tbody tr th:only-of-type {\n",
       "        vertical-align: middle;\n",
       "    }\n",
       "\n",
       "    .dataframe tbody tr th {\n",
       "        vertical-align: top;\n",
       "    }\n",
       "\n",
       "    .dataframe thead th {\n",
       "        text-align: right;\n",
       "    }\n",
       "</style>\n",
       "<table border=\"1\" class=\"dataframe\">\n",
       "  <thead>\n",
       "    <tr style=\"text-align: right;\">\n",
       "      <th></th>\n",
       "      <th>id</th>\n",
       "      <th>value</th>\n",
       "    </tr>\n",
       "  </thead>\n",
       "  <tbody>\n",
       "    <tr>\n",
       "      <th>0</th>\n",
       "      <td>0</td>\n",
       "      <td>-0.293639</td>\n",
       "    </tr>\n",
       "    <tr>\n",
       "      <th>1</th>\n",
       "      <td>1</td>\n",
       "      <td>0.347411</td>\n",
       "    </tr>\n",
       "    <tr>\n",
       "      <th>2</th>\n",
       "      <td>2</td>\n",
       "      <td>-0.352419</td>\n",
       "    </tr>\n",
       "    <tr>\n",
       "      <th>3</th>\n",
       "      <td>3</td>\n",
       "      <td>-0.709620</td>\n",
       "    </tr>\n",
       "    <tr>\n",
       "      <th>4</th>\n",
       "      <td>4</td>\n",
       "      <td>-1.207074</td>\n",
       "    </tr>\n",
       "  </tbody>\n",
       "</table>\n",
       "</div>"
      ],
      "text/plain": [
       "   id     value\n",
       "0   0 -0.293639\n",
       "1   1  0.347411\n",
       "2   2 -0.352419\n",
       "3   3 -0.709620\n",
       "4   4 -1.207074"
      ]
     },
     "execution_count": 3,
     "metadata": {},
     "output_type": "execute_result"
    }
   ],
   "source": [
    "n = 1000000\n",
    "test_df = pd.DataFrame({'id': range(n), 'value': np.random.normal(size=n)})\n",
    "test_df.head()"
   ]
  },
  {
   "cell_type": "code",
   "execution_count": 4,
   "id": "7cf174db",
   "metadata": {},
   "outputs": [
    {
     "data": {
      "image/png": "[encoded data removed]",
      "text/plain": [
       "<Figure size 432x288 with 1 Axes>"
      ]
     },
     "metadata": {
      "needs_background": "light"
     },
     "output_type": "display_data"
    }
   ],
   "source": [
    "sns.histplot(test_df['value'])\n",
    "plt.title('Распределение значений value')\n",
    "plt.xlabel('value')\n",
    "plt.ylabel('Частота')\n",
    "plt.show()"
   ]
  },
  {
   "cell_type": "markdown",
   "id": "9163bda2",
   "metadata": {},
   "source": [
    "Данный датафрейм будет нашей смоделированной генеральной совокупностью. Так как выборки будут делаться из одной и той-же совокупности, мы сможем оценить корректность деления пользователей. Проведем 1000 экспериментов и запишем их результаты в список"
   ]
  },
  {
   "cell_type": "code",
   "execution_count": 5,
   "id": "e2639765",
   "metadata": {},
   "outputs": [
    {
     "name": "stderr",
     "output_type": "stream",
     "text": [
      "100%|██████████| 1000/1000 [00:31<00:00, 32.01it/s]\n"
     ]
    }
   ],
   "source": [
    "p_values = []\n",
    "\n",
    "for i in tqdm(range(1000)):\n",
    "    sample = test_df.sample(n=1000)\n",
    "    sample['group'] = sample['id'].apply(ab_split)\n",
    "    group_0 = sample[sample['group'] == 0]\n",
    "    group_2 = sample[sample['group'] == 2]\n",
    "    p_value = st.ttest_ind(group_0['value'], group_2['value'], equal_var=False).pvalue\n",
    "    p_values.append(p_value)"
   ]
  },
  {
   "cell_type": "markdown",
   "id": "c2dad5c0",
   "metadata": {},
   "source": [
    "Посмотрим на распределение значений p-value"
   ]
  },
  {
   "cell_type": "code",
   "execution_count": 6,
   "id": "a512a57a",
   "metadata": {},
   "outputs": [
    {
     "data": {
      "image/png": "[encoded data removed]",
      "text/plain": [
       "<Figure size 432x288 with 1 Axes>"
      ]
     },
     "metadata": {
      "needs_background": "light"
     },
     "output_type": "display_data"
    }
   ],
   "source": [
    "sns.histplot(p_values)\n",
    "plt.title('Распределение значений p-value')\n",
    "plt.xlabel('p-value')\n",
    "plt.ylabel('Количество')\n",
    "plt.show()"
   ]
  },
  {
   "cell_type": "markdown",
   "id": "51342450",
   "metadata": {},
   "source": [
    "Распределение значений p-value стремится к равномерному. Теперь рассчитаем долю p-value которые были ниже уровня значимости в 5%. Если наша система разделения пользователей работает корректно, то доля должна быть примерно равна уровню значимости т.е. 0.05"
   ]
  },
  {
   "cell_type": "code",
   "execution_count": 7,
   "id": "352b5f2a",
   "metadata": {},
   "outputs": [
    {
     "data": {
      "text/plain": [
       "0.048"
      ]
     },
     "execution_count": 7,
     "metadata": {},
     "output_type": "execute_result"
    }
   ],
   "source": [
    "p_values = pd.Series(p_values)\n",
    "alpha = 0.05\n",
    "(p_values < alpha).mean()"
   ]
  },
  {
   "cell_type": "markdown",
   "id": "d118c977",
   "metadata": {},
   "source": [
    "## Вывод"
   ]
  },
  {
   "cell_type": "markdown",
   "id": "8539d733",
   "metadata": {},
   "source": [
    "Доля ошибок первого рода допущенных в 1000 экспериментов составила примерно 0.05. Это значит, что наша функция деления пользователей работает корректно"
   ]
  }
 ],
 "metadata": {
  "kernelspec": {
   "display_name": "Python 3",
   "language": "python",
   "name": "python3"
  },
  "language_info": {
   "codemirror_mode": {
    "name": "ipython",
    "version": 3
   },
   "file_extension": ".py",
   "mimetype": "text/x-python",
   "name": "python",
   "nbconvert_exporter": "python",
   "pygments_lexer": "ipython3",
   "version": "3.8.10"
  },
  "toc": {
   "base_numbering": 1,
   "nav_menu": {},
   "number_sections": true,
   "sideBar": true,
   "skip_h1_title": true,
   "title_cell": "Содержание",
   "title_sidebar": "Contents",
   "toc_cell": true,
   "toc_position": {},
   "toc_section_display": true,
   "toc_window_display": false
  }
 },
 "nbformat": 4,
 "nbformat_minor": 5
}
